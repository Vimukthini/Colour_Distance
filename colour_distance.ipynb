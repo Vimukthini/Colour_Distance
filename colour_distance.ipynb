{
 "cells": [
  {
   "cell_type": "code",
   "execution_count": 14,
   "metadata": {},
   "outputs": [
    {
     "data": {
      "text/plain": [
       "<module 'calculate_distance' from 'D:\\\\07_Colour_Distance\\\\calculate_distance.py'>"
      ]
     },
     "execution_count": 14,
     "metadata": {},
     "output_type": "execute_result"
    }
   ],
   "source": [
    "import pandas as pd\n",
    "import numpy as np\n",
    "import scipy as sp\n",
    "import random\n",
    "from scipy.stats import chi2\n",
    "import plotly.express as px\n",
    "\n",
    "import calculate_distance as cd\n",
    "\n",
    "#from __future__ import print_function\n",
    "import time\n",
    "from sklearn.datasets import fetch_openml\n",
    "from sklearn.decomposition import PCA\n",
    "from sklearn.manifold import TSNE\n",
    "%matplotlib inline\n",
    "import matplotlib.pyplot as plt\n",
    "from mpl_toolkits.mplot3d import Axes3D\n",
    "import seaborn as sns\n",
    "\n",
    "import importlib\n",
    "importlib.reload(cd)"
   ]
  },
  {
   "cell_type": "code",
   "execution_count": 15,
   "metadata": {},
   "outputs": [
    {
     "data": {
      "text/html": [
       "<div>\n",
       "<style scoped>\n",
       "    .dataframe tbody tr th:only-of-type {\n",
       "        vertical-align: middle;\n",
       "    }\n",
       "\n",
       "    .dataframe tbody tr th {\n",
       "        vertical-align: top;\n",
       "    }\n",
       "\n",
       "    .dataframe thead th {\n",
       "        text-align: right;\n",
       "    }\n",
       "</style>\n",
       "<table border=\"1\" class=\"dataframe\">\n",
       "  <thead>\n",
       "    <tr style=\"text-align: right;\">\n",
       "      <th></th>\n",
       "      <th>type</th>\n",
       "      <th>colormap</th>\n",
       "    </tr>\n",
       "  </thead>\n",
       "  <tbody>\n",
       "    <tr>\n",
       "      <th>0</th>\n",
       "      <td>bird_black_1</td>\n",
       "      <td>[{'x': 0.0, 'y': 0.108359135687351}, {'x': 36....</td>\n",
       "    </tr>\n",
       "    <tr>\n",
       "      <th>1</th>\n",
       "      <td>bird_black_2</td>\n",
       "      <td>[{'x': 0.0, 'y': 0.122055672109127}, {'x': 36....</td>\n",
       "    </tr>\n",
       "    <tr>\n",
       "      <th>2</th>\n",
       "      <td>bird_black_3</td>\n",
       "      <td>[{'x': 0.0, 'y': 0.13507853448390902}, {'x': 3...</td>\n",
       "    </tr>\n",
       "    <tr>\n",
       "      <th>3</th>\n",
       "      <td>bird_black_4</td>\n",
       "      <td>[{'x': 0.0, 'y': 0.108540922403335}, {'x': 36....</td>\n",
       "    </tr>\n",
       "    <tr>\n",
       "      <th>4</th>\n",
       "      <td>bird_black_5</td>\n",
       "      <td>[{'x': 0.0, 'y': 0.085764810442924}, {'x': 36....</td>\n",
       "    </tr>\n",
       "    <tr>\n",
       "      <th>...</th>\n",
       "      <td>...</td>\n",
       "      <td>...</td>\n",
       "    </tr>\n",
       "    <tr>\n",
       "      <th>274</th>\n",
       "      <td>novel_object_9_1_5</td>\n",
       "      <td>[{'x': 36.0, 'y': 0.027777777984738003}, {'x':...</td>\n",
       "    </tr>\n",
       "    <tr>\n",
       "      <th>275</th>\n",
       "      <td>novel_object_10_1_5</td>\n",
       "      <td>[{'x': 0.0, 'y': 0.885638296604156}, {'x': 4.0...</td>\n",
       "    </tr>\n",
       "    <tr>\n",
       "      <th>276</th>\n",
       "      <td>novel_object_11_1_5</td>\n",
       "      <td>[{'x': 0.0, 'y': 0.7948113083839411}, {'x': 15...</td>\n",
       "    </tr>\n",
       "    <tr>\n",
       "      <th>277</th>\n",
       "      <td>novel_object_7_1_5</td>\n",
       "      <td>[{'x': 0.0, 'y': 0.9424306750297541}, {'x': 22...</td>\n",
       "    </tr>\n",
       "    <tr>\n",
       "      <th>278</th>\n",
       "      <td>novel_object_0_3_2</td>\n",
       "      <td>[{'x': 84.0, 'y': 0.07627118378877601}, {'x': ...</td>\n",
       "    </tr>\n",
       "  </tbody>\n",
       "</table>\n",
       "<p>279 rows × 2 columns</p>\n",
       "</div>"
      ],
      "text/plain": [
       "                    type                                           colormap\n",
       "0           bird_black_1  [{'x': 0.0, 'y': 0.108359135687351}, {'x': 36....\n",
       "1           bird_black_2  [{'x': 0.0, 'y': 0.122055672109127}, {'x': 36....\n",
       "2           bird_black_3  [{'x': 0.0, 'y': 0.13507853448390902}, {'x': 3...\n",
       "3           bird_black_4  [{'x': 0.0, 'y': 0.108540922403335}, {'x': 36....\n",
       "4           bird_black_5  [{'x': 0.0, 'y': 0.085764810442924}, {'x': 36....\n",
       "..                   ...                                                ...\n",
       "274   novel_object_9_1_5  [{'x': 36.0, 'y': 0.027777777984738003}, {'x':...\n",
       "275  novel_object_10_1_5  [{'x': 0.0, 'y': 0.885638296604156}, {'x': 4.0...\n",
       "276  novel_object_11_1_5  [{'x': 0.0, 'y': 0.7948113083839411}, {'x': 15...\n",
       "277   novel_object_7_1_5  [{'x': 0.0, 'y': 0.9424306750297541}, {'x': 22...\n",
       "278   novel_object_0_3_2  [{'x': 84.0, 'y': 0.07627118378877601}, {'x': ...\n",
       "\n",
       "[279 rows x 2 columns]"
      ]
     },
     "execution_count": 15,
     "metadata": {},
     "output_type": "execute_result"
    }
   ],
   "source": [
    "data = pd.read_json(\"BaseMap_all.json\")\n",
    "data = data[2:].copy().reset_index(drop=True)\n",
    "data"
   ]
  },
  {
   "cell_type": "code",
   "execution_count": 16,
   "metadata": {},
   "outputs": [],
   "source": [
    "split_type = data['type'].str.split('_')"
   ]
  },
  {
   "cell_type": "code",
   "execution_count": 17,
   "metadata": {},
   "outputs": [],
   "source": [
    "object_name = []\n",
    "for item in split_type:\n",
    "    #print(item[0])\n",
    "    if item[0]=='bird':\n",
    "        object_name.append(item[0]+\"_\"+item[1])\n",
    "    elif item[0]=='novel':\n",
    "        object_name.append(item[0]+\"_\"+item[1]+\"_\"+item[3]+\"_\"+item[4])\n",
    "    else:\n",
    "        object_name.append(item[0])"
   ]
  },
  {
   "cell_type": "code",
   "execution_count": 18,
   "metadata": {},
   "outputs": [],
   "source": [
    "data['name'] = object_name"
   ]
  },
  {
   "cell_type": "code",
   "execution_count": 19,
   "metadata": {},
   "outputs": [
    {
     "data": {
      "text/plain": [
       "(279, 256)"
      ]
     },
     "execution_count": 19,
     "metadata": {},
     "output_type": "execute_result"
    }
   ],
   "source": [
    "colarray = []\n",
    "for item in data['colormap']:\n",
    "    row = item\n",
    "    colarray.append(cd.colormapfunction(item))\n",
    "    \n",
    "X = np.array(colarray).reshape(-1,256)\n",
    "X.shape"
   ]
  },
  {
   "cell_type": "code",
   "execution_count": 20,
   "metadata": {},
   "outputs": [
    {
     "name": "stdout",
     "output_type": "stream",
     "text": [
      "Size of the dataframe: (279, 257)\n"
     ]
    }
   ],
   "source": [
    "#creating the inputs for model\n",
    "feat_cols = [ 'color '+str(i) for i in range(X.shape[1]) ]\n",
    "DF = pd.DataFrame(X,columns=feat_cols)\n",
    "\n",
    "DF['name'] = object_name\n",
    "\n",
    "# pd.set_option('display.max_columns', None) # Show All Columns in Preview\n",
    "print('Size of the dataframe: {}'.format(DF.shape))"
   ]
  },
  {
   "cell_type": "code",
   "execution_count": 21,
   "metadata": {},
   "outputs": [
    {
     "data": {
      "text/plain": [
       "279"
      ]
     },
     "execution_count": 21,
     "metadata": {},
     "output_type": "execute_result"
    }
   ],
   "source": [
    "# For reproducability of the results\n",
    "np.random.seed(42)\n",
    "rndperm = np.random.permutation(data.shape[0])\n",
    "rndperm\n",
    "len(rndperm)"
   ]
  },
  {
   "cell_type": "code",
   "execution_count": 22,
   "metadata": {},
   "outputs": [
    {
     "data": {
      "text/plain": [
       "25"
      ]
     },
     "execution_count": 22,
     "metadata": {},
     "output_type": "execute_result"
    }
   ],
   "source": [
    "len(set(object_name))"
   ]
  },
  {
   "cell_type": "code",
   "execution_count": 31,
   "metadata": {},
   "outputs": [
    {
     "data": {
      "text/plain": [
       "['bird_black',\n",
       " 'bird_blue',\n",
       " 'bird_red',\n",
       " 'bird_white',\n",
       " 'bird_yellow',\n",
       " 'tnt',\n",
       " 'platform',\n",
       " 'ice',\n",
       " 'pig',\n",
       " 'stone',\n",
       " 'wood',\n",
       " 'novel_object_1_6',\n",
       " 'novel_object_1_7',\n",
       " 'novel_object_1_8',\n",
       " 'novel_object_1_9',\n",
       " 'novel_object_1_10',\n",
       " 'novel_object_1_11',\n",
       " 'novel_object_1_12',\n",
       " 'novel_object_1_13',\n",
       " 'novel_object_1_1',\n",
       " 'novel_object_1_2',\n",
       " 'novel_object_1_3',\n",
       " 'novel_object_1_4',\n",
       " 'novel_object_1_5',\n",
       " 'novel_object_3_2']"
      ]
     },
     "execution_count": 31,
     "metadata": {},
     "output_type": "execute_result"
    }
   ],
   "source": [
    "list(DF['name'].unique())"
   ]
  },
  {
   "cell_type": "code",
   "execution_count": 23,
   "metadata": {},
   "outputs": [],
   "source": [
    "#Check T-SNE\n",
    "N = 10000\n",
    "df_subset = DF.loc[rndperm[:N],:].copy()\n",
    "data_subset = df_subset[feat_cols].values"
   ]
  },
  {
   "cell_type": "code",
   "execution_count": 24,
   "metadata": {},
   "outputs": [
    {
     "name": "stdout",
     "output_type": "stream",
     "text": [
      "[t-SNE] Computing 151 nearest neighbors...\n",
      "[t-SNE] Indexed 279 samples in 0.000s...\n",
      "[t-SNE] Computed neighbors for 279 samples in 0.005s...\n",
      "[t-SNE] Computed conditional probabilities for sample 279 / 279\n",
      "[t-SNE] Mean sigma: 0.312831\n",
      "[t-SNE] KL divergence after 250 iterations with early exaggeration: 56.493092\n",
      "[t-SNE] KL divergence after 500 iterations: 0.124136\n",
      "t-SNE done! Time elapsed: 0.30518269538879395 seconds\n"
     ]
    }
   ],
   "source": [
    "time_start = time.time()\n",
    "tsne = TSNE(n_components=2, verbose=1, perplexity=50, n_iter=500)\n",
    "tsne_results = tsne.fit_transform(data_subset)\n",
    "print('t-SNE done! Time elapsed: {} seconds'.format(time.time()-time_start))"
   ]
  },
  {
   "cell_type": "code",
   "execution_count": null,
   "metadata": {},
   "outputs": [],
   "source": []
  },
  {
   "cell_type": "code",
   "execution_count": 32,
   "metadata": {},
   "outputs": [
    {
     "data": {
      "text/plain": [
       "<matplotlib.axes._subplots.AxesSubplot at 0x1b61f281388>"
      ]
     },
     "execution_count": 32,
     "metadata": {},
     "output_type": "execute_result"
    },
    {
     "data": {
      "image/png": "[encoded data removed]",
      "text/plain": [
       "<Figure size 720x720 with 1 Axes>"
      ]
     },
     "metadata": {
      "needs_background": "light"
     },
     "output_type": "display_data"
    }
   ],
   "source": [
    "df_subset['tsne-2d-one'] = tsne_results[:,0]\n",
    "df_subset['tsne-2d-two'] = tsne_results[:,1]\n",
    "plt.figure(figsize=(10,10))\n",
    "sns.scatterplot(\n",
    "    x=\"tsne-2d-one\", y=\"tsne-2d-two\",\n",
    "    hue=\"name\",\n",
    "    palette=sns.color_palette(\"hls\", 25),\n",
    "    data=df_subset,\n",
    "    legend=\"full\",\n",
    "    alpha=0.6\n",
    ")"
   ]
  },
  {
   "cell_type": "code",
   "execution_count": 33,
   "metadata": {},
   "outputs": [
    {
     "data": {
      "text/plain": [
       "['bird_black',\n",
       " 'bird_blue',\n",
       " 'bird_red',\n",
       " 'bird_white',\n",
       " 'bird_yellow',\n",
       " 'tnt',\n",
       " 'platform',\n",
       " 'ice',\n",
       " 'pig',\n",
       " 'stone',\n",
       " 'wood',\n",
       " 'novel_object_1_6',\n",
       " 'novel_object_1_7',\n",
       " 'novel_object_1_8',\n",
       " 'novel_object_1_9',\n",
       " 'novel_object_1_10',\n",
       " 'novel_object_1_11',\n",
       " 'novel_object_1_12',\n",
       " 'novel_object_1_13',\n",
       " 'novel_object_1_1',\n",
       " 'novel_object_1_2',\n",
       " 'novel_object_1_3',\n",
       " 'novel_object_1_4',\n",
       " 'novel_object_1_5',\n",
       " 'novel_object_3_2']"
      ]
     },
     "execution_count": 33,
     "metadata": {},
     "output_type": "execute_result"
    }
   ],
   "source": [
    "## Calculating Mahalanobis Distances using DF\n",
    "list(DF['name'].unique())"
   ]
  },
  {
   "cell_type": "code",
   "execution_count": 34,
   "metadata": {},
   "outputs": [
    {
     "data": {
      "text/plain": [
       "279"
      ]
     },
     "execution_count": 34,
     "metadata": {},
     "output_type": "execute_result"
    }
   ],
   "source": [
    "len(DF)"
   ]
  },
  {
   "cell_type": "code",
   "execution_count": 35,
   "metadata": {},
   "outputs": [
    {
     "data": {
      "text/html": [
       "<div>\n",
       "<style scoped>\n",
       "    .dataframe tbody tr th:only-of-type {\n",
       "        vertical-align: middle;\n",
       "    }\n",
       "\n",
       "    .dataframe tbody tr th {\n",
       "        vertical-align: top;\n",
       "    }\n",
       "\n",
       "    .dataframe thead th {\n",
       "        text-align: right;\n",
       "    }\n",
       "</style>\n",
       "<table border=\"1\" class=\"dataframe\">\n",
       "  <thead>\n",
       "    <tr style=\"text-align: right;\">\n",
       "      <th></th>\n",
       "      <th>type</th>\n",
       "      <th>colormap</th>\n",
       "      <th>name</th>\n",
       "    </tr>\n",
       "  </thead>\n",
       "  <tbody>\n",
       "    <tr>\n",
       "      <th>0</th>\n",
       "      <td>bird_black_1</td>\n",
       "      <td>[{'x': 0.0, 'y': 0.108359135687351}, {'x': 36....</td>\n",
       "      <td>bird_black</td>\n",
       "    </tr>\n",
       "    <tr>\n",
       "      <th>1</th>\n",
       "      <td>bird_black_2</td>\n",
       "      <td>[{'x': 0.0, 'y': 0.122055672109127}, {'x': 36....</td>\n",
       "      <td>bird_black</td>\n",
       "    </tr>\n",
       "    <tr>\n",
       "      <th>2</th>\n",
       "      <td>bird_black_3</td>\n",
       "      <td>[{'x': 0.0, 'y': 0.13507853448390902}, {'x': 3...</td>\n",
       "      <td>bird_black</td>\n",
       "    </tr>\n",
       "    <tr>\n",
       "      <th>3</th>\n",
       "      <td>bird_black_4</td>\n",
       "      <td>[{'x': 0.0, 'y': 0.108540922403335}, {'x': 36....</td>\n",
       "      <td>bird_black</td>\n",
       "    </tr>\n",
       "    <tr>\n",
       "      <th>4</th>\n",
       "      <td>bird_black_5</td>\n",
       "      <td>[{'x': 0.0, 'y': 0.085764810442924}, {'x': 36....</td>\n",
       "      <td>bird_black</td>\n",
       "    </tr>\n",
       "    <tr>\n",
       "      <th>...</th>\n",
       "      <td>...</td>\n",
       "      <td>...</td>\n",
       "      <td>...</td>\n",
       "    </tr>\n",
       "    <tr>\n",
       "      <th>274</th>\n",
       "      <td>novel_object_9_1_5</td>\n",
       "      <td>[{'x': 36.0, 'y': 0.027777777984738003}, {'x':...</td>\n",
       "      <td>novel_object_1_5</td>\n",
       "    </tr>\n",
       "    <tr>\n",
       "      <th>275</th>\n",
       "      <td>novel_object_10_1_5</td>\n",
       "      <td>[{'x': 0.0, 'y': 0.885638296604156}, {'x': 4.0...</td>\n",
       "      <td>novel_object_1_5</td>\n",
       "    </tr>\n",
       "    <tr>\n",
       "      <th>276</th>\n",
       "      <td>novel_object_11_1_5</td>\n",
       "      <td>[{'x': 0.0, 'y': 0.7948113083839411}, {'x': 15...</td>\n",
       "      <td>novel_object_1_5</td>\n",
       "    </tr>\n",
       "    <tr>\n",
       "      <th>277</th>\n",
       "      <td>novel_object_7_1_5</td>\n",
       "      <td>[{'x': 0.0, 'y': 0.9424306750297541}, {'x': 22...</td>\n",
       "      <td>novel_object_1_5</td>\n",
       "    </tr>\n",
       "    <tr>\n",
       "      <th>278</th>\n",
       "      <td>novel_object_0_3_2</td>\n",
       "      <td>[{'x': 84.0, 'y': 0.07627118378877601}, {'x': ...</td>\n",
       "      <td>novel_object_3_2</td>\n",
       "    </tr>\n",
       "  </tbody>\n",
       "</table>\n",
       "<p>279 rows × 3 columns</p>\n",
       "</div>"
      ],
      "text/plain": [
       "                    type                                           colormap  \\\n",
       "0           bird_black_1  [{'x': 0.0, 'y': 0.108359135687351}, {'x': 36....   \n",
       "1           bird_black_2  [{'x': 0.0, 'y': 0.122055672109127}, {'x': 36....   \n",
       "2           bird_black_3  [{'x': 0.0, 'y': 0.13507853448390902}, {'x': 3...   \n",
       "3           bird_black_4  [{'x': 0.0, 'y': 0.108540922403335}, {'x': 36....   \n",
       "4           bird_black_5  [{'x': 0.0, 'y': 0.085764810442924}, {'x': 36....   \n",
       "..                   ...                                                ...   \n",
       "274   novel_object_9_1_5  [{'x': 36.0, 'y': 0.027777777984738003}, {'x':...   \n",
       "275  novel_object_10_1_5  [{'x': 0.0, 'y': 0.885638296604156}, {'x': 4.0...   \n",
       "276  novel_object_11_1_5  [{'x': 0.0, 'y': 0.7948113083839411}, {'x': 15...   \n",
       "277   novel_object_7_1_5  [{'x': 0.0, 'y': 0.9424306750297541}, {'x': 22...   \n",
       "278   novel_object_0_3_2  [{'x': 84.0, 'y': 0.07627118378877601}, {'x': ...   \n",
       "\n",
       "                 name  \n",
       "0          bird_black  \n",
       "1          bird_black  \n",
       "2          bird_black  \n",
       "3          bird_black  \n",
       "4          bird_black  \n",
       "..                ...  \n",
       "274  novel_object_1_5  \n",
       "275  novel_object_1_5  \n",
       "276  novel_object_1_5  \n",
       "277  novel_object_1_5  \n",
       "278  novel_object_3_2  \n",
       "\n",
       "[279 rows x 3 columns]"
      ]
     },
     "execution_count": 35,
     "metadata": {},
     "output_type": "execute_result"
    }
   ],
   "source": [
    "data"
   ]
  },
  {
   "cell_type": "code",
   "execution_count": 36,
   "metadata": {},
   "outputs": [],
   "source": [
    "DF['type']=data['type']"
   ]
  },
  {
   "cell_type": "code",
   "execution_count": 37,
   "metadata": {},
   "outputs": [],
   "source": [
    "novel_checklist = list(DF[DF['type'].str.contains('novel')]['type'])\n",
    "\n",
    "std_checkllist = ['bird_black','bird_blue','bird_red','bird_white','bird_yellow','tnt',\n",
    " 'platform','ice','pig','stone','wood']\n",
    "\n",
    "# novel_checklist = [\"novel_object_0_1_6\"]\n",
    "# std_checkllist = ['bird_blue']"
   ]
  },
  {
   "cell_type": "code",
   "execution_count": 38,
   "metadata": {},
   "outputs": [],
   "source": [
    "novel_obj_list = []\n",
    "check_obj_list = []\n",
    "mahanalobis_distance = []\n",
    "p_value = []\n",
    "significance = []\n",
    "\n",
    "for novel_obj in novel_checklist:\n",
    "    object_to_check = DF[DF['type']==novel_obj].copy()\n",
    "    object_to_check.drop(['name','type'],axis=1,inplace=True)\n",
    "    \n",
    "    for obj_category in std_checkllist:\n",
    "        print(novel_obj, obj_category)\n",
    "        objects = DF[DF['name']==obj_category].copy()\n",
    "        objects.reset_index(inplace=True)\n",
    "        objects.drop(['name','index','type'],axis=1,inplace=True)\n",
    "        \n",
    "        data_to_generate = int(1000/len(objects))\n",
    "        \n",
    "        noisy_data = cd.generate_noisy_data(2,data_to_generate,objects)\n",
    "        \n",
    "        objects = pd.concat([object_to_check,objects,noisy_data])\n",
    "        objects.reset_index(drop=True,inplace=True)\n",
    "        objects = objects.loc[:,(objects!=0).any(axis=0)]\n",
    "        \n",
    "        dof = len(objects.columns)\n",
    "        \n",
    "        m_dist = cd.mahalanobis(objects[0:1],objects)[0]\n",
    "        p_val = 1 - chi2.cdf(np.abs(m_dist), dof)\n",
    "        \n",
    "        novel_obj_list.append(novel_obj)\n",
    "        check_obj_list.append(obj_category)\n",
    "        mahanalobis_distance.append(np.abs(m_dist))\n",
    "        p_value.append(p_val)\n",
    "        significance.append(p_val<0.001)"
   ]
  },
  {
   "cell_type": "code",
   "execution_count": 39,
   "metadata": {},
   "outputs": [
    {
     "data": {
      "text/html": [
       "<div>\n",
       "<style scoped>\n",
       "    .dataframe tbody tr th:only-of-type {\n",
       "        vertical-align: middle;\n",
       "    }\n",
       "\n",
       "    .dataframe tbody tr th {\n",
       "        vertical-align: top;\n",
       "    }\n",
       "\n",
       "    .dataframe thead th {\n",
       "        text-align: right;\n",
       "    }\n",
       "</style>\n",
       "<table border=\"1\" class=\"dataframe\">\n",
       "  <thead>\n",
       "    <tr style=\"text-align: right;\">\n",
       "      <th></th>\n",
       "      <th>novel_obj_list</th>\n",
       "      <th>check_obj_list</th>\n",
       "      <th>mahanalobis_distance</th>\n",
       "      <th>p_value</th>\n",
       "      <th>significance</th>\n",
       "    </tr>\n",
       "  </thead>\n",
       "  <tbody>\n",
       "    <tr>\n",
       "      <th>0</th>\n",
       "      <td>novel_object_0_1_6</td>\n",
       "      <td>bird_black</td>\n",
       "      <td>992.401200</td>\n",
       "      <td>0.000000</td>\n",
       "      <td>True</td>\n",
       "    </tr>\n",
       "    <tr>\n",
       "      <th>1</th>\n",
       "      <td>novel_object_0_1_6</td>\n",
       "      <td>bird_blue</td>\n",
       "      <td>306.394234</td>\n",
       "      <td>0.016802</td>\n",
       "      <td>False</td>\n",
       "    </tr>\n",
       "    <tr>\n",
       "      <th>2</th>\n",
       "      <td>novel_object_0_1_6</td>\n",
       "      <td>bird_red</td>\n",
       "      <td>993.002856</td>\n",
       "      <td>0.000000</td>\n",
       "      <td>True</td>\n",
       "    </tr>\n",
       "    <tr>\n",
       "      <th>3</th>\n",
       "      <td>novel_object_0_1_6</td>\n",
       "      <td>bird_white</td>\n",
       "      <td>1021.211244</td>\n",
       "      <td>0.000000</td>\n",
       "      <td>True</td>\n",
       "    </tr>\n",
       "    <tr>\n",
       "      <th>4</th>\n",
       "      <td>novel_object_0_1_6</td>\n",
       "      <td>bird_yellow</td>\n",
       "      <td>1036.150462</td>\n",
       "      <td>0.000000</td>\n",
       "      <td>True</td>\n",
       "    </tr>\n",
       "    <tr>\n",
       "      <th>...</th>\n",
       "      <td>...</td>\n",
       "      <td>...</td>\n",
       "      <td>...</td>\n",
       "      <td>...</td>\n",
       "      <td>...</td>\n",
       "    </tr>\n",
       "    <tr>\n",
       "      <th>754</th>\n",
       "      <td>novel_object_0_3_2</td>\n",
       "      <td>platform</td>\n",
       "      <td>1017.336669</td>\n",
       "      <td>0.000000</td>\n",
       "      <td>True</td>\n",
       "    </tr>\n",
       "    <tr>\n",
       "      <th>755</th>\n",
       "      <td>novel_object_0_3_2</td>\n",
       "      <td>ice</td>\n",
       "      <td>976.922777</td>\n",
       "      <td>0.000000</td>\n",
       "      <td>True</td>\n",
       "    </tr>\n",
       "    <tr>\n",
       "      <th>756</th>\n",
       "      <td>novel_object_0_3_2</td>\n",
       "      <td>pig</td>\n",
       "      <td>971.841797</td>\n",
       "      <td>0.000000</td>\n",
       "      <td>True</td>\n",
       "    </tr>\n",
       "    <tr>\n",
       "      <th>757</th>\n",
       "      <td>novel_object_0_3_2</td>\n",
       "      <td>stone</td>\n",
       "      <td>989.926582</td>\n",
       "      <td>0.000000</td>\n",
       "      <td>True</td>\n",
       "    </tr>\n",
       "    <tr>\n",
       "      <th>758</th>\n",
       "      <td>novel_object_0_3_2</td>\n",
       "      <td>wood</td>\n",
       "      <td>975.600820</td>\n",
       "      <td>0.000000</td>\n",
       "      <td>True</td>\n",
       "    </tr>\n",
       "  </tbody>\n",
       "</table>\n",
       "<p>759 rows × 5 columns</p>\n",
       "</div>"
      ],
      "text/plain": [
       "         novel_obj_list check_obj_list  mahanalobis_distance   p_value  \\\n",
       "0    novel_object_0_1_6     bird_black            992.401200  0.000000   \n",
       "1    novel_object_0_1_6      bird_blue            306.394234  0.016802   \n",
       "2    novel_object_0_1_6       bird_red            993.002856  0.000000   \n",
       "3    novel_object_0_1_6     bird_white           1021.211244  0.000000   \n",
       "4    novel_object_0_1_6    bird_yellow           1036.150462  0.000000   \n",
       "..                  ...            ...                   ...       ...   \n",
       "754  novel_object_0_3_2       platform           1017.336669  0.000000   \n",
       "755  novel_object_0_3_2            ice            976.922777  0.000000   \n",
       "756  novel_object_0_3_2            pig            971.841797  0.000000   \n",
       "757  novel_object_0_3_2          stone            989.926582  0.000000   \n",
       "758  novel_object_0_3_2           wood            975.600820  0.000000   \n",
       "\n",
       "     significance  \n",
       "0            True  \n",
       "1           False  \n",
       "2            True  \n",
       "3            True  \n",
       "4            True  \n",
       "..            ...  \n",
       "754          True  \n",
       "755          True  \n",
       "756          True  \n",
       "757          True  \n",
       "758          True  \n",
       "\n",
       "[759 rows x 5 columns]"
      ]
     },
     "execution_count": 39,
     "metadata": {},
     "output_type": "execute_result"
    }
   ],
   "source": [
    "df = {\"novel_obj_list\":novel_obj_list,\"check_obj_list\":check_obj_list,\"mahanalobis_distance\":\n",
    "      mahanalobis_distance,\"p_value\":p_value,\"significance\":significance}\n",
    "df = pd.DataFrame(df)\n",
    "df"
   ]
  },
  {
   "cell_type": "code",
   "execution_count": 40,
   "metadata": {},
   "outputs": [],
   "source": [
    "#novel_checklist\n",
    "\n",
    "object_name = []\n",
    "difficulty = []\n",
    "for novel_obj in novel_checklist:\n",
    "    DM = 1/min(df[df['novel_obj_list']==novel_obj]['mahanalobis_distance'])\n",
    "    object_name.append(novel_obj)\n",
    "    difficulty.append(DM)\n",
    "    \n",
    "dm_df = {\"object_name\":object_name,\"difficulty\":difficulty}\n",
    "dm_df = pd.DataFrame(dm_df)"
   ]
  },
  {
   "cell_type": "code",
   "execution_count": 68,
   "metadata": {},
   "outputs": [],
   "source": [
    "split_type = dm_df['object_name'].str.split('_')\n",
    "\n",
    "novel_name = []\n",
    "for item in split_type:\n",
    "    novel_name.append(item[0]+\"_\"+item[1]+\"_\"+item[3]+\"_\"+item[4])\n",
    "\n",
    "dm_df['novel_name'] = novel_name"
   ]
  },
  {
   "cell_type": "code",
   "execution_count": 69,
   "metadata": {},
   "outputs": [
    {
     "data": {
      "text/html": [
       "<div>\n",
       "<style scoped>\n",
       "    .dataframe tbody tr th:only-of-type {\n",
       "        vertical-align: middle;\n",
       "    }\n",
       "\n",
       "    .dataframe tbody tr th {\n",
       "        vertical-align: top;\n",
       "    }\n",
       "\n",
       "    .dataframe thead th {\n",
       "        text-align: right;\n",
       "    }\n",
       "</style>\n",
       "<table border=\"1\" class=\"dataframe\">\n",
       "  <thead>\n",
       "    <tr style=\"text-align: right;\">\n",
       "      <th></th>\n",
       "      <th>object_name</th>\n",
       "      <th>difficulty</th>\n",
       "      <th>novel_name</th>\n",
       "    </tr>\n",
       "  </thead>\n",
       "  <tbody>\n",
       "    <tr>\n",
       "      <th>0</th>\n",
       "      <td>novel_object_0_1_6</td>\n",
       "      <td>0.003264</td>\n",
       "      <td>novel_object_1_6</td>\n",
       "    </tr>\n",
       "    <tr>\n",
       "      <th>1</th>\n",
       "      <td>novel_object_1_1_6</td>\n",
       "      <td>0.001760</td>\n",
       "      <td>novel_object_1_6</td>\n",
       "    </tr>\n",
       "    <tr>\n",
       "      <th>2</th>\n",
       "      <td>novel_object_2_1_6</td>\n",
       "      <td>0.001039</td>\n",
       "      <td>novel_object_1_6</td>\n",
       "    </tr>\n",
       "    <tr>\n",
       "      <th>3</th>\n",
       "      <td>novel_object_3_1_6</td>\n",
       "      <td>0.001098</td>\n",
       "      <td>novel_object_1_6</td>\n",
       "    </tr>\n",
       "    <tr>\n",
       "      <th>4</th>\n",
       "      <td>novel_object_4_1_6</td>\n",
       "      <td>0.001791</td>\n",
       "      <td>novel_object_1_6</td>\n",
       "    </tr>\n",
       "    <tr>\n",
       "      <th>...</th>\n",
       "      <td>...</td>\n",
       "      <td>...</td>\n",
       "      <td>...</td>\n",
       "    </tr>\n",
       "    <tr>\n",
       "      <th>64</th>\n",
       "      <td>novel_object_9_1_5</td>\n",
       "      <td>0.002431</td>\n",
       "      <td>novel_object_1_5</td>\n",
       "    </tr>\n",
       "    <tr>\n",
       "      <th>65</th>\n",
       "      <td>novel_object_10_1_5</td>\n",
       "      <td>0.001279</td>\n",
       "      <td>novel_object_1_5</td>\n",
       "    </tr>\n",
       "    <tr>\n",
       "      <th>66</th>\n",
       "      <td>novel_object_11_1_5</td>\n",
       "      <td>0.001857</td>\n",
       "      <td>novel_object_1_5</td>\n",
       "    </tr>\n",
       "    <tr>\n",
       "      <th>67</th>\n",
       "      <td>novel_object_7_1_5</td>\n",
       "      <td>0.002014</td>\n",
       "      <td>novel_object_1_5</td>\n",
       "    </tr>\n",
       "    <tr>\n",
       "      <th>68</th>\n",
       "      <td>novel_object_0_3_2</td>\n",
       "      <td>0.001732</td>\n",
       "      <td>novel_object_3_2</td>\n",
       "    </tr>\n",
       "  </tbody>\n",
       "</table>\n",
       "<p>69 rows × 3 columns</p>\n",
       "</div>"
      ],
      "text/plain": [
       "            object_name  difficulty        novel_name\n",
       "0    novel_object_0_1_6    0.003264  novel_object_1_6\n",
       "1    novel_object_1_1_6    0.001760  novel_object_1_6\n",
       "2    novel_object_2_1_6    0.001039  novel_object_1_6\n",
       "3    novel_object_3_1_6    0.001098  novel_object_1_6\n",
       "4    novel_object_4_1_6    0.001791  novel_object_1_6\n",
       "..                  ...         ...               ...\n",
       "64   novel_object_9_1_5    0.002431  novel_object_1_5\n",
       "65  novel_object_10_1_5    0.001279  novel_object_1_5\n",
       "66  novel_object_11_1_5    0.001857  novel_object_1_5\n",
       "67   novel_object_7_1_5    0.002014  novel_object_1_5\n",
       "68   novel_object_0_3_2    0.001732  novel_object_3_2\n",
       "\n",
       "[69 rows x 3 columns]"
      ]
     },
     "execution_count": 69,
     "metadata": {},
     "output_type": "execute_result"
    }
   ],
   "source": [
    "dm_df"
   ]
  },
  {
   "cell_type": "code",
   "execution_count": 70,
   "metadata": {},
   "outputs": [
    {
     "data": {
      "application/vnd.plotly.v1+json": {
       "config": {
        "plotlyServerURL": "https://plot.ly"
       },
       "data": [
        {
         "hovertemplate": "object_name=novel_object_0_1_6<br>difficulty=%{x}<br>novel_name=%{y}<extra></extra>",
         "legendgroup": "novel_object_0_1_6",
         "marker": {
          "color": "#636efa",
          "symbol": "circle"
         },
         "mode": "markers",
         "name": "novel_object_0_1_6",
         "orientation": "h",
         "showlegend": true,
         "type": "scatter",
         "x": [
          0.0032637689913031873
         ],
         "xaxis": "x",
         "y": [
          "novel_object_1_6"
         ],
         "yaxis": "y"
        },
        {
         "hovertemplate": "object_name=novel_object_1_1_6<br>difficulty=%{x}<br>novel_name=%{y}<extra></extra>",
         "legendgroup": "novel_object_1_1_6",
         "marker": {
          "color": "#EF553B",
          "symbol": "circle"
         },
         "mode": "markers",
         "name": "novel_object_1_1_6",
         "orientation": "h",
         "showlegend": true,
         "type": "scatter",
         "x": [
          0.0017602287508625013
         ],
         "xaxis": "x",
         "y": [
          "novel_object_1_6"
         ],
         "yaxis": "y"
        },
        {
         "hovertemplate": "object_name=novel_object_2_1_6<br>difficulty=%{x}<br>novel_name=%{y}<extra></extra>",
         "legendgroup": "novel_object_2_1_6",
         "marker": {
          "color": "#00cc96",
          "symbol": "circle"
         },
         "mode": "markers",
         "name": "novel_object_2_1_6",
         "orientation": "h",
         "showlegend": true,
         "type": "scatter",
         "x": [
          0.0010390200833247673
         ],
         "xaxis": "x",
         "y": [
          "novel_object_1_6"
         ],
         "yaxis": "y"
        },
        {
         "hovertemplate": "object_name=novel_object_3_1_6<br>difficulty=%{x}<br>novel_name=%{y}<extra></extra>",
         "legendgroup": "novel_object_3_1_6",
         "marker": {
          "color": "#ab63fa",
          "symbol": "circle"
         },
         "mode": "markers",
         "name": "novel_object_3_1_6",
         "orientation": "h",
         "showlegend": true,
         "type": "scatter",
         "x": [
          0.0010982604560228369
         ],
         "xaxis": "x",
         "y": [
          "novel_object_1_6"
         ],
         "yaxis": "y"
        },
        {
         "hovertemplate": "object_name=novel_object_4_1_6<br>difficulty=%{x}<br>novel_name=%{y}<extra></extra>",
         "legendgroup": "novel_object_4_1_6",
         "marker": {
          "color": "#FFA15A",
          "symbol": "circle"
         },
         "mode": "markers",
         "name": "novel_object_4_1_6",
         "orientation": "h",
         "showlegend": true,
         "type": "scatter",
         "x": [
          0.0017909126227834068
         ],
         "xaxis": "x",
         "y": [
          "novel_object_1_6"
         ],
         "yaxis": "y"
        },
        {
         "hovertemplate": "object_name=novel_object_5_1_6<br>difficulty=%{x}<br>novel_name=%{y}<extra></extra>",
         "legendgroup": "novel_object_5_1_6",
         "marker": {
          "color": "#19d3f3",
          "symbol": "circle"
         },
         "mode": "markers",
         "name": "novel_object_5_1_6",
         "orientation": "h",
         "showlegend": true,
         "type": "scatter",
         "x": [
          0.0011331491833924741
         ],
         "xaxis": "x",
         "y": [
          "novel_object_1_6"
         ],
         "yaxis": "y"
        },
        {
         "hovertemplate": "object_name=novel_object_6_1_6<br>difficulty=%{x}<br>novel_name=%{y}<extra></extra>",
         "legendgroup": "novel_object_6_1_6",
         "marker": {
          "color": "#FF6692",
          "symbol": "circle"
         },
         "mode": "markers",
         "name": "novel_object_6_1_6",
         "orientation": "h",
         "showlegend": true,
         "type": "scatter",
         "x": [
          0.0010611240365660398
         ],
         "xaxis": "x",
         "y": [
          "novel_object_1_6"
         ],
         "yaxis": "y"
        },
        {
         "hovertemplate": "object_name=novel_object_7_1_6<br>difficulty=%{x}<br>novel_name=%{y}<extra></extra>",
         "legendgroup": "novel_object_7_1_6",
         "marker": {
          "color": "#B6E880",
          "symbol": "circle"
         },
         "mode": "markers",
         "name": "novel_object_7_1_6",
         "orientation": "h",
         "showlegend": true,
         "type": "scatter",
         "x": [
          0.0011066537343546294
         ],
         "xaxis": "x",
         "y": [
          "novel_object_1_6"
         ],
         "yaxis": "y"
        },
        {
         "hovertemplate": "object_name=novel_object_8_1_6<br>difficulty=%{x}<br>novel_name=%{y}<extra></extra>",
         "legendgroup": "novel_object_8_1_6",
         "marker": {
          "color": "#FF97FF",
          "symbol": "circle"
         },
         "mode": "markers",
         "name": "novel_object_8_1_6",
         "orientation": "h",
         "showlegend": true,
         "type": "scatter",
         "x": [
          0.0012024219325409004
         ],
         "xaxis": "x",
         "y": [
          "novel_object_1_6"
         ],
         "yaxis": "y"
        },
        {
         "hovertemplate": "object_name=novel_object_9_1_6<br>difficulty=%{x}<br>novel_name=%{y}<extra></extra>",
         "legendgroup": "novel_object_9_1_6",
         "marker": {
          "color": "#FECB52",
          "symbol": "circle"
         },
         "mode": "markers",
         "name": "novel_object_9_1_6",
         "orientation": "h",
         "showlegend": true,
         "type": "scatter",
         "x": [
          0.0010435588704811516
         ],
         "xaxis": "x",
         "y": [
          "novel_object_1_6"
         ],
         "yaxis": "y"
        },
        {
         "hovertemplate": "object_name=novel_object_10_1_6<br>difficulty=%{x}<br>novel_name=%{y}<extra></extra>",
         "legendgroup": "novel_object_10_1_6",
         "marker": {
          "color": "#636efa",
          "symbol": "circle"
         },
         "mode": "markers",
         "name": "novel_object_10_1_6",
         "orientation": "h",
         "showlegend": true,
         "type": "scatter",
         "x": [
          0.001131203629609501
         ],
         "xaxis": "x",
         "y": [
          "novel_object_1_6"
         ],
         "yaxis": "y"
        },
        {
         "hovertemplate": "object_name=novel_object_11_1_6<br>difficulty=%{x}<br>novel_name=%{y}<extra></extra>",
         "legendgroup": "novel_object_11_1_6",
         "marker": {
          "color": "#EF553B",
          "symbol": "circle"
         },
         "mode": "markers",
         "name": "novel_object_11_1_6",
         "orientation": "h",
         "showlegend": true,
         "type": "scatter",
         "x": [
          0.0010737406579176456
         ],
         "xaxis": "x",
         "y": [
          "novel_object_1_6"
         ],
         "yaxis": "y"
        },
        {
         "hovertemplate": "object_name=novel_object_0_1_7<br>difficulty=%{x}<br>novel_name=%{y}<extra></extra>",
         "legendgroup": "novel_object_0_1_7",
         "marker": {
          "color": "#00cc96",
          "symbol": "circle"
         },
         "mode": "markers",
         "name": "novel_object_0_1_7",
         "orientation": "h",
         "showlegend": true,
         "type": "scatter",
         "x": [
          0.012689529869337142
         ],
         "xaxis": "x",
         "y": [
          "novel_object_1_7"
         ],
         "yaxis": "y"
        },
        {
         "hovertemplate": "object_name=novel_object_1_1_7<br>difficulty=%{x}<br>novel_name=%{y}<extra></extra>",
         "legendgroup": "novel_object_1_1_7",
         "marker": {
          "color": "#ab63fa",
          "symbol": "circle"
         },
         "mode": "markers",
         "name": "novel_object_1_1_7",
         "orientation": "h",
         "showlegend": true,
         "type": "scatter",
         "x": [
          0.0025289585587228392
         ],
         "xaxis": "x",
         "y": [
          "novel_object_1_7"
         ],
         "yaxis": "y"
        },
        {
         "hovertemplate": "object_name=novel_object_2_1_7<br>difficulty=%{x}<br>novel_name=%{y}<extra></extra>",
         "legendgroup": "novel_object_2_1_7",
         "marker": {
          "color": "#FFA15A",
          "symbol": "circle"
         },
         "mode": "markers",
         "name": "novel_object_2_1_7",
         "orientation": "h",
         "showlegend": true,
         "type": "scatter",
         "x": [
          0.0010604854743458366
         ],
         "xaxis": "x",
         "y": [
          "novel_object_1_7"
         ],
         "yaxis": "y"
        },
        {
         "hovertemplate": "object_name=novel_object_3_1_7<br>difficulty=%{x}<br>novel_name=%{y}<extra></extra>",
         "legendgroup": "novel_object_3_1_7",
         "marker": {
          "color": "#19d3f3",
          "symbol": "circle"
         },
         "mode": "markers",
         "name": "novel_object_3_1_7",
         "orientation": "h",
         "showlegend": true,
         "type": "scatter",
         "x": [
          0.0011587238032110853
         ],
         "xaxis": "x",
         "y": [
          "novel_object_1_7"
         ],
         "yaxis": "y"
        },
        {
         "hovertemplate": "object_name=novel_object_4_1_7<br>difficulty=%{x}<br>novel_name=%{y}<extra></extra>",
         "legendgroup": "novel_object_4_1_7",
         "marker": {
          "color": "#FF6692",
          "symbol": "circle"
         },
         "mode": "markers",
         "name": "novel_object_4_1_7",
         "orientation": "h",
         "showlegend": true,
         "type": "scatter",
         "x": [
          0.0011660788124326967
         ],
         "xaxis": "x",
         "y": [
          "novel_object_1_7"
         ],
         "yaxis": "y"
        },
        {
         "hovertemplate": "object_name=novel_object_5_1_7<br>difficulty=%{x}<br>novel_name=%{y}<extra></extra>",
         "legendgroup": "novel_object_5_1_7",
         "marker": {
          "color": "#B6E880",
          "symbol": "circle"
         },
         "mode": "markers",
         "name": "novel_object_5_1_7",
         "orientation": "h",
         "showlegend": true,
         "type": "scatter",
         "x": [
          0.0010754964025286075
         ],
         "xaxis": "x",
         "y": [
          "novel_object_1_7"
         ],
         "yaxis": "y"
        },
        {
         "hovertemplate": "object_name=novel_object_6_1_7<br>difficulty=%{x}<br>novel_name=%{y}<extra></extra>",
         "legendgroup": "novel_object_6_1_7",
         "marker": {
          "color": "#FF97FF",
          "symbol": "circle"
         },
         "mode": "markers",
         "name": "novel_object_6_1_7",
         "orientation": "h",
         "showlegend": true,
         "type": "scatter",
         "x": [
          0.002155504377804907
         ],
         "xaxis": "x",
         "y": [
          "novel_object_1_7"
         ],
         "yaxis": "y"
        },
        {
         "hovertemplate": "object_name=novel_object_7_1_7<br>difficulty=%{x}<br>novel_name=%{y}<extra></extra>",
         "legendgroup": "novel_object_7_1_7",
         "marker": {
          "color": "#FECB52",
          "symbol": "circle"
         },
         "mode": "markers",
         "name": "novel_object_7_1_7",
         "orientation": "h",
         "showlegend": true,
         "type": "scatter",
         "x": [
          0.001326260246825461
         ],
         "xaxis": "x",
         "y": [
          "novel_object_1_7"
         ],
         "yaxis": "y"
        },
        {
         "hovertemplate": "object_name=novel_object_8_1_7<br>difficulty=%{x}<br>novel_name=%{y}<extra></extra>",
         "legendgroup": "novel_object_8_1_7",
         "marker": {
          "color": "#636efa",
          "symbol": "circle"
         },
         "mode": "markers",
         "name": "novel_object_8_1_7",
         "orientation": "h",
         "showlegend": true,
         "type": "scatter",
         "x": [
          0.0014747489767749967
         ],
         "xaxis": "x",
         "y": [
          "novel_object_1_7"
         ],
         "yaxis": "y"
        },
        {
         "hovertemplate": "object_name=novel_object_9_1_7<br>difficulty=%{x}<br>novel_name=%{y}<extra></extra>",
         "legendgroup": "novel_object_9_1_7",
         "marker": {
          "color": "#EF553B",
          "symbol": "circle"
         },
         "mode": "markers",
         "name": "novel_object_9_1_7",
         "orientation": "h",
         "showlegend": true,
         "type": "scatter",
         "x": [
          0.005591246383510457
         ],
         "xaxis": "x",
         "y": [
          "novel_object_1_7"
         ],
         "yaxis": "y"
        },
        {
         "hovertemplate": "object_name=novel_object_10_1_7<br>difficulty=%{x}<br>novel_name=%{y}<extra></extra>",
         "legendgroup": "novel_object_10_1_7",
         "marker": {
          "color": "#00cc96",
          "symbol": "circle"
         },
         "mode": "markers",
         "name": "novel_object_10_1_7",
         "orientation": "h",
         "showlegend": true,
         "type": "scatter",
         "x": [
          0.004099688948860045
         ],
         "xaxis": "x",
         "y": [
          "novel_object_1_7"
         ],
         "yaxis": "y"
        },
        {
         "hovertemplate": "object_name=novel_object_11_1_7<br>difficulty=%{x}<br>novel_name=%{y}<extra></extra>",
         "legendgroup": "novel_object_11_1_7",
         "marker": {
          "color": "#ab63fa",
          "symbol": "circle"
         },
         "mode": "markers",
         "name": "novel_object_11_1_7",
         "orientation": "h",
         "showlegend": true,
         "type": "scatter",
         "x": [
          0.002273909698062973
         ],
         "xaxis": "x",
         "y": [
          "novel_object_1_7"
         ],
         "yaxis": "y"
        },
        {
         "hovertemplate": "object_name=novel_object_0_1_8<br>difficulty=%{x}<br>novel_name=%{y}<extra></extra>",
         "legendgroup": "novel_object_0_1_8",
         "marker": {
          "color": "#FFA15A",
          "symbol": "circle"
         },
         "mode": "markers",
         "name": "novel_object_0_1_8",
         "orientation": "h",
         "showlegend": true,
         "type": "scatter",
         "x": [
          0.0011023703389662605
         ],
         "xaxis": "x",
         "y": [
          "novel_object_1_8"
         ],
         "yaxis": "y"
        },
        {
         "hovertemplate": "object_name=novel_object_1_1_8<br>difficulty=%{x}<br>novel_name=%{y}<extra></extra>",
         "legendgroup": "novel_object_1_1_8",
         "marker": {
          "color": "#19d3f3",
          "symbol": "circle"
         },
         "mode": "markers",
         "name": "novel_object_1_1_8",
         "orientation": "h",
         "showlegend": true,
         "type": "scatter",
         "x": [
          0.0011785330616574446
         ],
         "xaxis": "x",
         "y": [
          "novel_object_1_8"
         ],
         "yaxis": "y"
        },
        {
         "hovertemplate": "object_name=novel_object_2_1_8<br>difficulty=%{x}<br>novel_name=%{y}<extra></extra>",
         "legendgroup": "novel_object_2_1_8",
         "marker": {
          "color": "#FF6692",
          "symbol": "circle"
         },
         "mode": "markers",
         "name": "novel_object_2_1_8",
         "orientation": "h",
         "showlegend": true,
         "type": "scatter",
         "x": [
          0.001291227345625467
         ],
         "xaxis": "x",
         "y": [
          "novel_object_1_8"
         ],
         "yaxis": "y"
        },
        {
         "hovertemplate": "object_name=novel_object_3_1_8<br>difficulty=%{x}<br>novel_name=%{y}<extra></extra>",
         "legendgroup": "novel_object_3_1_8",
         "marker": {
          "color": "#B6E880",
          "symbol": "circle"
         },
         "mode": "markers",
         "name": "novel_object_3_1_8",
         "orientation": "h",
         "showlegend": true,
         "type": "scatter",
         "x": [
          0.0033698281796525863
         ],
         "xaxis": "x",
         "y": [
          "novel_object_1_8"
         ],
         "yaxis": "y"
        },
        {
         "hovertemplate": "object_name=novel_object_4_1_8<br>difficulty=%{x}<br>novel_name=%{y}<extra></extra>",
         "legendgroup": "novel_object_4_1_8",
         "marker": {
          "color": "#FF97FF",
          "symbol": "circle"
         },
         "mode": "markers",
         "name": "novel_object_4_1_8",
         "orientation": "h",
         "showlegend": true,
         "type": "scatter",
         "x": [
          0.09386616064074878
         ],
         "xaxis": "x",
         "y": [
          "novel_object_1_8"
         ],
         "yaxis": "y"
        },
        {
         "hovertemplate": "object_name=novel_object_5_1_8<br>difficulty=%{x}<br>novel_name=%{y}<extra></extra>",
         "legendgroup": "novel_object_5_1_8",
         "marker": {
          "color": "#FECB52",
          "symbol": "circle"
         },
         "mode": "markers",
         "name": "novel_object_5_1_8",
         "orientation": "h",
         "showlegend": true,
         "type": "scatter",
         "x": [
          0.0011244066271025991
         ],
         "xaxis": "x",
         "y": [
          "novel_object_1_8"
         ],
         "yaxis": "y"
        },
        {
         "hovertemplate": "object_name=novel_object_6_1_8<br>difficulty=%{x}<br>novel_name=%{y}<extra></extra>",
         "legendgroup": "novel_object_6_1_8",
         "marker": {
          "color": "#636efa",
          "symbol": "circle"
         },
         "mode": "markers",
         "name": "novel_object_6_1_8",
         "orientation": "h",
         "showlegend": true,
         "type": "scatter",
         "x": [
          0.001180243203939552
         ],
         "xaxis": "x",
         "y": [
          "novel_object_1_8"
         ],
         "yaxis": "y"
        },
        {
         "hovertemplate": "object_name=novel_object_7_1_8<br>difficulty=%{x}<br>novel_name=%{y}<extra></extra>",
         "legendgroup": "novel_object_7_1_8",
         "marker": {
          "color": "#EF553B",
          "symbol": "circle"
         },
         "mode": "markers",
         "name": "novel_object_7_1_8",
         "orientation": "h",
         "showlegend": true,
         "type": "scatter",
         "x": [
          0.0021239022332280254
         ],
         "xaxis": "x",
         "y": [
          "novel_object_1_8"
         ],
         "yaxis": "y"
        },
        {
         "hovertemplate": "object_name=novel_object_8_1_8<br>difficulty=%{x}<br>novel_name=%{y}<extra></extra>",
         "legendgroup": "novel_object_8_1_8",
         "marker": {
          "color": "#00cc96",
          "symbol": "circle"
         },
         "mode": "markers",
         "name": "novel_object_8_1_8",
         "orientation": "h",
         "showlegend": true,
         "type": "scatter",
         "x": [
          0.0018643793590489334
         ],
         "xaxis": "x",
         "y": [
          "novel_object_1_8"
         ],
         "yaxis": "y"
        },
        {
         "hovertemplate": "object_name=novel_object_9_1_8<br>difficulty=%{x}<br>novel_name=%{y}<extra></extra>",
         "legendgroup": "novel_object_9_1_8",
         "marker": {
          "color": "#ab63fa",
          "symbol": "circle"
         },
         "mode": "markers",
         "name": "novel_object_9_1_8",
         "orientation": "h",
         "showlegend": true,
         "type": "scatter",
         "x": [
          0.00113885470188752
         ],
         "xaxis": "x",
         "y": [
          "novel_object_1_8"
         ],
         "yaxis": "y"
        },
        {
         "hovertemplate": "object_name=novel_object_10_1_8<br>difficulty=%{x}<br>novel_name=%{y}<extra></extra>",
         "legendgroup": "novel_object_10_1_8",
         "marker": {
          "color": "#FFA15A",
          "symbol": "circle"
         },
         "mode": "markers",
         "name": "novel_object_10_1_8",
         "orientation": "h",
         "showlegend": true,
         "type": "scatter",
         "x": [
          0.05266738572612304
         ],
         "xaxis": "x",
         "y": [
          "novel_object_1_8"
         ],
         "yaxis": "y"
        },
        {
         "hovertemplate": "object_name=novel_object_11_1_8<br>difficulty=%{x}<br>novel_name=%{y}<extra></extra>",
         "legendgroup": "novel_object_11_1_8",
         "marker": {
          "color": "#19d3f3",
          "symbol": "circle"
         },
         "mode": "markers",
         "name": "novel_object_11_1_8",
         "orientation": "h",
         "showlegend": true,
         "type": "scatter",
         "x": [
          0.0019159036693930415
         ],
         "xaxis": "x",
         "y": [
          "novel_object_1_8"
         ],
         "yaxis": "y"
        },
        {
         "hovertemplate": "object_name=novel_object_0_1_9<br>difficulty=%{x}<br>novel_name=%{y}<extra></extra>",
         "legendgroup": "novel_object_0_1_9",
         "marker": {
          "color": "#FF6692",
          "symbol": "circle"
         },
         "mode": "markers",
         "name": "novel_object_0_1_9",
         "orientation": "h",
         "showlegend": true,
         "type": "scatter",
         "x": [
          0.025082335664893568
         ],
         "xaxis": "x",
         "y": [
          "novel_object_1_9"
         ],
         "yaxis": "y"
        },
        {
         "hovertemplate": "object_name=novel_object_0_1_10<br>difficulty=%{x}<br>novel_name=%{y}<extra></extra>",
         "legendgroup": "novel_object_0_1_10",
         "marker": {
          "color": "#B6E880",
          "symbol": "circle"
         },
         "mode": "markers",
         "name": "novel_object_0_1_10",
         "orientation": "h",
         "showlegend": true,
         "type": "scatter",
         "x": [
          0.0014211912969938297
         ],
         "xaxis": "x",
         "y": [
          "novel_object_1_10"
         ],
         "yaxis": "y"
        },
        {
         "hovertemplate": "object_name=novel_object_0_1_11<br>difficulty=%{x}<br>novel_name=%{y}<extra></extra>",
         "legendgroup": "novel_object_0_1_11",
         "marker": {
          "color": "#FF97FF",
          "symbol": "circle"
         },
         "mode": "markers",
         "name": "novel_object_0_1_11",
         "orientation": "h",
         "showlegend": true,
         "type": "scatter",
         "x": [
          0.0013683194847846957
         ],
         "xaxis": "x",
         "y": [
          "novel_object_1_11"
         ],
         "yaxis": "y"
        },
        {
         "hovertemplate": "object_name=novel_object_1_1_11<br>difficulty=%{x}<br>novel_name=%{y}<extra></extra>",
         "legendgroup": "novel_object_1_1_11",
         "marker": {
          "color": "#FECB52",
          "symbol": "circle"
         },
         "mode": "markers",
         "name": "novel_object_1_1_11",
         "orientation": "h",
         "showlegend": true,
         "type": "scatter",
         "x": [
          0.002840892464781795
         ],
         "xaxis": "x",
         "y": [
          "novel_object_1_11"
         ],
         "yaxis": "y"
        },
        {
         "hovertemplate": "object_name=novel_object_2_1_11<br>difficulty=%{x}<br>novel_name=%{y}<extra></extra>",
         "legendgroup": "novel_object_2_1_11",
         "marker": {
          "color": "#636efa",
          "symbol": "circle"
         },
         "mode": "markers",
         "name": "novel_object_2_1_11",
         "orientation": "h",
         "showlegend": true,
         "type": "scatter",
         "x": [
          0.0011133179907655915
         ],
         "xaxis": "x",
         "y": [
          "novel_object_1_11"
         ],
         "yaxis": "y"
        },
        {
         "hovertemplate": "object_name=novel_object_3_1_11<br>difficulty=%{x}<br>novel_name=%{y}<extra></extra>",
         "legendgroup": "novel_object_3_1_11",
         "marker": {
          "color": "#EF553B",
          "symbol": "circle"
         },
         "mode": "markers",
         "name": "novel_object_3_1_11",
         "orientation": "h",
         "showlegend": true,
         "type": "scatter",
         "x": [
          0.002113354062735628
         ],
         "xaxis": "x",
         "y": [
          "novel_object_1_11"
         ],
         "yaxis": "y"
        },
        {
         "hovertemplate": "object_name=novel_object_4_1_11<br>difficulty=%{x}<br>novel_name=%{y}<extra></extra>",
         "legendgroup": "novel_object_4_1_11",
         "marker": {
          "color": "#00cc96",
          "symbol": "circle"
         },
         "mode": "markers",
         "name": "novel_object_4_1_11",
         "orientation": "h",
         "showlegend": true,
         "type": "scatter",
         "x": [
          0.0010816201811446166
         ],
         "xaxis": "x",
         "y": [
          "novel_object_1_11"
         ],
         "yaxis": "y"
        },
        {
         "hovertemplate": "object_name=novel_object_5_1_11<br>difficulty=%{x}<br>novel_name=%{y}<extra></extra>",
         "legendgroup": "novel_object_5_1_11",
         "marker": {
          "color": "#ab63fa",
          "symbol": "circle"
         },
         "mode": "markers",
         "name": "novel_object_5_1_11",
         "orientation": "h",
         "showlegend": true,
         "type": "scatter",
         "x": [
          0.001338519154213867
         ],
         "xaxis": "x",
         "y": [
          "novel_object_1_11"
         ],
         "yaxis": "y"
        },
        {
         "hovertemplate": "object_name=novel_object_6_1_11<br>difficulty=%{x}<br>novel_name=%{y}<extra></extra>",
         "legendgroup": "novel_object_6_1_11",
         "marker": {
          "color": "#FFA15A",
          "symbol": "circle"
         },
         "mode": "markers",
         "name": "novel_object_6_1_11",
         "orientation": "h",
         "showlegend": true,
         "type": "scatter",
         "x": [
          0.0014361533629751013
         ],
         "xaxis": "x",
         "y": [
          "novel_object_1_11"
         ],
         "yaxis": "y"
        },
        {
         "hovertemplate": "object_name=novel_object_8_1_11<br>difficulty=%{x}<br>novel_name=%{y}<extra></extra>",
         "legendgroup": "novel_object_8_1_11",
         "marker": {
          "color": "#19d3f3",
          "symbol": "circle"
         },
         "mode": "markers",
         "name": "novel_object_8_1_11",
         "orientation": "h",
         "showlegend": true,
         "type": "scatter",
         "x": [
          0.001151666100904507
         ],
         "xaxis": "x",
         "y": [
          "novel_object_1_11"
         ],
         "yaxis": "y"
        },
        {
         "hovertemplate": "object_name=novel_object_9_1_11<br>difficulty=%{x}<br>novel_name=%{y}<extra></extra>",
         "legendgroup": "novel_object_9_1_11",
         "marker": {
          "color": "#FF6692",
          "symbol": "circle"
         },
         "mode": "markers",
         "name": "novel_object_9_1_11",
         "orientation": "h",
         "showlegend": true,
         "type": "scatter",
         "x": [
          0.0010942906568607949
         ],
         "xaxis": "x",
         "y": [
          "novel_object_1_11"
         ],
         "yaxis": "y"
        },
        {
         "hovertemplate": "object_name=novel_object_10_1_11<br>difficulty=%{x}<br>novel_name=%{y}<extra></extra>",
         "legendgroup": "novel_object_10_1_11",
         "marker": {
          "color": "#B6E880",
          "symbol": "circle"
         },
         "mode": "markers",
         "name": "novel_object_10_1_11",
         "orientation": "h",
         "showlegend": true,
         "type": "scatter",
         "x": [
          0.001277873384585452
         ],
         "xaxis": "x",
         "y": [
          "novel_object_1_11"
         ],
         "yaxis": "y"
        },
        {
         "hovertemplate": "object_name=novel_object_11_1_11<br>difficulty=%{x}<br>novel_name=%{y}<extra></extra>",
         "legendgroup": "novel_object_11_1_11",
         "marker": {
          "color": "#FF97FF",
          "symbol": "circle"
         },
         "mode": "markers",
         "name": "novel_object_11_1_11",
         "orientation": "h",
         "showlegend": true,
         "type": "scatter",
         "x": [
          0.0010395601937758668
         ],
         "xaxis": "x",
         "y": [
          "novel_object_1_11"
         ],
         "yaxis": "y"
        },
        {
         "hovertemplate": "object_name=novel_object_7_1_11<br>difficulty=%{x}<br>novel_name=%{y}<extra></extra>",
         "legendgroup": "novel_object_7_1_11",
         "marker": {
          "color": "#FECB52",
          "symbol": "circle"
         },
         "mode": "markers",
         "name": "novel_object_7_1_11",
         "orientation": "h",
         "showlegend": true,
         "type": "scatter",
         "x": [
          0.00128459648929928
         ],
         "xaxis": "x",
         "y": [
          "novel_object_1_11"
         ],
         "yaxis": "y"
        },
        {
         "hovertemplate": "object_name=novel_object_0_1_12<br>difficulty=%{x}<br>novel_name=%{y}<extra></extra>",
         "legendgroup": "novel_object_0_1_12",
         "marker": {
          "color": "#636efa",
          "symbol": "circle"
         },
         "mode": "markers",
         "name": "novel_object_0_1_12",
         "orientation": "h",
         "showlegend": true,
         "type": "scatter",
         "x": [
          0.0014254087044052442
         ],
         "xaxis": "x",
         "y": [
          "novel_object_1_12"
         ],
         "yaxis": "y"
        },
        {
         "hovertemplate": "object_name=novel_object_0_1_13<br>difficulty=%{x}<br>novel_name=%{y}<extra></extra>",
         "legendgroup": "novel_object_0_1_13",
         "marker": {
          "color": "#EF553B",
          "symbol": "circle"
         },
         "mode": "markers",
         "name": "novel_object_0_1_13",
         "orientation": "h",
         "showlegend": true,
         "type": "scatter",
         "x": [
          0.0012486564004923206
         ],
         "xaxis": "x",
         "y": [
          "novel_object_1_13"
         ],
         "yaxis": "y"
        },
        {
         "hovertemplate": "object_name=novel_object_1_1_1<br>difficulty=%{x}<br>novel_name=%{y}<extra></extra>",
         "legendgroup": "novel_object_1_1_1",
         "marker": {
          "color": "#00cc96",
          "symbol": "circle"
         },
         "mode": "markers",
         "name": "novel_object_1_1_1",
         "orientation": "h",
         "showlegend": true,
         "type": "scatter",
         "x": [
          0.001150942619693383
         ],
         "xaxis": "x",
         "y": [
          "novel_object_1_1"
         ],
         "yaxis": "y"
        },
        {
         "hovertemplate": "object_name=novel_object_4_1_2<br>difficulty=%{x}<br>novel_name=%{y}<extra></extra>",
         "legendgroup": "novel_object_4_1_2",
         "marker": {
          "color": "#ab63fa",
          "symbol": "circle"
         },
         "mode": "markers",
         "name": "novel_object_4_1_2",
         "orientation": "h",
         "showlegend": true,
         "type": "scatter",
         "x": [
          0.0012006682910099676
         ],
         "xaxis": "x",
         "y": [
          "novel_object_1_2"
         ],
         "yaxis": "y"
        },
        {
         "hovertemplate": "object_name=novel_object_5_1_3<br>difficulty=%{x}<br>novel_name=%{y}<extra></extra>",
         "legendgroup": "novel_object_5_1_3",
         "marker": {
          "color": "#FFA15A",
          "symbol": "circle"
         },
         "mode": "markers",
         "name": "novel_object_5_1_3",
         "orientation": "h",
         "showlegend": true,
         "type": "scatter",
         "x": [
          0.0017384133994291877
         ],
         "xaxis": "x",
         "y": [
          "novel_object_1_3"
         ],
         "yaxis": "y"
        },
        {
         "hovertemplate": "object_name=novel_object_6_1_4<br>difficulty=%{x}<br>novel_name=%{y}<extra></extra>",
         "legendgroup": "novel_object_6_1_4",
         "marker": {
          "color": "#19d3f3",
          "symbol": "circle"
         },
         "mode": "markers",
         "name": "novel_object_6_1_4",
         "orientation": "h",
         "showlegend": true,
         "type": "scatter",
         "x": [
          0.001452878211698919
         ],
         "xaxis": "x",
         "y": [
          "novel_object_1_4"
         ],
         "yaxis": "y"
        },
        {
         "hovertemplate": "object_name=novel_object_0_1_5<br>difficulty=%{x}<br>novel_name=%{y}<extra></extra>",
         "legendgroup": "novel_object_0_1_5",
         "marker": {
          "color": "#FF6692",
          "symbol": "circle"
         },
         "mode": "markers",
         "name": "novel_object_0_1_5",
         "orientation": "h",
         "showlegend": true,
         "type": "scatter",
         "x": [
          0.0012271016529952865
         ],
         "xaxis": "x",
         "y": [
          "novel_object_1_5"
         ],
         "yaxis": "y"
        },
        {
         "hovertemplate": "object_name=novel_object_1_1_5<br>difficulty=%{x}<br>novel_name=%{y}<extra></extra>",
         "legendgroup": "novel_object_1_1_5",
         "marker": {
          "color": "#B6E880",
          "symbol": "circle"
         },
         "mode": "markers",
         "name": "novel_object_1_1_5",
         "orientation": "h",
         "showlegend": true,
         "type": "scatter",
         "x": [
          0.001678474152278545
         ],
         "xaxis": "x",
         "y": [
          "novel_object_1_5"
         ],
         "yaxis": "y"
        },
        {
         "hovertemplate": "object_name=novel_object_2_1_5<br>difficulty=%{x}<br>novel_name=%{y}<extra></extra>",
         "legendgroup": "novel_object_2_1_5",
         "marker": {
          "color": "#FF97FF",
          "symbol": "circle"
         },
         "mode": "markers",
         "name": "novel_object_2_1_5",
         "orientation": "h",
         "showlegend": true,
         "type": "scatter",
         "x": [
          0.0016162414340323101
         ],
         "xaxis": "x",
         "y": [
          "novel_object_1_5"
         ],
         "yaxis": "y"
        },
        {
         "hovertemplate": "object_name=novel_object_3_1_5<br>difficulty=%{x}<br>novel_name=%{y}<extra></extra>",
         "legendgroup": "novel_object_3_1_5",
         "marker": {
          "color": "#FECB52",
          "symbol": "circle"
         },
         "mode": "markers",
         "name": "novel_object_3_1_5",
         "orientation": "h",
         "showlegend": true,
         "type": "scatter",
         "x": [
          0.0012815631969074139
         ],
         "xaxis": "x",
         "y": [
          "novel_object_1_5"
         ],
         "yaxis": "y"
        },
        {
         "hovertemplate": "object_name=novel_object_4_1_5<br>difficulty=%{x}<br>novel_name=%{y}<extra></extra>",
         "legendgroup": "novel_object_4_1_5",
         "marker": {
          "color": "#636efa",
          "symbol": "circle"
         },
         "mode": "markers",
         "name": "novel_object_4_1_5",
         "orientation": "h",
         "showlegend": true,
         "type": "scatter",
         "x": [
          0.0015906034083072078
         ],
         "xaxis": "x",
         "y": [
          "novel_object_1_5"
         ],
         "yaxis": "y"
        },
        {
         "hovertemplate": "object_name=novel_object_5_1_5<br>difficulty=%{x}<br>novel_name=%{y}<extra></extra>",
         "legendgroup": "novel_object_5_1_5",
         "marker": {
          "color": "#EF553B",
          "symbol": "circle"
         },
         "mode": "markers",
         "name": "novel_object_5_1_5",
         "orientation": "h",
         "showlegend": true,
         "type": "scatter",
         "x": [
          0.0011392368616308746
         ],
         "xaxis": "x",
         "y": [
          "novel_object_1_5"
         ],
         "yaxis": "y"
        },
        {
         "hovertemplate": "object_name=novel_object_6_1_5<br>difficulty=%{x}<br>novel_name=%{y}<extra></extra>",
         "legendgroup": "novel_object_6_1_5",
         "marker": {
          "color": "#00cc96",
          "symbol": "circle"
         },
         "mode": "markers",
         "name": "novel_object_6_1_5",
         "orientation": "h",
         "showlegend": true,
         "type": "scatter",
         "x": [
          0.0014848192479901795
         ],
         "xaxis": "x",
         "y": [
          "novel_object_1_5"
         ],
         "yaxis": "y"
        },
        {
         "hovertemplate": "object_name=novel_object_8_1_5<br>difficulty=%{x}<br>novel_name=%{y}<extra></extra>",
         "legendgroup": "novel_object_8_1_5",
         "marker": {
          "color": "#ab63fa",
          "symbol": "circle"
         },
         "mode": "markers",
         "name": "novel_object_8_1_5",
         "orientation": "h",
         "showlegend": true,
         "type": "scatter",
         "x": [
          0.0020939969831215185
         ],
         "xaxis": "x",
         "y": [
          "novel_object_1_5"
         ],
         "yaxis": "y"
        },
        {
         "hovertemplate": "object_name=novel_object_9_1_5<br>difficulty=%{x}<br>novel_name=%{y}<extra></extra>",
         "legendgroup": "novel_object_9_1_5",
         "marker": {
          "color": "#FFA15A",
          "symbol": "circle"
         },
         "mode": "markers",
         "name": "novel_object_9_1_5",
         "orientation": "h",
         "showlegend": true,
         "type": "scatter",
         "x": [
          0.0024305871237119297
         ],
         "xaxis": "x",
         "y": [
          "novel_object_1_5"
         ],
         "yaxis": "y"
        },
        {
         "hovertemplate": "object_name=novel_object_10_1_5<br>difficulty=%{x}<br>novel_name=%{y}<extra></extra>",
         "legendgroup": "novel_object_10_1_5",
         "marker": {
          "color": "#19d3f3",
          "symbol": "circle"
         },
         "mode": "markers",
         "name": "novel_object_10_1_5",
         "orientation": "h",
         "showlegend": true,
         "type": "scatter",
         "x": [
          0.0012786144092596442
         ],
         "xaxis": "x",
         "y": [
          "novel_object_1_5"
         ],
         "yaxis": "y"
        },
        {
         "hovertemplate": "object_name=novel_object_11_1_5<br>difficulty=%{x}<br>novel_name=%{y}<extra></extra>",
         "legendgroup": "novel_object_11_1_5",
         "marker": {
          "color": "#FF6692",
          "symbol": "circle"
         },
         "mode": "markers",
         "name": "novel_object_11_1_5",
         "orientation": "h",
         "showlegend": true,
         "type": "scatter",
         "x": [
          0.0018568004111368236
         ],
         "xaxis": "x",
         "y": [
          "novel_object_1_5"
         ],
         "yaxis": "y"
        },
        {
         "hovertemplate": "object_name=novel_object_7_1_5<br>difficulty=%{x}<br>novel_name=%{y}<extra></extra>",
         "legendgroup": "novel_object_7_1_5",
         "marker": {
          "color": "#B6E880",
          "symbol": "circle"
         },
         "mode": "markers",
         "name": "novel_object_7_1_5",
         "orientation": "h",
         "showlegend": true,
         "type": "scatter",
         "x": [
          0.0020143480864498573
         ],
         "xaxis": "x",
         "y": [
          "novel_object_1_5"
         ],
         "yaxis": "y"
        },
        {
         "hovertemplate": "object_name=novel_object_0_3_2<br>difficulty=%{x}<br>novel_name=%{y}<extra></extra>",
         "legendgroup": "novel_object_0_3_2",
         "marker": {
          "color": "#FF97FF",
          "symbol": "circle"
         },
         "mode": "markers",
         "name": "novel_object_0_3_2",
         "orientation": "h",
         "showlegend": true,
         "type": "scatter",
         "x": [
          0.0017318813244329406
         ],
         "xaxis": "x",
         "y": [
          "novel_object_3_2"
         ],
         "yaxis": "y"
        }
       ],
       "layout": {
        "legend": {
         "title": {
          "text": "object_name"
         },
         "tracegroupgap": 0
        },
        "template": {
         "data": {
          "bar": [
           {
            "error_x": {
             "color": "#2a3f5f"
            },
            "error_y": {
             "color": "#2a3f5f"
            },
            "marker": {
             "line": {
              "color": "#E5ECF6",
              "width": 0.5
             }
            },
            "type": "bar"
           }
          ],
          "barpolar": [
           {
            "marker": {
             "line": {
              "color": "#E5ECF6",
              "width": 0.5
             }
            },
            "type": "barpolar"
           }
          ],
          "carpet": [
           {
            "aaxis": {
             "endlinecolor": "#2a3f5f",
             "gridcolor": "white",
             "linecolor": "white",
             "minorgridcolor": "white",
             "startlinecolor": "#2a3f5f"
            },
            "baxis": {
             "endlinecolor": "#2a3f5f",
             "gridcolor": "white",
             "linecolor": "white",
             "minorgridcolor": "white",
             "startlinecolor": "#2a3f5f"
            },
            "type": "carpet"
           }
          ],
          "choropleth": [
           {
            "colorbar": {
             "outlinewidth": 0,
             "ticks": ""
            },
            "type": "choropleth"
           }
          ],
          "contour": [
           {
            "colorbar": {
             "outlinewidth": 0,
             "ticks": ""
            },
            "colorscale": [
             [
              0,
              "#0d0887"
             ],
             [
              0.1111111111111111,
              "#46039f"
             ],
             [
              0.2222222222222222,
              "#7201a8"
             ],
             [
              0.3333333333333333,
              "#9c179e"
             ],
             [
              0.4444444444444444,
              "#bd3786"
             ],
             [
              0.5555555555555556,
              "#d8576b"
             ],
             [
              0.6666666666666666,
              "#ed7953"
             ],
             [
              0.7777777777777778,
              "#fb9f3a"
             ],
             [
              0.8888888888888888,
              "#fdca26"
             ],
             [
              1,
              "#f0f921"
             ]
            ],
            "type": "contour"
           }
          ],
          "contourcarpet": [
           {
            "colorbar": {
             "outlinewidth": 0,
             "ticks": ""
            },
            "type": "contourcarpet"
           }
          ],
          "heatmap": [
           {
            "colorbar": {
             "outlinewidth": 0,
             "ticks": ""
            },
            "colorscale": [
             [
              0,
              "#0d0887"
             ],
             [
              0.1111111111111111,
              "#46039f"
             ],
             [
              0.2222222222222222,
              "#7201a8"
             ],
             [
              0.3333333333333333,
              "#9c179e"
             ],
             [
              0.4444444444444444,
              "#bd3786"
             ],
             [
              0.5555555555555556,
              "#d8576b"
             ],
             [
              0.6666666666666666,
              "#ed7953"
             ],
             [
              0.7777777777777778,
              "#fb9f3a"
             ],
             [
              0.8888888888888888,
              "#fdca26"
             ],
             [
              1,
              "#f0f921"
             ]
            ],
            "type": "heatmap"
           }
          ],
          "heatmapgl": [
           {
            "colorbar": {
             "outlinewidth": 0,
             "ticks": ""
            },
            "colorscale": [
             [
              0,
              "#0d0887"
             ],
             [
              0.1111111111111111,
              "#46039f"
             ],
             [
              0.2222222222222222,
              "#7201a8"
             ],
             [
              0.3333333333333333,
              "#9c179e"
             ],
             [
              0.4444444444444444,
              "#bd3786"
             ],
             [
              0.5555555555555556,
              "#d8576b"
             ],
             [
              0.6666666666666666,
              "#ed7953"
             ],
             [
              0.7777777777777778,
              "#fb9f3a"
             ],
             [
              0.8888888888888888,
              "#fdca26"
             ],
             [
              1,
              "#f0f921"
             ]
            ],
            "type": "heatmapgl"
           }
          ],
          "histogram": [
           {
            "marker": {
             "colorbar": {
              "outlinewidth": 0,
              "ticks": ""
             }
            },
            "type": "histogram"
           }
          ],
          "histogram2d": [
           {
            "colorbar": {
             "outlinewidth": 0,
             "ticks": ""
            },
            "colorscale": [
             [
              0,
              "#0d0887"
             ],
             [
              0.1111111111111111,
              "#46039f"
             ],
             [
              0.2222222222222222,
              "#7201a8"
             ],
             [
              0.3333333333333333,
              "#9c179e"
             ],
             [
              0.4444444444444444,
              "#bd3786"
             ],
             [
              0.5555555555555556,
              "#d8576b"
             ],
             [
              0.6666666666666666,
              "#ed7953"
             ],
             [
              0.7777777777777778,
              "#fb9f3a"
             ],
             [
              0.8888888888888888,
              "#fdca26"
             ],
             [
              1,
              "#f0f921"
             ]
            ],
            "type": "histogram2d"
           }
          ],
          "histogram2dcontour": [
           {
            "colorbar": {
             "outlinewidth": 0,
             "ticks": ""
            },
            "colorscale": [
             [
              0,
              "#0d0887"
             ],
             [
              0.1111111111111111,
              "#46039f"
             ],
             [
              0.2222222222222222,
              "#7201a8"
             ],
             [
              0.3333333333333333,
              "#9c179e"
             ],
             [
              0.4444444444444444,
              "#bd3786"
             ],
             [
              0.5555555555555556,
              "#d8576b"
             ],
             [
              0.6666666666666666,
              "#ed7953"
             ],
             [
              0.7777777777777778,
              "#fb9f3a"
             ],
             [
              0.8888888888888888,
              "#fdca26"
             ],
             [
              1,
              "#f0f921"
             ]
            ],
            "type": "histogram2dcontour"
           }
          ],
          "mesh3d": [
           {
            "colorbar": {
             "outlinewidth": 0,
             "ticks": ""
            },
            "type": "mesh3d"
           }
          ],
          "parcoords": [
           {
            "line": {
             "colorbar": {
              "outlinewidth": 0,
              "ticks": ""
             }
            },
            "type": "parcoords"
           }
          ],
          "pie": [
           {
            "automargin": true,
            "type": "pie"
           }
          ],
          "scatter": [
           {
            "marker": {
             "colorbar": {
              "outlinewidth": 0,
              "ticks": ""
             }
            },
            "type": "scatter"
           }
          ],
          "scatter3d": [
           {
            "line": {
             "colorbar": {
              "outlinewidth": 0,
              "ticks": ""
             }
            },
            "marker": {
             "colorbar": {
              "outlinewidth": 0,
              "ticks": ""
             }
            },
            "type": "scatter3d"
           }
          ],
          "scattercarpet": [
           {
            "marker": {
             "colorbar": {
              "outlinewidth": 0,
              "ticks": ""
             }
            },
            "type": "scattercarpet"
           }
          ],
          "scattergeo": [
           {
            "marker": {
             "colorbar": {
              "outlinewidth": 0,
              "ticks": ""
             }
            },
            "type": "scattergeo"
           }
          ],
          "scattergl": [
           {
            "marker": {
             "colorbar": {
              "outlinewidth": 0,
              "ticks": ""
             }
            },
            "type": "scattergl"
           }
          ],
          "scattermapbox": [
           {
            "marker": {
             "colorbar": {
              "outlinewidth": 0,
              "ticks": ""
             }
            },
            "type": "scattermapbox"
           }
          ],
          "scatterpolar": [
           {
            "marker": {
             "colorbar": {
              "outlinewidth": 0,
              "ticks": ""
             }
            },
            "type": "scatterpolar"
           }
          ],
          "scatterpolargl": [
           {
            "marker": {
             "colorbar": {
              "outlinewidth": 0,
              "ticks": ""
             }
            },
            "type": "scatterpolargl"
           }
          ],
          "scatterternary": [
           {
            "marker": {
             "colorbar": {
              "outlinewidth": 0,
              "ticks": ""
             }
            },
            "type": "scatterternary"
           }
          ],
          "surface": [
           {
            "colorbar": {
             "outlinewidth": 0,
             "ticks": ""
            },
            "colorscale": [
             [
              0,
              "#0d0887"
             ],
             [
              0.1111111111111111,
              "#46039f"
             ],
             [
              0.2222222222222222,
              "#7201a8"
             ],
             [
              0.3333333333333333,
              "#9c179e"
             ],
             [
              0.4444444444444444,
              "#bd3786"
             ],
             [
              0.5555555555555556,
              "#d8576b"
             ],
             [
              0.6666666666666666,
              "#ed7953"
             ],
             [
              0.7777777777777778,
              "#fb9f3a"
             ],
             [
              0.8888888888888888,
              "#fdca26"
             ],
             [
              1,
              "#f0f921"
             ]
            ],
            "type": "surface"
           }
          ],
          "table": [
           {
            "cells": {
             "fill": {
              "color": "#EBF0F8"
             },
             "line": {
              "color": "white"
             }
            },
            "header": {
             "fill": {
              "color": "#C8D4E3"
             },
             "line": {
              "color": "white"
             }
            },
            "type": "table"
           }
          ]
         },
         "layout": {
          "annotationdefaults": {
           "arrowcolor": "#2a3f5f",
           "arrowhead": 0,
           "arrowwidth": 1
          },
          "coloraxis": {
           "colorbar": {
            "outlinewidth": 0,
            "ticks": ""
           }
          },
          "colorscale": {
           "diverging": [
            [
             0,
             "#8e0152"
            ],
            [
             0.1,
             "#c51b7d"
            ],
            [
             0.2,
             "#de77ae"
            ],
            [
             0.3,
             "#f1b6da"
            ],
            [
             0.4,
             "#fde0ef"
            ],
            [
             0.5,
             "#f7f7f7"
            ],
            [
             0.6,
             "#e6f5d0"
            ],
            [
             0.7,
             "#b8e186"
            ],
            [
             0.8,
             "#7fbc41"
            ],
            [
             0.9,
             "#4d9221"
            ],
            [
             1,
             "#276419"
            ]
           ],
           "sequential": [
            [
             0,
             "#0d0887"
            ],
            [
             0.1111111111111111,
             "#46039f"
            ],
            [
             0.2222222222222222,
             "#7201a8"
            ],
            [
             0.3333333333333333,
             "#9c179e"
            ],
            [
             0.4444444444444444,
             "#bd3786"
            ],
            [
             0.5555555555555556,
             "#d8576b"
            ],
            [
             0.6666666666666666,
             "#ed7953"
            ],
            [
             0.7777777777777778,
             "#fb9f3a"
            ],
            [
             0.8888888888888888,
             "#fdca26"
            ],
            [
             1,
             "#f0f921"
            ]
           ],
           "sequentialminus": [
            [
             0,
             "#0d0887"
            ],
            [
             0.1111111111111111,
             "#46039f"
            ],
            [
             0.2222222222222222,
             "#7201a8"
            ],
            [
             0.3333333333333333,
             "#9c179e"
            ],
            [
             0.4444444444444444,
             "#bd3786"
            ],
            [
             0.5555555555555556,
             "#d8576b"
            ],
            [
             0.6666666666666666,
             "#ed7953"
            ],
            [
             0.7777777777777778,
             "#fb9f3a"
            ],
            [
             0.8888888888888888,
             "#fdca26"
            ],
            [
             1,
             "#f0f921"
            ]
           ]
          },
          "colorway": [
           "#636efa",
           "#EF553B",
           "#00cc96",
           "#ab63fa",
           "#FFA15A",
           "#19d3f3",
           "#FF6692",
           "#B6E880",
           "#FF97FF",
           "#FECB52"
          ],
          "font": {
           "color": "#2a3f5f"
          },
          "geo": {
           "bgcolor": "white",
           "lakecolor": "white",
           "landcolor": "#E5ECF6",
           "showlakes": true,
           "showland": true,
           "subunitcolor": "white"
          },
          "hoverlabel": {
           "align": "left"
          },
          "hovermode": "closest",
          "mapbox": {
           "style": "light"
          },
          "paper_bgcolor": "white",
          "plot_bgcolor": "#E5ECF6",
          "polar": {
           "angularaxis": {
            "gridcolor": "white",
            "linecolor": "white",
            "ticks": ""
           },
           "bgcolor": "#E5ECF6",
           "radialaxis": {
            "gridcolor": "white",
            "linecolor": "white",
            "ticks": ""
           }
          },
          "scene": {
           "xaxis": {
            "backgroundcolor": "#E5ECF6",
            "gridcolor": "white",
            "gridwidth": 2,
            "linecolor": "white",
            "showbackground": true,
            "ticks": "",
            "zerolinecolor": "white"
           },
           "yaxis": {
            "backgroundcolor": "#E5ECF6",
            "gridcolor": "white",
            "gridwidth": 2,
            "linecolor": "white",
            "showbackground": true,
            "ticks": "",
            "zerolinecolor": "white"
           },
           "zaxis": {
            "backgroundcolor": "#E5ECF6",
            "gridcolor": "white",
            "gridwidth": 2,
            "linecolor": "white",
            "showbackground": true,
            "ticks": "",
            "zerolinecolor": "white"
           }
          },
          "shapedefaults": {
           "line": {
            "color": "#2a3f5f"
           }
          },
          "ternary": {
           "aaxis": {
            "gridcolor": "white",
            "linecolor": "white",
            "ticks": ""
           },
           "baxis": {
            "gridcolor": "white",
            "linecolor": "white",
            "ticks": ""
           },
           "bgcolor": "#E5ECF6",
           "caxis": {
            "gridcolor": "white",
            "linecolor": "white",
            "ticks": ""
           }
          },
          "title": {
           "x": 0.05
          },
          "xaxis": {
           "automargin": true,
           "gridcolor": "white",
           "linecolor": "white",
           "ticks": "",
           "title": {
            "standoff": 15
           },
           "zerolinecolor": "white",
           "zerolinewidth": 2
          },
          "yaxis": {
           "automargin": true,
           "gridcolor": "white",
           "linecolor": "white",
           "ticks": "",
           "title": {
            "standoff": 15
           },
           "zerolinecolor": "white",
           "zerolinewidth": 2
          }
         }
        },
        "title": {
         "text": "Difficulty Measure for Colour"
        },
        "xaxis": {
         "anchor": "y",
         "domain": [
          0,
          1
         ],
         "title": {
          "text": "difficulty"
         }
        },
        "yaxis": {
         "anchor": "x",
         "domain": [
          0,
          1
         ],
         "title": {
          "text": "novel_name"
         }
        }
       }
      },
      "text/html": [
       "<div>\n",
       "        \n",
       "        \n",
       "            <div id=\"f65315b7-949b-4638-a91f-ec671e4f02e7\" class=\"plotly-graph-div\" style=\"height:525px; width:100%;\"></div>\n",
       "            <script type=\"text/javascript\">\n",
       "                require([\"plotly\"], function(Plotly) {\n",
       "                    window.PLOTLYENV=window.PLOTLYENV || {};\n",
       "                    \n",
       "                if (document.getElementById(\"f65315b7-949b-4638-a91f-ec671e4f02e7\")) {\n",
       "                    Plotly.newPlot(\n",
       "                        'f65315b7-949b-4638-a91f-ec671e4f02e7',\n",
       "                        [{\"hovertemplate\": \"object_name=novel_object_0_1_6<br>difficulty=%{x}<br>novel_name=%{y}<extra></extra>\", \"legendgroup\": \"novel_object_0_1_6\", \"marker\": {\"color\": \"#636efa\", \"symbol\": \"circle\"}, \"mode\": \"markers\", \"name\": \"novel_object_0_1_6\", \"orientation\": \"h\", \"showlegend\": true, \"type\": \"scatter\", \"x\": [0.0032637689913031873], \"xaxis\": \"x\", \"y\": [\"novel_object_1_6\"], \"yaxis\": \"y\"}, {\"hovertemplate\": \"object_name=novel_object_1_1_6<br>difficulty=%{x}<br>novel_name=%{y}<extra></extra>\", \"legendgroup\": \"novel_object_1_1_6\", \"marker\": {\"color\": \"#EF553B\", \"symbol\": \"circle\"}, \"mode\": \"markers\", \"name\": \"novel_object_1_1_6\", \"orientation\": \"h\", \"showlegend\": true, \"type\": \"scatter\", \"x\": [0.0017602287508625013], \"xaxis\": \"x\", \"y\": [\"novel_object_1_6\"], \"yaxis\": \"y\"}, {\"hovertemplate\": \"object_name=novel_object_2_1_6<br>difficulty=%{x}<br>novel_name=%{y}<extra></extra>\", \"legendgroup\": \"novel_object_2_1_6\", \"marker\": {\"color\": \"#00cc96\", \"symbol\": \"circle\"}, \"mode\": \"markers\", \"name\": \"novel_object_2_1_6\", \"orientation\": \"h\", \"showlegend\": true, \"type\": \"scatter\", \"x\": [0.0010390200833247673], \"xaxis\": \"x\", \"y\": [\"novel_object_1_6\"], \"yaxis\": \"y\"}, {\"hovertemplate\": \"object_name=novel_object_3_1_6<br>difficulty=%{x}<br>novel_name=%{y}<extra></extra>\", \"legendgroup\": \"novel_object_3_1_6\", \"marker\": {\"color\": \"#ab63fa\", \"symbol\": \"circle\"}, \"mode\": \"markers\", \"name\": \"novel_object_3_1_6\", \"orientation\": \"h\", \"showlegend\": true, \"type\": \"scatter\", \"x\": [0.0010982604560228369], \"xaxis\": \"x\", \"y\": [\"novel_object_1_6\"], \"yaxis\": \"y\"}, {\"hovertemplate\": \"object_name=novel_object_4_1_6<br>difficulty=%{x}<br>novel_name=%{y}<extra></extra>\", \"legendgroup\": \"novel_object_4_1_6\", \"marker\": {\"color\": \"#FFA15A\", \"symbol\": \"circle\"}, \"mode\": \"markers\", \"name\": \"novel_object_4_1_6\", \"orientation\": \"h\", \"showlegend\": true, \"type\": \"scatter\", \"x\": [0.0017909126227834068], \"xaxis\": \"x\", \"y\": [\"novel_object_1_6\"], \"yaxis\": \"y\"}, {\"hovertemplate\": \"object_name=novel_object_5_1_6<br>difficulty=%{x}<br>novel_name=%{y}<extra></extra>\", \"legendgroup\": \"novel_object_5_1_6\", \"marker\": {\"color\": \"#19d3f3\", \"symbol\": \"circle\"}, \"mode\": \"markers\", \"name\": \"novel_object_5_1_6\", \"orientation\": \"h\", \"showlegend\": true, \"type\": \"scatter\", \"x\": [0.0011331491833924741], \"xaxis\": \"x\", \"y\": [\"novel_object_1_6\"], \"yaxis\": \"y\"}, {\"hovertemplate\": \"object_name=novel_object_6_1_6<br>difficulty=%{x}<br>novel_name=%{y}<extra></extra>\", \"legendgroup\": \"novel_object_6_1_6\", \"marker\": {\"color\": \"#FF6692\", \"symbol\": \"circle\"}, \"mode\": \"markers\", \"name\": \"novel_object_6_1_6\", \"orientation\": \"h\", \"showlegend\": true, \"type\": \"scatter\", \"x\": [0.0010611240365660398], \"xaxis\": \"x\", \"y\": [\"novel_object_1_6\"], \"yaxis\": \"y\"}, {\"hovertemplate\": \"object_name=novel_object_7_1_6<br>difficulty=%{x}<br>novel_name=%{y}<extra></extra>\", \"legendgroup\": \"novel_object_7_1_6\", \"marker\": {\"color\": \"#B6E880\", \"symbol\": \"circle\"}, \"mode\": \"markers\", \"name\": \"novel_object_7_1_6\", \"orientation\": \"h\", \"showlegend\": true, \"type\": \"scatter\", \"x\": [0.0011066537343546294], \"xaxis\": \"x\", \"y\": [\"novel_object_1_6\"], \"yaxis\": \"y\"}, {\"hovertemplate\": \"object_name=novel_object_8_1_6<br>difficulty=%{x}<br>novel_name=%{y}<extra></extra>\", \"legendgroup\": \"novel_object_8_1_6\", \"marker\": {\"color\": \"#FF97FF\", \"symbol\": \"circle\"}, \"mode\": \"markers\", \"name\": \"novel_object_8_1_6\", \"orientation\": \"h\", \"showlegend\": true, \"type\": \"scatter\", \"x\": [0.0012024219325409004], \"xaxis\": \"x\", \"y\": [\"novel_object_1_6\"], \"yaxis\": \"y\"}, {\"hovertemplate\": \"object_name=novel_object_9_1_6<br>difficulty=%{x}<br>novel_name=%{y}<extra></extra>\", \"legendgroup\": \"novel_object_9_1_6\", \"marker\": {\"color\": \"#FECB52\", \"symbol\": \"circle\"}, \"mode\": \"markers\", \"name\": \"novel_object_9_1_6\", \"orientation\": \"h\", \"showlegend\": true, \"type\": \"scatter\", \"x\": [0.0010435588704811516], \"xaxis\": \"x\", \"y\": [\"novel_object_1_6\"], \"yaxis\": \"y\"}, {\"hovertemplate\": \"object_name=novel_object_10_1_6<br>difficulty=%{x}<br>novel_name=%{y}<extra></extra>\", \"legendgroup\": \"novel_object_10_1_6\", \"marker\": {\"color\": \"#636efa\", \"symbol\": \"circle\"}, \"mode\": \"markers\", \"name\": \"novel_object_10_1_6\", \"orientation\": \"h\", \"showlegend\": true, \"type\": \"scatter\", \"x\": [0.001131203629609501], \"xaxis\": \"x\", \"y\": [\"novel_object_1_6\"], \"yaxis\": \"y\"}, {\"hovertemplate\": \"object_name=novel_object_11_1_6<br>difficulty=%{x}<br>novel_name=%{y}<extra></extra>\", \"legendgroup\": \"novel_object_11_1_6\", \"marker\": {\"color\": \"#EF553B\", \"symbol\": \"circle\"}, \"mode\": \"markers\", \"name\": \"novel_object_11_1_6\", \"orientation\": \"h\", \"showlegend\": true, \"type\": \"scatter\", \"x\": [0.0010737406579176456], \"xaxis\": \"x\", \"y\": [\"novel_object_1_6\"], \"yaxis\": \"y\"}, {\"hovertemplate\": \"object_name=novel_object_0_1_7<br>difficulty=%{x}<br>novel_name=%{y}<extra></extra>\", \"legendgroup\": \"novel_object_0_1_7\", \"marker\": {\"color\": \"#00cc96\", \"symbol\": \"circle\"}, \"mode\": \"markers\", \"name\": \"novel_object_0_1_7\", \"orientation\": \"h\", \"showlegend\": true, \"type\": \"scatter\", \"x\": [0.012689529869337142], \"xaxis\": \"x\", \"y\": [\"novel_object_1_7\"], \"yaxis\": \"y\"}, {\"hovertemplate\": \"object_name=novel_object_1_1_7<br>difficulty=%{x}<br>novel_name=%{y}<extra></extra>\", \"legendgroup\": \"novel_object_1_1_7\", \"marker\": {\"color\": \"#ab63fa\", \"symbol\": \"circle\"}, \"mode\": \"markers\", \"name\": \"novel_object_1_1_7\", \"orientation\": \"h\", \"showlegend\": true, \"type\": \"scatter\", \"x\": [0.0025289585587228392], \"xaxis\": \"x\", \"y\": [\"novel_object_1_7\"], \"yaxis\": \"y\"}, {\"hovertemplate\": \"object_name=novel_object_2_1_7<br>difficulty=%{x}<br>novel_name=%{y}<extra></extra>\", \"legendgroup\": \"novel_object_2_1_7\", \"marker\": {\"color\": \"#FFA15A\", \"symbol\": \"circle\"}, \"mode\": \"markers\", \"name\": \"novel_object_2_1_7\", \"orientation\": \"h\", \"showlegend\": true, \"type\": \"scatter\", \"x\": [0.0010604854743458366], \"xaxis\": \"x\", \"y\": [\"novel_object_1_7\"], \"yaxis\": \"y\"}, {\"hovertemplate\": \"object_name=novel_object_3_1_7<br>difficulty=%{x}<br>novel_name=%{y}<extra></extra>\", \"legendgroup\": \"novel_object_3_1_7\", \"marker\": {\"color\": \"#19d3f3\", \"symbol\": \"circle\"}, \"mode\": \"markers\", \"name\": \"novel_object_3_1_7\", \"orientation\": \"h\", \"showlegend\": true, \"type\": \"scatter\", \"x\": [0.0011587238032110853], \"xaxis\": \"x\", \"y\": [\"novel_object_1_7\"], \"yaxis\": \"y\"}, {\"hovertemplate\": \"object_name=novel_object_4_1_7<br>difficulty=%{x}<br>novel_name=%{y}<extra></extra>\", \"legendgroup\": \"novel_object_4_1_7\", \"marker\": {\"color\": \"#FF6692\", \"symbol\": \"circle\"}, \"mode\": \"markers\", \"name\": \"novel_object_4_1_7\", \"orientation\": \"h\", \"showlegend\": true, \"type\": \"scatter\", \"x\": [0.0011660788124326967], \"xaxis\": \"x\", \"y\": [\"novel_object_1_7\"], \"yaxis\": \"y\"}, {\"hovertemplate\": \"object_name=novel_object_5_1_7<br>difficulty=%{x}<br>novel_name=%{y}<extra></extra>\", \"legendgroup\": \"novel_object_5_1_7\", \"marker\": {\"color\": \"#B6E880\", \"symbol\": \"circle\"}, \"mode\": \"markers\", \"name\": \"novel_object_5_1_7\", \"orientation\": \"h\", \"showlegend\": true, \"type\": \"scatter\", \"x\": [0.0010754964025286075], \"xaxis\": \"x\", \"y\": [\"novel_object_1_7\"], \"yaxis\": \"y\"}, {\"hovertemplate\": \"object_name=novel_object_6_1_7<br>difficulty=%{x}<br>novel_name=%{y}<extra></extra>\", \"legendgroup\": \"novel_object_6_1_7\", \"marker\": {\"color\": \"#FF97FF\", \"symbol\": \"circle\"}, \"mode\": \"markers\", \"name\": \"novel_object_6_1_7\", \"orientation\": \"h\", \"showlegend\": true, \"type\": \"scatter\", \"x\": [0.002155504377804907], \"xaxis\": \"x\", \"y\": [\"novel_object_1_7\"], \"yaxis\": \"y\"}, {\"hovertemplate\": \"object_name=novel_object_7_1_7<br>difficulty=%{x}<br>novel_name=%{y}<extra></extra>\", \"legendgroup\": \"novel_object_7_1_7\", \"marker\": {\"color\": \"#FECB52\", \"symbol\": \"circle\"}, \"mode\": \"markers\", \"name\": \"novel_object_7_1_7\", \"orientation\": \"h\", \"showlegend\": true, \"type\": \"scatter\", \"x\": [0.001326260246825461], \"xaxis\": \"x\", \"y\": [\"novel_object_1_7\"], \"yaxis\": \"y\"}, {\"hovertemplate\": \"object_name=novel_object_8_1_7<br>difficulty=%{x}<br>novel_name=%{y}<extra></extra>\", \"legendgroup\": \"novel_object_8_1_7\", \"marker\": {\"color\": \"#636efa\", \"symbol\": \"circle\"}, \"mode\": \"markers\", \"name\": \"novel_object_8_1_7\", \"orientation\": \"h\", \"showlegend\": true, \"type\": \"scatter\", \"x\": [0.0014747489767749967], \"xaxis\": \"x\", \"y\": [\"novel_object_1_7\"], \"yaxis\": \"y\"}, {\"hovertemplate\": \"object_name=novel_object_9_1_7<br>difficulty=%{x}<br>novel_name=%{y}<extra></extra>\", \"legendgroup\": \"novel_object_9_1_7\", \"marker\": {\"color\": \"#EF553B\", \"symbol\": \"circle\"}, \"mode\": \"markers\", \"name\": \"novel_object_9_1_7\", \"orientation\": \"h\", \"showlegend\": true, \"type\": \"scatter\", \"x\": [0.005591246383510457], \"xaxis\": \"x\", \"y\": [\"novel_object_1_7\"], \"yaxis\": \"y\"}, {\"hovertemplate\": \"object_name=novel_object_10_1_7<br>difficulty=%{x}<br>novel_name=%{y}<extra></extra>\", \"legendgroup\": \"novel_object_10_1_7\", \"marker\": {\"color\": \"#00cc96\", \"symbol\": \"circle\"}, \"mode\": \"markers\", \"name\": \"novel_object_10_1_7\", \"orientation\": \"h\", \"showlegend\": true, \"type\": \"scatter\", \"x\": [0.004099688948860045], \"xaxis\": \"x\", \"y\": [\"novel_object_1_7\"], \"yaxis\": \"y\"}, {\"hovertemplate\": \"object_name=novel_object_11_1_7<br>difficulty=%{x}<br>novel_name=%{y}<extra></extra>\", \"legendgroup\": \"novel_object_11_1_7\", \"marker\": {\"color\": \"#ab63fa\", \"symbol\": \"circle\"}, \"mode\": \"markers\", \"name\": \"novel_object_11_1_7\", \"orientation\": \"h\", \"showlegend\": true, \"type\": \"scatter\", \"x\": [0.002273909698062973], \"xaxis\": \"x\", \"y\": [\"novel_object_1_7\"], \"yaxis\": \"y\"}, {\"hovertemplate\": \"object_name=novel_object_0_1_8<br>difficulty=%{x}<br>novel_name=%{y}<extra></extra>\", \"legendgroup\": \"novel_object_0_1_8\", \"marker\": {\"color\": \"#FFA15A\", \"symbol\": \"circle\"}, \"mode\": \"markers\", \"name\": \"novel_object_0_1_8\", \"orientation\": \"h\", \"showlegend\": true, \"type\": \"scatter\", \"x\": [0.0011023703389662605], \"xaxis\": \"x\", \"y\": [\"novel_object_1_8\"], \"yaxis\": \"y\"}, {\"hovertemplate\": \"object_name=novel_object_1_1_8<br>difficulty=%{x}<br>novel_name=%{y}<extra></extra>\", \"legendgroup\": \"novel_object_1_1_8\", \"marker\": {\"color\": \"#19d3f3\", \"symbol\": \"circle\"}, \"mode\": \"markers\", \"name\": \"novel_object_1_1_8\", \"orientation\": \"h\", \"showlegend\": true, \"type\": \"scatter\", \"x\": [0.0011785330616574446], \"xaxis\": \"x\", \"y\": [\"novel_object_1_8\"], \"yaxis\": \"y\"}, {\"hovertemplate\": \"object_name=novel_object_2_1_8<br>difficulty=%{x}<br>novel_name=%{y}<extra></extra>\", \"legendgroup\": \"novel_object_2_1_8\", \"marker\": {\"color\": \"#FF6692\", \"symbol\": \"circle\"}, \"mode\": \"markers\", \"name\": \"novel_object_2_1_8\", \"orientation\": \"h\", \"showlegend\": true, \"type\": \"scatter\", \"x\": [0.001291227345625467], \"xaxis\": \"x\", \"y\": [\"novel_object_1_8\"], \"yaxis\": \"y\"}, {\"hovertemplate\": \"object_name=novel_object_3_1_8<br>difficulty=%{x}<br>novel_name=%{y}<extra></extra>\", \"legendgroup\": \"novel_object_3_1_8\", \"marker\": {\"color\": \"#B6E880\", \"symbol\": \"circle\"}, \"mode\": \"markers\", \"name\": \"novel_object_3_1_8\", \"orientation\": \"h\", \"showlegend\": true, \"type\": \"scatter\", \"x\": [0.0033698281796525863], \"xaxis\": \"x\", \"y\": [\"novel_object_1_8\"], \"yaxis\": \"y\"}, {\"hovertemplate\": \"object_name=novel_object_4_1_8<br>difficulty=%{x}<br>novel_name=%{y}<extra></extra>\", \"legendgroup\": \"novel_object_4_1_8\", \"marker\": {\"color\": \"#FF97FF\", \"symbol\": \"circle\"}, \"mode\": \"markers\", \"name\": \"novel_object_4_1_8\", \"orientation\": \"h\", \"showlegend\": true, \"type\": \"scatter\", \"x\": [0.09386616064074878], \"xaxis\": \"x\", \"y\": [\"novel_object_1_8\"], \"yaxis\": \"y\"}, {\"hovertemplate\": \"object_name=novel_object_5_1_8<br>difficulty=%{x}<br>novel_name=%{y}<extra></extra>\", \"legendgroup\": \"novel_object_5_1_8\", \"marker\": {\"color\": \"#FECB52\", \"symbol\": \"circle\"}, \"mode\": \"markers\", \"name\": \"novel_object_5_1_8\", \"orientation\": \"h\", \"showlegend\": true, \"type\": \"scatter\", \"x\": [0.0011244066271025991], \"xaxis\": \"x\", \"y\": [\"novel_object_1_8\"], \"yaxis\": \"y\"}, {\"hovertemplate\": \"object_name=novel_object_6_1_8<br>difficulty=%{x}<br>novel_name=%{y}<extra></extra>\", \"legendgroup\": \"novel_object_6_1_8\", \"marker\": {\"color\": \"#636efa\", \"symbol\": \"circle\"}, \"mode\": \"markers\", \"name\": \"novel_object_6_1_8\", \"orientation\": \"h\", \"showlegend\": true, \"type\": \"scatter\", \"x\": [0.001180243203939552], \"xaxis\": \"x\", \"y\": [\"novel_object_1_8\"], \"yaxis\": \"y\"}, {\"hovertemplate\": \"object_name=novel_object_7_1_8<br>difficulty=%{x}<br>novel_name=%{y}<extra></extra>\", \"legendgroup\": \"novel_object_7_1_8\", \"marker\": {\"color\": \"#EF553B\", \"symbol\": \"circle\"}, \"mode\": \"markers\", \"name\": \"novel_object_7_1_8\", \"orientation\": \"h\", \"showlegend\": true, \"type\": \"scatter\", \"x\": [0.0021239022332280254], \"xaxis\": \"x\", \"y\": [\"novel_object_1_8\"], \"yaxis\": \"y\"}, {\"hovertemplate\": \"object_name=novel_object_8_1_8<br>difficulty=%{x}<br>novel_name=%{y}<extra></extra>\", \"legendgroup\": \"novel_object_8_1_8\", \"marker\": {\"color\": \"#00cc96\", \"symbol\": \"circle\"}, \"mode\": \"markers\", \"name\": \"novel_object_8_1_8\", \"orientation\": \"h\", \"showlegend\": true, \"type\": \"scatter\", \"x\": [0.0018643793590489334], \"xaxis\": \"x\", \"y\": [\"novel_object_1_8\"], \"yaxis\": \"y\"}, {\"hovertemplate\": \"object_name=novel_object_9_1_8<br>difficulty=%{x}<br>novel_name=%{y}<extra></extra>\", \"legendgroup\": \"novel_object_9_1_8\", \"marker\": {\"color\": \"#ab63fa\", \"symbol\": \"circle\"}, \"mode\": \"markers\", \"name\": \"novel_object_9_1_8\", \"orientation\": \"h\", \"showlegend\": true, \"type\": \"scatter\", \"x\": [0.00113885470188752], \"xaxis\": \"x\", \"y\": [\"novel_object_1_8\"], \"yaxis\": \"y\"}, {\"hovertemplate\": \"object_name=novel_object_10_1_8<br>difficulty=%{x}<br>novel_name=%{y}<extra></extra>\", \"legendgroup\": \"novel_object_10_1_8\", \"marker\": {\"color\": \"#FFA15A\", \"symbol\": \"circle\"}, \"mode\": \"markers\", \"name\": \"novel_object_10_1_8\", \"orientation\": \"h\", \"showlegend\": true, \"type\": \"scatter\", \"x\": [0.05266738572612304], \"xaxis\": \"x\", \"y\": [\"novel_object_1_8\"], \"yaxis\": \"y\"}, {\"hovertemplate\": \"object_name=novel_object_11_1_8<br>difficulty=%{x}<br>novel_name=%{y}<extra></extra>\", \"legendgroup\": \"novel_object_11_1_8\", \"marker\": {\"color\": \"#19d3f3\", \"symbol\": \"circle\"}, \"mode\": \"markers\", \"name\": \"novel_object_11_1_8\", \"orientation\": \"h\", \"showlegend\": true, \"type\": \"scatter\", \"x\": [0.0019159036693930415], \"xaxis\": \"x\", \"y\": [\"novel_object_1_8\"], \"yaxis\": \"y\"}, {\"hovertemplate\": \"object_name=novel_object_0_1_9<br>difficulty=%{x}<br>novel_name=%{y}<extra></extra>\", \"legendgroup\": \"novel_object_0_1_9\", \"marker\": {\"color\": \"#FF6692\", \"symbol\": \"circle\"}, \"mode\": \"markers\", \"name\": \"novel_object_0_1_9\", \"orientation\": \"h\", \"showlegend\": true, \"type\": \"scatter\", \"x\": [0.025082335664893568], \"xaxis\": \"x\", \"y\": [\"novel_object_1_9\"], \"yaxis\": \"y\"}, {\"hovertemplate\": \"object_name=novel_object_0_1_10<br>difficulty=%{x}<br>novel_name=%{y}<extra></extra>\", \"legendgroup\": \"novel_object_0_1_10\", \"marker\": {\"color\": \"#B6E880\", \"symbol\": \"circle\"}, \"mode\": \"markers\", \"name\": \"novel_object_0_1_10\", \"orientation\": \"h\", \"showlegend\": true, \"type\": \"scatter\", \"x\": [0.0014211912969938297], \"xaxis\": \"x\", \"y\": [\"novel_object_1_10\"], \"yaxis\": \"y\"}, {\"hovertemplate\": \"object_name=novel_object_0_1_11<br>difficulty=%{x}<br>novel_name=%{y}<extra></extra>\", \"legendgroup\": \"novel_object_0_1_11\", \"marker\": {\"color\": \"#FF97FF\", \"symbol\": \"circle\"}, \"mode\": \"markers\", \"name\": \"novel_object_0_1_11\", \"orientation\": \"h\", \"showlegend\": true, \"type\": \"scatter\", \"x\": [0.0013683194847846957], \"xaxis\": \"x\", \"y\": [\"novel_object_1_11\"], \"yaxis\": \"y\"}, {\"hovertemplate\": \"object_name=novel_object_1_1_11<br>difficulty=%{x}<br>novel_name=%{y}<extra></extra>\", \"legendgroup\": \"novel_object_1_1_11\", \"marker\": {\"color\": \"#FECB52\", \"symbol\": \"circle\"}, \"mode\": \"markers\", \"name\": \"novel_object_1_1_11\", \"orientation\": \"h\", \"showlegend\": true, \"type\": \"scatter\", \"x\": [0.002840892464781795], \"xaxis\": \"x\", \"y\": [\"novel_object_1_11\"], \"yaxis\": \"y\"}, {\"hovertemplate\": \"object_name=novel_object_2_1_11<br>difficulty=%{x}<br>novel_name=%{y}<extra></extra>\", \"legendgroup\": \"novel_object_2_1_11\", \"marker\": {\"color\": \"#636efa\", \"symbol\": \"circle\"}, \"mode\": \"markers\", \"name\": \"novel_object_2_1_11\", \"orientation\": \"h\", \"showlegend\": true, \"type\": \"scatter\", \"x\": [0.0011133179907655915], \"xaxis\": \"x\", \"y\": [\"novel_object_1_11\"], \"yaxis\": \"y\"}, {\"hovertemplate\": \"object_name=novel_object_3_1_11<br>difficulty=%{x}<br>novel_name=%{y}<extra></extra>\", \"legendgroup\": \"novel_object_3_1_11\", \"marker\": {\"color\": \"#EF553B\", \"symbol\": \"circle\"}, \"mode\": \"markers\", \"name\": \"novel_object_3_1_11\", \"orientation\": \"h\", \"showlegend\": true, \"type\": \"scatter\", \"x\": [0.002113354062735628], \"xaxis\": \"x\", \"y\": [\"novel_object_1_11\"], \"yaxis\": \"y\"}, {\"hovertemplate\": \"object_name=novel_object_4_1_11<br>difficulty=%{x}<br>novel_name=%{y}<extra></extra>\", \"legendgroup\": \"novel_object_4_1_11\", \"marker\": {\"color\": \"#00cc96\", \"symbol\": \"circle\"}, \"mode\": \"markers\", \"name\": \"novel_object_4_1_11\", \"orientation\": \"h\", \"showlegend\": true, \"type\": \"scatter\", \"x\": [0.0010816201811446166], \"xaxis\": \"x\", \"y\": [\"novel_object_1_11\"], \"yaxis\": \"y\"}, {\"hovertemplate\": \"object_name=novel_object_5_1_11<br>difficulty=%{x}<br>novel_name=%{y}<extra></extra>\", \"legendgroup\": \"novel_object_5_1_11\", \"marker\": {\"color\": \"#ab63fa\", \"symbol\": \"circle\"}, \"mode\": \"markers\", \"name\": \"novel_object_5_1_11\", \"orientation\": \"h\", \"showlegend\": true, \"type\": \"scatter\", \"x\": [0.001338519154213867], \"xaxis\": \"x\", \"y\": [\"novel_object_1_11\"], \"yaxis\": \"y\"}, {\"hovertemplate\": \"object_name=novel_object_6_1_11<br>difficulty=%{x}<br>novel_name=%{y}<extra></extra>\", \"legendgroup\": \"novel_object_6_1_11\", \"marker\": {\"color\": \"#FFA15A\", \"symbol\": \"circle\"}, \"mode\": \"markers\", \"name\": \"novel_object_6_1_11\", \"orientation\": \"h\", \"showlegend\": true, \"type\": \"scatter\", \"x\": [0.0014361533629751013], \"xaxis\": \"x\", \"y\": [\"novel_object_1_11\"], \"yaxis\": \"y\"}, {\"hovertemplate\": \"object_name=novel_object_8_1_11<br>difficulty=%{x}<br>novel_name=%{y}<extra></extra>\", \"legendgroup\": \"novel_object_8_1_11\", \"marker\": {\"color\": \"#19d3f3\", \"symbol\": \"circle\"}, \"mode\": \"markers\", \"name\": \"novel_object_8_1_11\", \"orientation\": \"h\", \"showlegend\": true, \"type\": \"scatter\", \"x\": [0.001151666100904507], \"xaxis\": \"x\", \"y\": [\"novel_object_1_11\"], \"yaxis\": \"y\"}, {\"hovertemplate\": \"object_name=novel_object_9_1_11<br>difficulty=%{x}<br>novel_name=%{y}<extra></extra>\", \"legendgroup\": \"novel_object_9_1_11\", \"marker\": {\"color\": \"#FF6692\", \"symbol\": \"circle\"}, \"mode\": \"markers\", \"name\": \"novel_object_9_1_11\", \"orientation\": \"h\", \"showlegend\": true, \"type\": \"scatter\", \"x\": [0.0010942906568607949], \"xaxis\": \"x\", \"y\": [\"novel_object_1_11\"], \"yaxis\": \"y\"}, {\"hovertemplate\": \"object_name=novel_object_10_1_11<br>difficulty=%{x}<br>novel_name=%{y}<extra></extra>\", \"legendgroup\": \"novel_object_10_1_11\", \"marker\": {\"color\": \"#B6E880\", \"symbol\": \"circle\"}, \"mode\": \"markers\", \"name\": \"novel_object_10_1_11\", \"orientation\": \"h\", \"showlegend\": true, \"type\": \"scatter\", \"x\": [0.001277873384585452], \"xaxis\": \"x\", \"y\": [\"novel_object_1_11\"], \"yaxis\": \"y\"}, {\"hovertemplate\": \"object_name=novel_object_11_1_11<br>difficulty=%{x}<br>novel_name=%{y}<extra></extra>\", \"legendgroup\": \"novel_object_11_1_11\", \"marker\": {\"color\": \"#FF97FF\", \"symbol\": \"circle\"}, \"mode\": \"markers\", \"name\": \"novel_object_11_1_11\", \"orientation\": \"h\", \"showlegend\": true, \"type\": \"scatter\", \"x\": [0.0010395601937758668], \"xaxis\": \"x\", \"y\": [\"novel_object_1_11\"], \"yaxis\": \"y\"}, {\"hovertemplate\": \"object_name=novel_object_7_1_11<br>difficulty=%{x}<br>novel_name=%{y}<extra></extra>\", \"legendgroup\": \"novel_object_7_1_11\", \"marker\": {\"color\": \"#FECB52\", \"symbol\": \"circle\"}, \"mode\": \"markers\", \"name\": \"novel_object_7_1_11\", \"orientation\": \"h\", \"showlegend\": true, \"type\": \"scatter\", \"x\": [0.00128459648929928], \"xaxis\": \"x\", \"y\": [\"novel_object_1_11\"], \"yaxis\": \"y\"}, {\"hovertemplate\": \"object_name=novel_object_0_1_12<br>difficulty=%{x}<br>novel_name=%{y}<extra></extra>\", \"legendgroup\": \"novel_object_0_1_12\", \"marker\": {\"color\": \"#636efa\", \"symbol\": \"circle\"}, \"mode\": \"markers\", \"name\": \"novel_object_0_1_12\", \"orientation\": \"h\", \"showlegend\": true, \"type\": \"scatter\", \"x\": [0.0014254087044052442], \"xaxis\": \"x\", \"y\": [\"novel_object_1_12\"], \"yaxis\": \"y\"}, {\"hovertemplate\": \"object_name=novel_object_0_1_13<br>difficulty=%{x}<br>novel_name=%{y}<extra></extra>\", \"legendgroup\": \"novel_object_0_1_13\", \"marker\": {\"color\": \"#EF553B\", \"symbol\": \"circle\"}, \"mode\": \"markers\", \"name\": \"novel_object_0_1_13\", \"orientation\": \"h\", \"showlegend\": true, \"type\": \"scatter\", \"x\": [0.0012486564004923206], \"xaxis\": \"x\", \"y\": [\"novel_object_1_13\"], \"yaxis\": \"y\"}, {\"hovertemplate\": \"object_name=novel_object_1_1_1<br>difficulty=%{x}<br>novel_name=%{y}<extra></extra>\", \"legendgroup\": \"novel_object_1_1_1\", \"marker\": {\"color\": \"#00cc96\", \"symbol\": \"circle\"}, \"mode\": \"markers\", \"name\": \"novel_object_1_1_1\", \"orientation\": \"h\", \"showlegend\": true, \"type\": \"scatter\", \"x\": [0.001150942619693383], \"xaxis\": \"x\", \"y\": [\"novel_object_1_1\"], \"yaxis\": \"y\"}, {\"hovertemplate\": \"object_name=novel_object_4_1_2<br>difficulty=%{x}<br>novel_name=%{y}<extra></extra>\", \"legendgroup\": \"novel_object_4_1_2\", \"marker\": {\"color\": \"#ab63fa\", \"symbol\": \"circle\"}, \"mode\": \"markers\", \"name\": \"novel_object_4_1_2\", \"orientation\": \"h\", \"showlegend\": true, \"type\": \"scatter\", \"x\": [0.0012006682910099676], \"xaxis\": \"x\", \"y\": [\"novel_object_1_2\"], \"yaxis\": \"y\"}, {\"hovertemplate\": \"object_name=novel_object_5_1_3<br>difficulty=%{x}<br>novel_name=%{y}<extra></extra>\", \"legendgroup\": \"novel_object_5_1_3\", \"marker\": {\"color\": \"#FFA15A\", \"symbol\": \"circle\"}, \"mode\": \"markers\", \"name\": \"novel_object_5_1_3\", \"orientation\": \"h\", \"showlegend\": true, \"type\": \"scatter\", \"x\": [0.0017384133994291877], \"xaxis\": \"x\", \"y\": [\"novel_object_1_3\"], \"yaxis\": \"y\"}, {\"hovertemplate\": \"object_name=novel_object_6_1_4<br>difficulty=%{x}<br>novel_name=%{y}<extra></extra>\", \"legendgroup\": \"novel_object_6_1_4\", \"marker\": {\"color\": \"#19d3f3\", \"symbol\": \"circle\"}, \"mode\": \"markers\", \"name\": \"novel_object_6_1_4\", \"orientation\": \"h\", \"showlegend\": true, \"type\": \"scatter\", \"x\": [0.001452878211698919], \"xaxis\": \"x\", \"y\": [\"novel_object_1_4\"], \"yaxis\": \"y\"}, {\"hovertemplate\": \"object_name=novel_object_0_1_5<br>difficulty=%{x}<br>novel_name=%{y}<extra></extra>\", \"legendgroup\": \"novel_object_0_1_5\", \"marker\": {\"color\": \"#FF6692\", \"symbol\": \"circle\"}, \"mode\": \"markers\", \"name\": \"novel_object_0_1_5\", \"orientation\": \"h\", \"showlegend\": true, \"type\": \"scatter\", \"x\": [0.0012271016529952865], \"xaxis\": \"x\", \"y\": [\"novel_object_1_5\"], \"yaxis\": \"y\"}, {\"hovertemplate\": \"object_name=novel_object_1_1_5<br>difficulty=%{x}<br>novel_name=%{y}<extra></extra>\", \"legendgroup\": \"novel_object_1_1_5\", \"marker\": {\"color\": \"#B6E880\", \"symbol\": \"circle\"}, \"mode\": \"markers\", \"name\": \"novel_object_1_1_5\", \"orientation\": \"h\", \"showlegend\": true, \"type\": \"scatter\", \"x\": [0.001678474152278545], \"xaxis\": \"x\", \"y\": [\"novel_object_1_5\"], \"yaxis\": \"y\"}, {\"hovertemplate\": \"object_name=novel_object_2_1_5<br>difficulty=%{x}<br>novel_name=%{y}<extra></extra>\", \"legendgroup\": \"novel_object_2_1_5\", \"marker\": {\"color\": \"#FF97FF\", \"symbol\": \"circle\"}, \"mode\": \"markers\", \"name\": \"novel_object_2_1_5\", \"orientation\": \"h\", \"showlegend\": true, \"type\": \"scatter\", \"x\": [0.0016162414340323101], \"xaxis\": \"x\", \"y\": [\"novel_object_1_5\"], \"yaxis\": \"y\"}, {\"hovertemplate\": \"object_name=novel_object_3_1_5<br>difficulty=%{x}<br>novel_name=%{y}<extra></extra>\", \"legendgroup\": \"novel_object_3_1_5\", \"marker\": {\"color\": \"#FECB52\", \"symbol\": \"circle\"}, \"mode\": \"markers\", \"name\": \"novel_object_3_1_5\", \"orientation\": \"h\", \"showlegend\": true, \"type\": \"scatter\", \"x\": [0.0012815631969074139], \"xaxis\": \"x\", \"y\": [\"novel_object_1_5\"], \"yaxis\": \"y\"}, {\"hovertemplate\": \"object_name=novel_object_4_1_5<br>difficulty=%{x}<br>novel_name=%{y}<extra></extra>\", \"legendgroup\": \"novel_object_4_1_5\", \"marker\": {\"color\": \"#636efa\", \"symbol\": \"circle\"}, \"mode\": \"markers\", \"name\": \"novel_object_4_1_5\", \"orientation\": \"h\", \"showlegend\": true, \"type\": \"scatter\", \"x\": [0.0015906034083072078], \"xaxis\": \"x\", \"y\": [\"novel_object_1_5\"], \"yaxis\": \"y\"}, {\"hovertemplate\": \"object_name=novel_object_5_1_5<br>difficulty=%{x}<br>novel_name=%{y}<extra></extra>\", \"legendgroup\": \"novel_object_5_1_5\", \"marker\": {\"color\": \"#EF553B\", \"symbol\": \"circle\"}, \"mode\": \"markers\", \"name\": \"novel_object_5_1_5\", \"orientation\": \"h\", \"showlegend\": true, \"type\": \"scatter\", \"x\": [0.0011392368616308746], \"xaxis\": \"x\", \"y\": [\"novel_object_1_5\"], \"yaxis\": \"y\"}, {\"hovertemplate\": \"object_name=novel_object_6_1_5<br>difficulty=%{x}<br>novel_name=%{y}<extra></extra>\", \"legendgroup\": \"novel_object_6_1_5\", \"marker\": {\"color\": \"#00cc96\", \"symbol\": \"circle\"}, \"mode\": \"markers\", \"name\": \"novel_object_6_1_5\", \"orientation\": \"h\", \"showlegend\": true, \"type\": \"scatter\", \"x\": [0.0014848192479901795], \"xaxis\": \"x\", \"y\": [\"novel_object_1_5\"], \"yaxis\": \"y\"}, {\"hovertemplate\": \"object_name=novel_object_8_1_5<br>difficulty=%{x}<br>novel_name=%{y}<extra></extra>\", \"legendgroup\": \"novel_object_8_1_5\", \"marker\": {\"color\": \"#ab63fa\", \"symbol\": \"circle\"}, \"mode\": \"markers\", \"name\": \"novel_object_8_1_5\", \"orientation\": \"h\", \"showlegend\": true, \"type\": \"scatter\", \"x\": [0.0020939969831215185], \"xaxis\": \"x\", \"y\": [\"novel_object_1_5\"], \"yaxis\": \"y\"}, {\"hovertemplate\": \"object_name=novel_object_9_1_5<br>difficulty=%{x}<br>novel_name=%{y}<extra></extra>\", \"legendgroup\": \"novel_object_9_1_5\", \"marker\": {\"color\": \"#FFA15A\", \"symbol\": \"circle\"}, \"mode\": \"markers\", \"name\": \"novel_object_9_1_5\", \"orientation\": \"h\", \"showlegend\": true, \"type\": \"scatter\", \"x\": [0.0024305871237119297], \"xaxis\": \"x\", \"y\": [\"novel_object_1_5\"], \"yaxis\": \"y\"}, {\"hovertemplate\": \"object_name=novel_object_10_1_5<br>difficulty=%{x}<br>novel_name=%{y}<extra></extra>\", \"legendgroup\": \"novel_object_10_1_5\", \"marker\": {\"color\": \"#19d3f3\", \"symbol\": \"circle\"}, \"mode\": \"markers\", \"name\": \"novel_object_10_1_5\", \"orientation\": \"h\", \"showlegend\": true, \"type\": \"scatter\", \"x\": [0.0012786144092596442], \"xaxis\": \"x\", \"y\": [\"novel_object_1_5\"], \"yaxis\": \"y\"}, {\"hovertemplate\": \"object_name=novel_object_11_1_5<br>difficulty=%{x}<br>novel_name=%{y}<extra></extra>\", \"legendgroup\": \"novel_object_11_1_5\", \"marker\": {\"color\": \"#FF6692\", \"symbol\": \"circle\"}, \"mode\": \"markers\", \"name\": \"novel_object_11_1_5\", \"orientation\": \"h\", \"showlegend\": true, \"type\": \"scatter\", \"x\": [0.0018568004111368236], \"xaxis\": \"x\", \"y\": [\"novel_object_1_5\"], \"yaxis\": \"y\"}, {\"hovertemplate\": \"object_name=novel_object_7_1_5<br>difficulty=%{x}<br>novel_name=%{y}<extra></extra>\", \"legendgroup\": \"novel_object_7_1_5\", \"marker\": {\"color\": \"#B6E880\", \"symbol\": \"circle\"}, \"mode\": \"markers\", \"name\": \"novel_object_7_1_5\", \"orientation\": \"h\", \"showlegend\": true, \"type\": \"scatter\", \"x\": [0.0020143480864498573], \"xaxis\": \"x\", \"y\": [\"novel_object_1_5\"], \"yaxis\": \"y\"}, {\"hovertemplate\": \"object_name=novel_object_0_3_2<br>difficulty=%{x}<br>novel_name=%{y}<extra></extra>\", \"legendgroup\": \"novel_object_0_3_2\", \"marker\": {\"color\": \"#FF97FF\", \"symbol\": \"circle\"}, \"mode\": \"markers\", \"name\": \"novel_object_0_3_2\", \"orientation\": \"h\", \"showlegend\": true, \"type\": \"scatter\", \"x\": [0.0017318813244329406], \"xaxis\": \"x\", \"y\": [\"novel_object_3_2\"], \"yaxis\": \"y\"}],\n",
       "                        {\"legend\": {\"title\": {\"text\": \"object_name\"}, \"tracegroupgap\": 0}, \"template\": {\"data\": {\"bar\": [{\"error_x\": {\"color\": \"#2a3f5f\"}, \"error_y\": {\"color\": \"#2a3f5f\"}, \"marker\": {\"line\": {\"color\": \"#E5ECF6\", \"width\": 0.5}}, \"type\": \"bar\"}], \"barpolar\": [{\"marker\": {\"line\": {\"color\": \"#E5ECF6\", \"width\": 0.5}}, \"type\": \"barpolar\"}], \"carpet\": [{\"aaxis\": {\"endlinecolor\": \"#2a3f5f\", \"gridcolor\": \"white\", \"linecolor\": \"white\", \"minorgridcolor\": \"white\", \"startlinecolor\": \"#2a3f5f\"}, \"baxis\": {\"endlinecolor\": \"#2a3f5f\", \"gridcolor\": \"white\", \"linecolor\": \"white\", \"minorgridcolor\": \"white\", \"startlinecolor\": \"#2a3f5f\"}, \"type\": \"carpet\"}], \"choropleth\": [{\"colorbar\": {\"outlinewidth\": 0, \"ticks\": \"\"}, \"type\": \"choropleth\"}], \"contour\": [{\"colorbar\": {\"outlinewidth\": 0, \"ticks\": \"\"}, \"colorscale\": [[0.0, \"#0d0887\"], [0.1111111111111111, \"#46039f\"], [0.2222222222222222, \"#7201a8\"], [0.3333333333333333, \"#9c179e\"], [0.4444444444444444, \"#bd3786\"], [0.5555555555555556, \"#d8576b\"], [0.6666666666666666, \"#ed7953\"], [0.7777777777777778, \"#fb9f3a\"], [0.8888888888888888, \"#fdca26\"], [1.0, \"#f0f921\"]], \"type\": \"contour\"}], \"contourcarpet\": [{\"colorbar\": {\"outlinewidth\": 0, \"ticks\": \"\"}, \"type\": \"contourcarpet\"}], \"heatmap\": [{\"colorbar\": {\"outlinewidth\": 0, \"ticks\": \"\"}, \"colorscale\": [[0.0, \"#0d0887\"], [0.1111111111111111, \"#46039f\"], [0.2222222222222222, \"#7201a8\"], [0.3333333333333333, \"#9c179e\"], [0.4444444444444444, \"#bd3786\"], [0.5555555555555556, \"#d8576b\"], [0.6666666666666666, \"#ed7953\"], [0.7777777777777778, \"#fb9f3a\"], [0.8888888888888888, \"#fdca26\"], [1.0, \"#f0f921\"]], \"type\": \"heatmap\"}], \"heatmapgl\": [{\"colorbar\": {\"outlinewidth\": 0, \"ticks\": \"\"}, \"colorscale\": [[0.0, \"#0d0887\"], [0.1111111111111111, \"#46039f\"], [0.2222222222222222, \"#7201a8\"], [0.3333333333333333, \"#9c179e\"], [0.4444444444444444, \"#bd3786\"], [0.5555555555555556, \"#d8576b\"], [0.6666666666666666, \"#ed7953\"], [0.7777777777777778, \"#fb9f3a\"], [0.8888888888888888, \"#fdca26\"], [1.0, \"#f0f921\"]], \"type\": \"heatmapgl\"}], \"histogram\": [{\"marker\": {\"colorbar\": {\"outlinewidth\": 0, \"ticks\": \"\"}}, \"type\": \"histogram\"}], \"histogram2d\": [{\"colorbar\": {\"outlinewidth\": 0, \"ticks\": \"\"}, \"colorscale\": [[0.0, \"#0d0887\"], [0.1111111111111111, \"#46039f\"], [0.2222222222222222, \"#7201a8\"], [0.3333333333333333, \"#9c179e\"], [0.4444444444444444, \"#bd3786\"], [0.5555555555555556, \"#d8576b\"], [0.6666666666666666, \"#ed7953\"], [0.7777777777777778, \"#fb9f3a\"], [0.8888888888888888, \"#fdca26\"], [1.0, \"#f0f921\"]], \"type\": \"histogram2d\"}], \"histogram2dcontour\": [{\"colorbar\": {\"outlinewidth\": 0, \"ticks\": \"\"}, \"colorscale\": [[0.0, \"#0d0887\"], [0.1111111111111111, \"#46039f\"], [0.2222222222222222, \"#7201a8\"], [0.3333333333333333, \"#9c179e\"], [0.4444444444444444, \"#bd3786\"], [0.5555555555555556, \"#d8576b\"], [0.6666666666666666, \"#ed7953\"], [0.7777777777777778, \"#fb9f3a\"], [0.8888888888888888, \"#fdca26\"], [1.0, \"#f0f921\"]], \"type\": \"histogram2dcontour\"}], \"mesh3d\": [{\"colorbar\": {\"outlinewidth\": 0, \"ticks\": \"\"}, \"type\": \"mesh3d\"}], \"parcoords\": [{\"line\": {\"colorbar\": {\"outlinewidth\": 0, \"ticks\": \"\"}}, \"type\": \"parcoords\"}], \"pie\": [{\"automargin\": true, \"type\": \"pie\"}], \"scatter\": [{\"marker\": {\"colorbar\": {\"outlinewidth\": 0, \"ticks\": \"\"}}, \"type\": \"scatter\"}], \"scatter3d\": [{\"line\": {\"colorbar\": {\"outlinewidth\": 0, \"ticks\": \"\"}}, \"marker\": {\"colorbar\": {\"outlinewidth\": 0, \"ticks\": \"\"}}, \"type\": \"scatter3d\"}], \"scattercarpet\": [{\"marker\": {\"colorbar\": {\"outlinewidth\": 0, \"ticks\": \"\"}}, \"type\": \"scattercarpet\"}], \"scattergeo\": [{\"marker\": {\"colorbar\": {\"outlinewidth\": 0, \"ticks\": \"\"}}, \"type\": \"scattergeo\"}], \"scattergl\": [{\"marker\": {\"colorbar\": {\"outlinewidth\": 0, \"ticks\": \"\"}}, \"type\": \"scattergl\"}], \"scattermapbox\": [{\"marker\": {\"colorbar\": {\"outlinewidth\": 0, \"ticks\": \"\"}}, \"type\": \"scattermapbox\"}], \"scatterpolar\": [{\"marker\": {\"colorbar\": {\"outlinewidth\": 0, \"ticks\": \"\"}}, \"type\": \"scatterpolar\"}], \"scatterpolargl\": [{\"marker\": {\"colorbar\": {\"outlinewidth\": 0, \"ticks\": \"\"}}, \"type\": \"scatterpolargl\"}], \"scatterternary\": [{\"marker\": {\"colorbar\": {\"outlinewidth\": 0, \"ticks\": \"\"}}, \"type\": \"scatterternary\"}], \"surface\": [{\"colorbar\": {\"outlinewidth\": 0, \"ticks\": \"\"}, \"colorscale\": [[0.0, \"#0d0887\"], [0.1111111111111111, \"#46039f\"], [0.2222222222222222, \"#7201a8\"], [0.3333333333333333, \"#9c179e\"], [0.4444444444444444, \"#bd3786\"], [0.5555555555555556, \"#d8576b\"], [0.6666666666666666, \"#ed7953\"], [0.7777777777777778, \"#fb9f3a\"], [0.8888888888888888, \"#fdca26\"], [1.0, \"#f0f921\"]], \"type\": \"surface\"}], \"table\": [{\"cells\": {\"fill\": {\"color\": \"#EBF0F8\"}, \"line\": {\"color\": \"white\"}}, \"header\": {\"fill\": {\"color\": \"#C8D4E3\"}, \"line\": {\"color\": \"white\"}}, \"type\": \"table\"}]}, \"layout\": {\"annotationdefaults\": {\"arrowcolor\": \"#2a3f5f\", \"arrowhead\": 0, \"arrowwidth\": 1}, \"coloraxis\": {\"colorbar\": {\"outlinewidth\": 0, \"ticks\": \"\"}}, \"colorscale\": {\"diverging\": [[0, \"#8e0152\"], [0.1, \"#c51b7d\"], [0.2, \"#de77ae\"], [0.3, \"#f1b6da\"], [0.4, \"#fde0ef\"], [0.5, \"#f7f7f7\"], [0.6, \"#e6f5d0\"], [0.7, \"#b8e186\"], [0.8, \"#7fbc41\"], [0.9, \"#4d9221\"], [1, \"#276419\"]], \"sequential\": [[0.0, \"#0d0887\"], [0.1111111111111111, \"#46039f\"], [0.2222222222222222, \"#7201a8\"], [0.3333333333333333, \"#9c179e\"], [0.4444444444444444, \"#bd3786\"], [0.5555555555555556, \"#d8576b\"], [0.6666666666666666, \"#ed7953\"], [0.7777777777777778, \"#fb9f3a\"], [0.8888888888888888, \"#fdca26\"], [1.0, \"#f0f921\"]], \"sequentialminus\": [[0.0, \"#0d0887\"], [0.1111111111111111, \"#46039f\"], [0.2222222222222222, \"#7201a8\"], [0.3333333333333333, \"#9c179e\"], [0.4444444444444444, \"#bd3786\"], [0.5555555555555556, \"#d8576b\"], [0.6666666666666666, \"#ed7953\"], [0.7777777777777778, \"#fb9f3a\"], [0.8888888888888888, \"#fdca26\"], [1.0, \"#f0f921\"]]}, \"colorway\": [\"#636efa\", \"#EF553B\", \"#00cc96\", \"#ab63fa\", \"#FFA15A\", \"#19d3f3\", \"#FF6692\", \"#B6E880\", \"#FF97FF\", \"#FECB52\"], \"font\": {\"color\": \"#2a3f5f\"}, \"geo\": {\"bgcolor\": \"white\", \"lakecolor\": \"white\", \"landcolor\": \"#E5ECF6\", \"showlakes\": true, \"showland\": true, \"subunitcolor\": \"white\"}, \"hoverlabel\": {\"align\": \"left\"}, \"hovermode\": \"closest\", \"mapbox\": {\"style\": \"light\"}, \"paper_bgcolor\": \"white\", \"plot_bgcolor\": \"#E5ECF6\", \"polar\": {\"angularaxis\": {\"gridcolor\": \"white\", \"linecolor\": \"white\", \"ticks\": \"\"}, \"bgcolor\": \"#E5ECF6\", \"radialaxis\": {\"gridcolor\": \"white\", \"linecolor\": \"white\", \"ticks\": \"\"}}, \"scene\": {\"xaxis\": {\"backgroundcolor\": \"#E5ECF6\", \"gridcolor\": \"white\", \"gridwidth\": 2, \"linecolor\": \"white\", \"showbackground\": true, \"ticks\": \"\", \"zerolinecolor\": \"white\"}, \"yaxis\": {\"backgroundcolor\": \"#E5ECF6\", \"gridcolor\": \"white\", \"gridwidth\": 2, \"linecolor\": \"white\", \"showbackground\": true, \"ticks\": \"\", \"zerolinecolor\": \"white\"}, \"zaxis\": {\"backgroundcolor\": \"#E5ECF6\", \"gridcolor\": \"white\", \"gridwidth\": 2, \"linecolor\": \"white\", \"showbackground\": true, \"ticks\": \"\", \"zerolinecolor\": \"white\"}}, \"shapedefaults\": {\"line\": {\"color\": \"#2a3f5f\"}}, \"ternary\": {\"aaxis\": {\"gridcolor\": \"white\", \"linecolor\": \"white\", \"ticks\": \"\"}, \"baxis\": {\"gridcolor\": \"white\", \"linecolor\": \"white\", \"ticks\": \"\"}, \"bgcolor\": \"#E5ECF6\", \"caxis\": {\"gridcolor\": \"white\", \"linecolor\": \"white\", \"ticks\": \"\"}}, \"title\": {\"x\": 0.05}, \"xaxis\": {\"automargin\": true, \"gridcolor\": \"white\", \"linecolor\": \"white\", \"ticks\": \"\", \"title\": {\"standoff\": 15}, \"zerolinecolor\": \"white\", \"zerolinewidth\": 2}, \"yaxis\": {\"automargin\": true, \"gridcolor\": \"white\", \"linecolor\": \"white\", \"ticks\": \"\", \"title\": {\"standoff\": 15}, \"zerolinecolor\": \"white\", \"zerolinewidth\": 2}}}, \"title\": {\"text\": \"Difficulty Measure for Colour\"}, \"xaxis\": {\"anchor\": \"y\", \"domain\": [0.0, 1.0], \"title\": {\"text\": \"difficulty\"}}, \"yaxis\": {\"anchor\": \"x\", \"domain\": [0.0, 1.0], \"title\": {\"text\": \"novel_name\"}}},\n",
       "                        {\"responsive\": true}\n",
       "                    ).then(function(){\n",
       "                            \n",
       "var gd = document.getElementById('f65315b7-949b-4638-a91f-ec671e4f02e7');\n",
       "var x = new MutationObserver(function (mutations, observer) {{\n",
       "        var display = window.getComputedStyle(gd).display;\n",
       "        if (!display || display === 'none') {{\n",
       "            console.log([gd, 'removed!']);\n",
       "            Plotly.purge(gd);\n",
       "            observer.disconnect();\n",
       "        }}\n",
       "}});\n",
       "\n",
       "// Listen for the removal of the full notebook cells\n",
       "var notebookContainer = gd.closest('#notebook-container');\n",
       "if (notebookContainer) {{\n",
       "    x.observe(notebookContainer, {childList: true});\n",
       "}}\n",
       "\n",
       "// Listen for the clearing of the current output cell\n",
       "var outputEl = gd.closest('.output');\n",
       "if (outputEl) {{\n",
       "    x.observe(outputEl, {childList: true});\n",
       "}}\n",
       "\n",
       "                        })\n",
       "                };\n",
       "                });\n",
       "            </script>\n",
       "        </div>"
      ]
     },
     "metadata": {},
     "output_type": "display_data"
    }
   ],
   "source": [
    "fig = px.scatter(dm_df, x=\"difficulty\", y=\"novel_name\", color=\"object_name\",\n",
    "                 title=\"Difficulty Measure for Colour\"\n",
    "                )\n",
    "\n",
    "fig.show()"
   ]
  },
  {
   "cell_type": "code",
   "execution_count": 71,
   "metadata": {},
   "outputs": [
    {
     "data": {
      "text/html": [
       "<div>\n",
       "<style scoped>\n",
       "    .dataframe tbody tr th:only-of-type {\n",
       "        vertical-align: middle;\n",
       "    }\n",
       "\n",
       "    .dataframe tbody tr th {\n",
       "        vertical-align: top;\n",
       "    }\n",
       "\n",
       "    .dataframe thead th {\n",
       "        text-align: right;\n",
       "    }\n",
       "</style>\n",
       "<table border=\"1\" class=\"dataframe\">\n",
       "  <thead>\n",
       "    <tr style=\"text-align: right;\">\n",
       "      <th></th>\n",
       "      <th>difficulty</th>\n",
       "    </tr>\n",
       "    <tr>\n",
       "      <th>novel_name</th>\n",
       "      <th></th>\n",
       "    </tr>\n",
       "  </thead>\n",
       "  <tbody>\n",
       "    <tr>\n",
       "      <th>novel_object_1_1</th>\n",
       "      <td>0.001151</td>\n",
       "    </tr>\n",
       "    <tr>\n",
       "      <th>novel_object_1_10</th>\n",
       "      <td>0.001421</td>\n",
       "    </tr>\n",
       "    <tr>\n",
       "      <th>novel_object_1_11</th>\n",
       "      <td>0.001428</td>\n",
       "    </tr>\n",
       "    <tr>\n",
       "      <th>novel_object_1_12</th>\n",
       "      <td>0.001425</td>\n",
       "    </tr>\n",
       "    <tr>\n",
       "      <th>novel_object_1_13</th>\n",
       "      <td>0.001249</td>\n",
       "    </tr>\n",
       "    <tr>\n",
       "      <th>novel_object_1_2</th>\n",
       "      <td>0.001201</td>\n",
       "    </tr>\n",
       "    <tr>\n",
       "      <th>novel_object_1_3</th>\n",
       "      <td>0.001738</td>\n",
       "    </tr>\n",
       "    <tr>\n",
       "      <th>novel_object_1_4</th>\n",
       "      <td>0.001453</td>\n",
       "    </tr>\n",
       "    <tr>\n",
       "      <th>novel_object_1_5</th>\n",
       "      <td>0.001641</td>\n",
       "    </tr>\n",
       "    <tr>\n",
       "      <th>novel_object_1_6</th>\n",
       "      <td>0.001392</td>\n",
       "    </tr>\n",
       "    <tr>\n",
       "      <th>novel_object_1_7</th>\n",
       "      <td>0.003050</td>\n",
       "    </tr>\n",
       "    <tr>\n",
       "      <th>novel_object_1_8</th>\n",
       "      <td>0.013569</td>\n",
       "    </tr>\n",
       "    <tr>\n",
       "      <th>novel_object_1_9</th>\n",
       "      <td>0.025082</td>\n",
       "    </tr>\n",
       "    <tr>\n",
       "      <th>novel_object_3_2</th>\n",
       "      <td>0.001732</td>\n",
       "    </tr>\n",
       "  </tbody>\n",
       "</table>\n",
       "</div>"
      ],
      "text/plain": [
       "                   difficulty\n",
       "novel_name                   \n",
       "novel_object_1_1     0.001151\n",
       "novel_object_1_10    0.001421\n",
       "novel_object_1_11    0.001428\n",
       "novel_object_1_12    0.001425\n",
       "novel_object_1_13    0.001249\n",
       "novel_object_1_2     0.001201\n",
       "novel_object_1_3     0.001738\n",
       "novel_object_1_4     0.001453\n",
       "novel_object_1_5     0.001641\n",
       "novel_object_1_6     0.001392\n",
       "novel_object_1_7     0.003050\n",
       "novel_object_1_8     0.013569\n",
       "novel_object_1_9     0.025082\n",
       "novel_object_3_2     0.001732"
      ]
     },
     "execution_count": 71,
     "metadata": {},
     "output_type": "execute_result"
    }
   ],
   "source": [
    "overall_df = dm_df.groupby(['novel_name']).mean()\n",
    "overall_df"
   ]
  },
  {
   "cell_type": "code",
   "execution_count": 76,
   "metadata": {},
   "outputs": [
    {
     "data": {
      "application/vnd.plotly.v1+json": {
       "config": {
        "plotlyServerURL": "https://plot.ly"
       },
       "data": [
        {
         "hovertemplate": "x=%{x}<br>y=%{y}<extra></extra>",
         "legendgroup": "",
         "marker": {
          "color": "#636efa",
          "symbol": "circle"
         },
         "mode": "markers",
         "name": "",
         "orientation": "v",
         "showlegend": false,
         "type": "scatter",
         "x": [
          "novel_object_1_6",
          "novel_object_1_7",
          "novel_object_1_8",
          "novel_object_1_9",
          "novel_object_1_10",
          "novel_object_1_11",
          "novel_object_1_12",
          "novel_object_1_13",
          "novel_object_1_1",
          "novel_object_1_2",
          "novel_object_1_3",
          "novel_object_1_4",
          "novel_object_1_5",
          "novel_object_3_2"
         ],
         "xaxis": "x",
         "y": [
          0.0013920035790965868,
          0.003050052629368087,
          0.013568599590614438,
          0.025082335664893568,
          0.0014211912969938297,
          0.001428346960568933,
          0.0014254087044052442,
          0.0012486564004923206,
          0.001150942619693383,
          0.0012006682910099676,
          0.0017384133994291877,
          0.001452878211698919,
          0.0016410322473184658,
          0.0017318813244329406
         ],
         "yaxis": "y"
        }
       ],
       "layout": {
        "legend": {
         "tracegroupgap": 0
        },
        "template": {
         "data": {
          "bar": [
           {
            "error_x": {
             "color": "#2a3f5f"
            },
            "error_y": {
             "color": "#2a3f5f"
            },
            "marker": {
             "line": {
              "color": "#E5ECF6",
              "width": 0.5
             }
            },
            "type": "bar"
           }
          ],
          "barpolar": [
           {
            "marker": {
             "line": {
              "color": "#E5ECF6",
              "width": 0.5
             }
            },
            "type": "barpolar"
           }
          ],
          "carpet": [
           {
            "aaxis": {
             "endlinecolor": "#2a3f5f",
             "gridcolor": "white",
             "linecolor": "white",
             "minorgridcolor": "white",
             "startlinecolor": "#2a3f5f"
            },
            "baxis": {
             "endlinecolor": "#2a3f5f",
             "gridcolor": "white",
             "linecolor": "white",
             "minorgridcolor": "white",
             "startlinecolor": "#2a3f5f"
            },
            "type": "carpet"
           }
          ],
          "choropleth": [
           {
            "colorbar": {
             "outlinewidth": 0,
             "ticks": ""
            },
            "type": "choropleth"
           }
          ],
          "contour": [
           {
            "colorbar": {
             "outlinewidth": 0,
             "ticks": ""
            },
            "colorscale": [
             [
              0,
              "#0d0887"
             ],
             [
              0.1111111111111111,
              "#46039f"
             ],
             [
              0.2222222222222222,
              "#7201a8"
             ],
             [
              0.3333333333333333,
              "#9c179e"
             ],
             [
              0.4444444444444444,
              "#bd3786"
             ],
             [
              0.5555555555555556,
              "#d8576b"
             ],
             [
              0.6666666666666666,
              "#ed7953"
             ],
             [
              0.7777777777777778,
              "#fb9f3a"
             ],
             [
              0.8888888888888888,
              "#fdca26"
             ],
             [
              1,
              "#f0f921"
             ]
            ],
            "type": "contour"
           }
          ],
          "contourcarpet": [
           {
            "colorbar": {
             "outlinewidth": 0,
             "ticks": ""
            },
            "type": "contourcarpet"
           }
          ],
          "heatmap": [
           {
            "colorbar": {
             "outlinewidth": 0,
             "ticks": ""
            },
            "colorscale": [
             [
              0,
              "#0d0887"
             ],
             [
              0.1111111111111111,
              "#46039f"
             ],
             [
              0.2222222222222222,
              "#7201a8"
             ],
             [
              0.3333333333333333,
              "#9c179e"
             ],
             [
              0.4444444444444444,
              "#bd3786"
             ],
             [
              0.5555555555555556,
              "#d8576b"
             ],
             [
              0.6666666666666666,
              "#ed7953"
             ],
             [
              0.7777777777777778,
              "#fb9f3a"
             ],
             [
              0.8888888888888888,
              "#fdca26"
             ],
             [
              1,
              "#f0f921"
             ]
            ],
            "type": "heatmap"
           }
          ],
          "heatmapgl": [
           {
            "colorbar": {
             "outlinewidth": 0,
             "ticks": ""
            },
            "colorscale": [
             [
              0,
              "#0d0887"
             ],
             [
              0.1111111111111111,
              "#46039f"
             ],
             [
              0.2222222222222222,
              "#7201a8"
             ],
             [
              0.3333333333333333,
              "#9c179e"
             ],
             [
              0.4444444444444444,
              "#bd3786"
             ],
             [
              0.5555555555555556,
              "#d8576b"
             ],
             [
              0.6666666666666666,
              "#ed7953"
             ],
             [
              0.7777777777777778,
              "#fb9f3a"
             ],
             [
              0.8888888888888888,
              "#fdca26"
             ],
             [
              1,
              "#f0f921"
             ]
            ],
            "type": "heatmapgl"
           }
          ],
          "histogram": [
           {
            "marker": {
             "colorbar": {
              "outlinewidth": 0,
              "ticks": ""
             }
            },
            "type": "histogram"
           }
          ],
          "histogram2d": [
           {
            "colorbar": {
             "outlinewidth": 0,
             "ticks": ""
            },
            "colorscale": [
             [
              0,
              "#0d0887"
             ],
             [
              0.1111111111111111,
              "#46039f"
             ],
             [
              0.2222222222222222,
              "#7201a8"
             ],
             [
              0.3333333333333333,
              "#9c179e"
             ],
             [
              0.4444444444444444,
              "#bd3786"
             ],
             [
              0.5555555555555556,
              "#d8576b"
             ],
             [
              0.6666666666666666,
              "#ed7953"
             ],
             [
              0.7777777777777778,
              "#fb9f3a"
             ],
             [
              0.8888888888888888,
              "#fdca26"
             ],
             [
              1,
              "#f0f921"
             ]
            ],
            "type": "histogram2d"
           }
          ],
          "histogram2dcontour": [
           {
            "colorbar": {
             "outlinewidth": 0,
             "ticks": ""
            },
            "colorscale": [
             [
              0,
              "#0d0887"
             ],
             [
              0.1111111111111111,
              "#46039f"
             ],
             [
              0.2222222222222222,
              "#7201a8"
             ],
             [
              0.3333333333333333,
              "#9c179e"
             ],
             [
              0.4444444444444444,
              "#bd3786"
             ],
             [
              0.5555555555555556,
              "#d8576b"
             ],
             [
              0.6666666666666666,
              "#ed7953"
             ],
             [
              0.7777777777777778,
              "#fb9f3a"
             ],
             [
              0.8888888888888888,
              "#fdca26"
             ],
             [
              1,
              "#f0f921"
             ]
            ],
            "type": "histogram2dcontour"
           }
          ],
          "mesh3d": [
           {
            "colorbar": {
             "outlinewidth": 0,
             "ticks": ""
            },
            "type": "mesh3d"
           }
          ],
          "parcoords": [
           {
            "line": {
             "colorbar": {
              "outlinewidth": 0,
              "ticks": ""
             }
            },
            "type": "parcoords"
           }
          ],
          "pie": [
           {
            "automargin": true,
            "type": "pie"
           }
          ],
          "scatter": [
           {
            "marker": {
             "colorbar": {
              "outlinewidth": 0,
              "ticks": ""
             }
            },
            "type": "scatter"
           }
          ],
          "scatter3d": [
           {
            "line": {
             "colorbar": {
              "outlinewidth": 0,
              "ticks": ""
             }
            },
            "marker": {
             "colorbar": {
              "outlinewidth": 0,
              "ticks": ""
             }
            },
            "type": "scatter3d"
           }
          ],
          "scattercarpet": [
           {
            "marker": {
             "colorbar": {
              "outlinewidth": 0,
              "ticks": ""
             }
            },
            "type": "scattercarpet"
           }
          ],
          "scattergeo": [
           {
            "marker": {
             "colorbar": {
              "outlinewidth": 0,
              "ticks": ""
             }
            },
            "type": "scattergeo"
           }
          ],
          "scattergl": [
           {
            "marker": {
             "colorbar": {
              "outlinewidth": 0,
              "ticks": ""
             }
            },
            "type": "scattergl"
           }
          ],
          "scattermapbox": [
           {
            "marker": {
             "colorbar": {
              "outlinewidth": 0,
              "ticks": ""
             }
            },
            "type": "scattermapbox"
           }
          ],
          "scatterpolar": [
           {
            "marker": {
             "colorbar": {
              "outlinewidth": 0,
              "ticks": ""
             }
            },
            "type": "scatterpolar"
           }
          ],
          "scatterpolargl": [
           {
            "marker": {
             "colorbar": {
              "outlinewidth": 0,
              "ticks": ""
             }
            },
            "type": "scatterpolargl"
           }
          ],
          "scatterternary": [
           {
            "marker": {
             "colorbar": {
              "outlinewidth": 0,
              "ticks": ""
             }
            },
            "type": "scatterternary"
           }
          ],
          "surface": [
           {
            "colorbar": {
             "outlinewidth": 0,
             "ticks": ""
            },
            "colorscale": [
             [
              0,
              "#0d0887"
             ],
             [
              0.1111111111111111,
              "#46039f"
             ],
             [
              0.2222222222222222,
              "#7201a8"
             ],
             [
              0.3333333333333333,
              "#9c179e"
             ],
             [
              0.4444444444444444,
              "#bd3786"
             ],
             [
              0.5555555555555556,
              "#d8576b"
             ],
             [
              0.6666666666666666,
              "#ed7953"
             ],
             [
              0.7777777777777778,
              "#fb9f3a"
             ],
             [
              0.8888888888888888,
              "#fdca26"
             ],
             [
              1,
              "#f0f921"
             ]
            ],
            "type": "surface"
           }
          ],
          "table": [
           {
            "cells": {
             "fill": {
              "color": "#EBF0F8"
             },
             "line": {
              "color": "white"
             }
            },
            "header": {
             "fill": {
              "color": "#C8D4E3"
             },
             "line": {
              "color": "white"
             }
            },
            "type": "table"
           }
          ]
         },
         "layout": {
          "annotationdefaults": {
           "arrowcolor": "#2a3f5f",
           "arrowhead": 0,
           "arrowwidth": 1
          },
          "coloraxis": {
           "colorbar": {
            "outlinewidth": 0,
            "ticks": ""
           }
          },
          "colorscale": {
           "diverging": [
            [
             0,
             "#8e0152"
            ],
            [
             0.1,
             "#c51b7d"
            ],
            [
             0.2,
             "#de77ae"
            ],
            [
             0.3,
             "#f1b6da"
            ],
            [
             0.4,
             "#fde0ef"
            ],
            [
             0.5,
             "#f7f7f7"
            ],
            [
             0.6,
             "#e6f5d0"
            ],
            [
             0.7,
             "#b8e186"
            ],
            [
             0.8,
             "#7fbc41"
            ],
            [
             0.9,
             "#4d9221"
            ],
            [
             1,
             "#276419"
            ]
           ],
           "sequential": [
            [
             0,
             "#0d0887"
            ],
            [
             0.1111111111111111,
             "#46039f"
            ],
            [
             0.2222222222222222,
             "#7201a8"
            ],
            [
             0.3333333333333333,
             "#9c179e"
            ],
            [
             0.4444444444444444,
             "#bd3786"
            ],
            [
             0.5555555555555556,
             "#d8576b"
            ],
            [
             0.6666666666666666,
             "#ed7953"
            ],
            [
             0.7777777777777778,
             "#fb9f3a"
            ],
            [
             0.8888888888888888,
             "#fdca26"
            ],
            [
             1,
             "#f0f921"
            ]
           ],
           "sequentialminus": [
            [
             0,
             "#0d0887"
            ],
            [
             0.1111111111111111,
             "#46039f"
            ],
            [
             0.2222222222222222,
             "#7201a8"
            ],
            [
             0.3333333333333333,
             "#9c179e"
            ],
            [
             0.4444444444444444,
             "#bd3786"
            ],
            [
             0.5555555555555556,
             "#d8576b"
            ],
            [
             0.6666666666666666,
             "#ed7953"
            ],
            [
             0.7777777777777778,
             "#fb9f3a"
            ],
            [
             0.8888888888888888,
             "#fdca26"
            ],
            [
             1,
             "#f0f921"
            ]
           ]
          },
          "colorway": [
           "#636efa",
           "#EF553B",
           "#00cc96",
           "#ab63fa",
           "#FFA15A",
           "#19d3f3",
           "#FF6692",
           "#B6E880",
           "#FF97FF",
           "#FECB52"
          ],
          "font": {
           "color": "#2a3f5f"
          },
          "geo": {
           "bgcolor": "white",
           "lakecolor": "white",
           "landcolor": "#E5ECF6",
           "showlakes": true,
           "showland": true,
           "subunitcolor": "white"
          },
          "hoverlabel": {
           "align": "left"
          },
          "hovermode": "closest",
          "mapbox": {
           "style": "light"
          },
          "paper_bgcolor": "white",
          "plot_bgcolor": "#E5ECF6",
          "polar": {
           "angularaxis": {
            "gridcolor": "white",
            "linecolor": "white",
            "ticks": ""
           },
           "bgcolor": "#E5ECF6",
           "radialaxis": {
            "gridcolor": "white",
            "linecolor": "white",
            "ticks": ""
           }
          },
          "scene": {
           "xaxis": {
            "backgroundcolor": "#E5ECF6",
            "gridcolor": "white",
            "gridwidth": 2,
            "linecolor": "white",
            "showbackground": true,
            "ticks": "",
            "zerolinecolor": "white"
           },
           "yaxis": {
            "backgroundcolor": "#E5ECF6",
            "gridcolor": "white",
            "gridwidth": 2,
            "linecolor": "white",
            "showbackground": true,
            "ticks": "",
            "zerolinecolor": "white"
           },
           "zaxis": {
            "backgroundcolor": "#E5ECF6",
            "gridcolor": "white",
            "gridwidth": 2,
            "linecolor": "white",
            "showbackground": true,
            "ticks": "",
            "zerolinecolor": "white"
           }
          },
          "shapedefaults": {
           "line": {
            "color": "#2a3f5f"
           }
          },
          "ternary": {
           "aaxis": {
            "gridcolor": "white",
            "linecolor": "white",
            "ticks": ""
           },
           "baxis": {
            "gridcolor": "white",
            "linecolor": "white",
            "ticks": ""
           },
           "bgcolor": "#E5ECF6",
           "caxis": {
            "gridcolor": "white",
            "linecolor": "white",
            "ticks": ""
           }
          },
          "title": {
           "x": 0.05
          },
          "xaxis": {
           "automargin": true,
           "gridcolor": "white",
           "linecolor": "white",
           "ticks": "",
           "title": {
            "standoff": 15
           },
           "zerolinecolor": "white",
           "zerolinewidth": 2
          },
          "yaxis": {
           "automargin": true,
           "gridcolor": "white",
           "linecolor": "white",
           "ticks": "",
           "title": {
            "standoff": 15
           },
           "zerolinecolor": "white",
           "zerolinewidth": 2
          }
         }
        },
        "title": {
         "text": "Difficulty Measure for Colour"
        },
        "xaxis": {
         "anchor": "y",
         "domain": [
          0,
          1
         ],
         "title": {
          "text": "x"
         }
        },
        "yaxis": {
         "anchor": "x",
         "domain": [
          0,
          1
         ],
         "title": {
          "text": "y"
         }
        }
       }
      },
      "text/html": [
       "<div>\n",
       "        \n",
       "        \n",
       "            <div id=\"29264940-047f-4d13-9354-00d06ad8220c\" class=\"plotly-graph-div\" style=\"height:525px; width:100%;\"></div>\n",
       "            <script type=\"text/javascript\">\n",
       "                require([\"plotly\"], function(Plotly) {\n",
       "                    window.PLOTLYENV=window.PLOTLYENV || {};\n",
       "                    \n",
       "                if (document.getElementById(\"29264940-047f-4d13-9354-00d06ad8220c\")) {\n",
       "                    Plotly.newPlot(\n",
       "                        '29264940-047f-4d13-9354-00d06ad8220c',\n",
       "                        [{\"hovertemplate\": \"x=%{x}<br>y=%{y}<extra></extra>\", \"legendgroup\": \"\", \"marker\": {\"color\": \"#636efa\", \"symbol\": \"circle\"}, \"mode\": \"markers\", \"name\": \"\", \"orientation\": \"v\", \"showlegend\": false, \"type\": \"scatter\", \"x\": [\"novel_object_1_6\", \"novel_object_1_7\", \"novel_object_1_8\", \"novel_object_1_9\", \"novel_object_1_10\", \"novel_object_1_11\", \"novel_object_1_12\", \"novel_object_1_13\", \"novel_object_1_1\", \"novel_object_1_2\", \"novel_object_1_3\", \"novel_object_1_4\", \"novel_object_1_5\", \"novel_object_3_2\"], \"xaxis\": \"x\", \"y\": [0.0013920035790965868, 0.003050052629368087, 0.013568599590614438, 0.025082335664893568, 0.0014211912969938297, 0.001428346960568933, 0.0014254087044052442, 0.0012486564004923206, 0.001150942619693383, 0.0012006682910099676, 0.0017384133994291877, 0.001452878211698919, 0.0016410322473184658, 0.0017318813244329406], \"yaxis\": \"y\"}],\n",
       "                        {\"legend\": {\"tracegroupgap\": 0}, \"template\": {\"data\": {\"bar\": [{\"error_x\": {\"color\": \"#2a3f5f\"}, \"error_y\": {\"color\": \"#2a3f5f\"}, \"marker\": {\"line\": {\"color\": \"#E5ECF6\", \"width\": 0.5}}, \"type\": \"bar\"}], \"barpolar\": [{\"marker\": {\"line\": {\"color\": \"#E5ECF6\", \"width\": 0.5}}, \"type\": \"barpolar\"}], \"carpet\": [{\"aaxis\": {\"endlinecolor\": \"#2a3f5f\", \"gridcolor\": \"white\", \"linecolor\": \"white\", \"minorgridcolor\": \"white\", \"startlinecolor\": \"#2a3f5f\"}, \"baxis\": {\"endlinecolor\": \"#2a3f5f\", \"gridcolor\": \"white\", \"linecolor\": \"white\", \"minorgridcolor\": \"white\", \"startlinecolor\": \"#2a3f5f\"}, \"type\": \"carpet\"}], \"choropleth\": [{\"colorbar\": {\"outlinewidth\": 0, \"ticks\": \"\"}, \"type\": \"choropleth\"}], \"contour\": [{\"colorbar\": {\"outlinewidth\": 0, \"ticks\": \"\"}, \"colorscale\": [[0.0, \"#0d0887\"], [0.1111111111111111, \"#46039f\"], [0.2222222222222222, \"#7201a8\"], [0.3333333333333333, \"#9c179e\"], [0.4444444444444444, \"#bd3786\"], [0.5555555555555556, \"#d8576b\"], [0.6666666666666666, \"#ed7953\"], [0.7777777777777778, \"#fb9f3a\"], [0.8888888888888888, \"#fdca26\"], [1.0, \"#f0f921\"]], \"type\": \"contour\"}], \"contourcarpet\": [{\"colorbar\": {\"outlinewidth\": 0, \"ticks\": \"\"}, \"type\": \"contourcarpet\"}], \"heatmap\": [{\"colorbar\": {\"outlinewidth\": 0, \"ticks\": \"\"}, \"colorscale\": [[0.0, \"#0d0887\"], [0.1111111111111111, \"#46039f\"], [0.2222222222222222, \"#7201a8\"], [0.3333333333333333, \"#9c179e\"], [0.4444444444444444, \"#bd3786\"], [0.5555555555555556, \"#d8576b\"], [0.6666666666666666, \"#ed7953\"], [0.7777777777777778, \"#fb9f3a\"], [0.8888888888888888, \"#fdca26\"], [1.0, \"#f0f921\"]], \"type\": \"heatmap\"}], \"heatmapgl\": [{\"colorbar\": {\"outlinewidth\": 0, \"ticks\": \"\"}, \"colorscale\": [[0.0, \"#0d0887\"], [0.1111111111111111, \"#46039f\"], [0.2222222222222222, \"#7201a8\"], [0.3333333333333333, \"#9c179e\"], [0.4444444444444444, \"#bd3786\"], [0.5555555555555556, \"#d8576b\"], [0.6666666666666666, \"#ed7953\"], [0.7777777777777778, \"#fb9f3a\"], [0.8888888888888888, \"#fdca26\"], [1.0, \"#f0f921\"]], \"type\": \"heatmapgl\"}], \"histogram\": [{\"marker\": {\"colorbar\": {\"outlinewidth\": 0, \"ticks\": \"\"}}, \"type\": \"histogram\"}], \"histogram2d\": [{\"colorbar\": {\"outlinewidth\": 0, \"ticks\": \"\"}, \"colorscale\": [[0.0, \"#0d0887\"], [0.1111111111111111, \"#46039f\"], [0.2222222222222222, \"#7201a8\"], [0.3333333333333333, \"#9c179e\"], [0.4444444444444444, \"#bd3786\"], [0.5555555555555556, \"#d8576b\"], [0.6666666666666666, \"#ed7953\"], [0.7777777777777778, \"#fb9f3a\"], [0.8888888888888888, \"#fdca26\"], [1.0, \"#f0f921\"]], \"type\": \"histogram2d\"}], \"histogram2dcontour\": [{\"colorbar\": {\"outlinewidth\": 0, \"ticks\": \"\"}, \"colorscale\": [[0.0, \"#0d0887\"], [0.1111111111111111, \"#46039f\"], [0.2222222222222222, \"#7201a8\"], [0.3333333333333333, \"#9c179e\"], [0.4444444444444444, \"#bd3786\"], [0.5555555555555556, \"#d8576b\"], [0.6666666666666666, \"#ed7953\"], [0.7777777777777778, \"#fb9f3a\"], [0.8888888888888888, \"#fdca26\"], [1.0, \"#f0f921\"]], \"type\": \"histogram2dcontour\"}], \"mesh3d\": [{\"colorbar\": {\"outlinewidth\": 0, \"ticks\": \"\"}, \"type\": \"mesh3d\"}], \"parcoords\": [{\"line\": {\"colorbar\": {\"outlinewidth\": 0, \"ticks\": \"\"}}, \"type\": \"parcoords\"}], \"pie\": [{\"automargin\": true, \"type\": \"pie\"}], \"scatter\": [{\"marker\": {\"colorbar\": {\"outlinewidth\": 0, \"ticks\": \"\"}}, \"type\": \"scatter\"}], \"scatter3d\": [{\"line\": {\"colorbar\": {\"outlinewidth\": 0, \"ticks\": \"\"}}, \"marker\": {\"colorbar\": {\"outlinewidth\": 0, \"ticks\": \"\"}}, \"type\": \"scatter3d\"}], \"scattercarpet\": [{\"marker\": {\"colorbar\": {\"outlinewidth\": 0, \"ticks\": \"\"}}, \"type\": \"scattercarpet\"}], \"scattergeo\": [{\"marker\": {\"colorbar\": {\"outlinewidth\": 0, \"ticks\": \"\"}}, \"type\": \"scattergeo\"}], \"scattergl\": [{\"marker\": {\"colorbar\": {\"outlinewidth\": 0, \"ticks\": \"\"}}, \"type\": \"scattergl\"}], \"scattermapbox\": [{\"marker\": {\"colorbar\": {\"outlinewidth\": 0, \"ticks\": \"\"}}, \"type\": \"scattermapbox\"}], \"scatterpolar\": [{\"marker\": {\"colorbar\": {\"outlinewidth\": 0, \"ticks\": \"\"}}, \"type\": \"scatterpolar\"}], \"scatterpolargl\": [{\"marker\": {\"colorbar\": {\"outlinewidth\": 0, \"ticks\": \"\"}}, \"type\": \"scatterpolargl\"}], \"scatterternary\": [{\"marker\": {\"colorbar\": {\"outlinewidth\": 0, \"ticks\": \"\"}}, \"type\": \"scatterternary\"}], \"surface\": [{\"colorbar\": {\"outlinewidth\": 0, \"ticks\": \"\"}, \"colorscale\": [[0.0, \"#0d0887\"], [0.1111111111111111, \"#46039f\"], [0.2222222222222222, \"#7201a8\"], [0.3333333333333333, \"#9c179e\"], [0.4444444444444444, \"#bd3786\"], [0.5555555555555556, \"#d8576b\"], [0.6666666666666666, \"#ed7953\"], [0.7777777777777778, \"#fb9f3a\"], [0.8888888888888888, \"#fdca26\"], [1.0, \"#f0f921\"]], \"type\": \"surface\"}], \"table\": [{\"cells\": {\"fill\": {\"color\": \"#EBF0F8\"}, \"line\": {\"color\": \"white\"}}, \"header\": {\"fill\": {\"color\": \"#C8D4E3\"}, \"line\": {\"color\": \"white\"}}, \"type\": \"table\"}]}, \"layout\": {\"annotationdefaults\": {\"arrowcolor\": \"#2a3f5f\", \"arrowhead\": 0, \"arrowwidth\": 1}, \"coloraxis\": {\"colorbar\": {\"outlinewidth\": 0, \"ticks\": \"\"}}, \"colorscale\": {\"diverging\": [[0, \"#8e0152\"], [0.1, \"#c51b7d\"], [0.2, \"#de77ae\"], [0.3, \"#f1b6da\"], [0.4, \"#fde0ef\"], [0.5, \"#f7f7f7\"], [0.6, \"#e6f5d0\"], [0.7, \"#b8e186\"], [0.8, \"#7fbc41\"], [0.9, \"#4d9221\"], [1, \"#276419\"]], \"sequential\": [[0.0, \"#0d0887\"], [0.1111111111111111, \"#46039f\"], [0.2222222222222222, \"#7201a8\"], [0.3333333333333333, \"#9c179e\"], [0.4444444444444444, \"#bd3786\"], [0.5555555555555556, \"#d8576b\"], [0.6666666666666666, \"#ed7953\"], [0.7777777777777778, \"#fb9f3a\"], [0.8888888888888888, \"#fdca26\"], [1.0, \"#f0f921\"]], \"sequentialminus\": [[0.0, \"#0d0887\"], [0.1111111111111111, \"#46039f\"], [0.2222222222222222, \"#7201a8\"], [0.3333333333333333, \"#9c179e\"], [0.4444444444444444, \"#bd3786\"], [0.5555555555555556, \"#d8576b\"], [0.6666666666666666, \"#ed7953\"], [0.7777777777777778, \"#fb9f3a\"], [0.8888888888888888, \"#fdca26\"], [1.0, \"#f0f921\"]]}, \"colorway\": [\"#636efa\", \"#EF553B\", \"#00cc96\", \"#ab63fa\", \"#FFA15A\", \"#19d3f3\", \"#FF6692\", \"#B6E880\", \"#FF97FF\", \"#FECB52\"], \"font\": {\"color\": \"#2a3f5f\"}, \"geo\": {\"bgcolor\": \"white\", \"lakecolor\": \"white\", \"landcolor\": \"#E5ECF6\", \"showlakes\": true, \"showland\": true, \"subunitcolor\": \"white\"}, \"hoverlabel\": {\"align\": \"left\"}, \"hovermode\": \"closest\", \"mapbox\": {\"style\": \"light\"}, \"paper_bgcolor\": \"white\", \"plot_bgcolor\": \"#E5ECF6\", \"polar\": {\"angularaxis\": {\"gridcolor\": \"white\", \"linecolor\": \"white\", \"ticks\": \"\"}, \"bgcolor\": \"#E5ECF6\", \"radialaxis\": {\"gridcolor\": \"white\", \"linecolor\": \"white\", \"ticks\": \"\"}}, \"scene\": {\"xaxis\": {\"backgroundcolor\": \"#E5ECF6\", \"gridcolor\": \"white\", \"gridwidth\": 2, \"linecolor\": \"white\", \"showbackground\": true, \"ticks\": \"\", \"zerolinecolor\": \"white\"}, \"yaxis\": {\"backgroundcolor\": \"#E5ECF6\", \"gridcolor\": \"white\", \"gridwidth\": 2, \"linecolor\": \"white\", \"showbackground\": true, \"ticks\": \"\", \"zerolinecolor\": \"white\"}, \"zaxis\": {\"backgroundcolor\": \"#E5ECF6\", \"gridcolor\": \"white\", \"gridwidth\": 2, \"linecolor\": \"white\", \"showbackground\": true, \"ticks\": \"\", \"zerolinecolor\": \"white\"}}, \"shapedefaults\": {\"line\": {\"color\": \"#2a3f5f\"}}, \"ternary\": {\"aaxis\": {\"gridcolor\": \"white\", \"linecolor\": \"white\", \"ticks\": \"\"}, \"baxis\": {\"gridcolor\": \"white\", \"linecolor\": \"white\", \"ticks\": \"\"}, \"bgcolor\": \"#E5ECF6\", \"caxis\": {\"gridcolor\": \"white\", \"linecolor\": \"white\", \"ticks\": \"\"}}, \"title\": {\"x\": 0.05}, \"xaxis\": {\"automargin\": true, \"gridcolor\": \"white\", \"linecolor\": \"white\", \"ticks\": \"\", \"title\": {\"standoff\": 15}, \"zerolinecolor\": \"white\", \"zerolinewidth\": 2}, \"yaxis\": {\"automargin\": true, \"gridcolor\": \"white\", \"linecolor\": \"white\", \"ticks\": \"\", \"title\": {\"standoff\": 15}, \"zerolinecolor\": \"white\", \"zerolinewidth\": 2}}}, \"title\": {\"text\": \"Difficulty Measure for Colour\"}, \"xaxis\": {\"anchor\": \"y\", \"domain\": [0.0, 1.0], \"title\": {\"text\": \"x\"}}, \"yaxis\": {\"anchor\": \"x\", \"domain\": [0.0, 1.0], \"title\": {\"text\": \"y\"}}},\n",
       "                        {\"responsive\": true}\n",
       "                    ).then(function(){\n",
       "                            \n",
       "var gd = document.getElementById('29264940-047f-4d13-9354-00d06ad8220c');\n",
       "var x = new MutationObserver(function (mutations, observer) {{\n",
       "        var display = window.getComputedStyle(gd).display;\n",
       "        if (!display || display === 'none') {{\n",
       "            console.log([gd, 'removed!']);\n",
       "            Plotly.purge(gd);\n",
       "            observer.disconnect();\n",
       "        }}\n",
       "}});\n",
       "\n",
       "// Listen for the removal of the full notebook cells\n",
       "var notebookContainer = gd.closest('#notebook-container');\n",
       "if (notebookContainer) {{\n",
       "    x.observe(notebookContainer, {childList: true});\n",
       "}}\n",
       "\n",
       "// Listen for the clearing of the current output cell\n",
       "var outputEl = gd.closest('.output');\n",
       "if (outputEl) {{\n",
       "    x.observe(outputEl, {childList: true});\n",
       "}}\n",
       "\n",
       "                        })\n",
       "                };\n",
       "                });\n",
       "            </script>\n",
       "        </div>"
      ]
     },
     "metadata": {},
     "output_type": "display_data"
    }
   ],
   "source": [
    "name = []\n",
    "diff_value = []\n",
    "for item in dm_df['novel_name'].unique():\n",
    "    name.append(item)\n",
    "    diff_value.append(dm_df[dm_df['novel_name'] == item]['difficulty'].mean())\n",
    "\n",
    "fig = px.scatter(x=name, y=diff_value,\n",
    "                 title=\"Difficulty Measure for Colour\"\n",
    "                )\n",
    "\n",
    "fig.show()"
   ]
  },
  {
   "cell_type": "code",
   "execution_count": 74,
   "metadata": {},
   "outputs": [
    {
     "data": {
      "text/plain": [
       "0.0013920035790965868"
      ]
     },
     "execution_count": 74,
     "metadata": {},
     "output_type": "execute_result"
    }
   ],
   "source": []
  },
  {
   "cell_type": "code",
   "execution_count": null,
   "metadata": {},
   "outputs": [],
   "source": []
  }
 ],
 "metadata": {
  "kernelspec": {
   "display_name": "Python 3",
   "language": "python",
   "name": "python3"
  },
  "language_info": {
   "codemirror_mode": {
    "name": "ipython",
    "version": 3
   },
   "file_extension": ".py",
   "mimetype": "text/x-python",
   "name": "python",
   "nbconvert_exporter": "python",
   "pygments_lexer": "ipython3",
   "version": "3.7.6"
  }
 },
 "nbformat": 4,
 "nbformat_minor": 4
}
