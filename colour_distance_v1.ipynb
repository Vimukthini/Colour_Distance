{
 "cells": [
  {
   "cell_type": "code",
   "execution_count": 302,
   "metadata": {},
   "outputs": [],
   "source": [
    "import pandas as pd\n",
    "import numpy as np\n",
    "import scipy as sp\n",
    "import random\n",
    "from scipy.stats import chi2\n",
    "\n",
    "#from __future__ import print_function\n",
    "import time\n",
    "from sklearn.datasets import fetch_openml\n",
    "from sklearn.decomposition import PCA\n",
    "from sklearn.manifold import TSNE\n",
    "%matplotlib inline\n",
    "import matplotlib.pyplot as plt\n",
    "from mpl_toolkits.mplot3d import Axes3D\n",
    "import seaborn as sns"
   ]
  },
  {
   "cell_type": "code",
   "execution_count": null,
   "metadata": {},
   "outputs": [],
   "source": []
  },
  {
   "cell_type": "code",
   "execution_count": 303,
   "metadata": {},
   "outputs": [
    {
     "data": {
      "text/html": [
       "<div>\n",
       "<style scoped>\n",
       "    .dataframe tbody tr th:only-of-type {\n",
       "        vertical-align: middle;\n",
       "    }\n",
       "\n",
       "    .dataframe tbody tr th {\n",
       "        vertical-align: top;\n",
       "    }\n",
       "\n",
       "    .dataframe thead th {\n",
       "        text-align: right;\n",
       "    }\n",
       "</style>\n",
       "<table border=\"1\" class=\"dataframe\">\n",
       "  <thead>\n",
       "    <tr style=\"text-align: right;\">\n",
       "      <th></th>\n",
       "      <th>type</th>\n",
       "      <th>colormap</th>\n",
       "    </tr>\n",
       "  </thead>\n",
       "  <tbody>\n",
       "    <tr>\n",
       "      <th>0</th>\n",
       "      <td>bird_black_1</td>\n",
       "      <td>[{'x': 0.0, 'y': 0.108359135687351}, {'x': 36....</td>\n",
       "    </tr>\n",
       "    <tr>\n",
       "      <th>1</th>\n",
       "      <td>bird_black_2</td>\n",
       "      <td>[{'x': 0.0, 'y': 0.122055672109127}, {'x': 36....</td>\n",
       "    </tr>\n",
       "    <tr>\n",
       "      <th>2</th>\n",
       "      <td>bird_black_3</td>\n",
       "      <td>[{'x': 0.0, 'y': 0.13507853448390902}, {'x': 3...</td>\n",
       "    </tr>\n",
       "    <tr>\n",
       "      <th>3</th>\n",
       "      <td>bird_black_4</td>\n",
       "      <td>[{'x': 0.0, 'y': 0.108540922403335}, {'x': 36....</td>\n",
       "    </tr>\n",
       "    <tr>\n",
       "      <th>4</th>\n",
       "      <td>bird_black_5</td>\n",
       "      <td>[{'x': 0.0, 'y': 0.085764810442924}, {'x': 36....</td>\n",
       "    </tr>\n",
       "    <tr>\n",
       "      <th>...</th>\n",
       "      <td>...</td>\n",
       "      <td>...</td>\n",
       "    </tr>\n",
       "    <tr>\n",
       "      <th>263</th>\n",
       "      <td>novel_object_10_1_11</td>\n",
       "      <td>[{'x': 224.0, 'y': 0.061946902424097006}, {'x'...</td>\n",
       "    </tr>\n",
       "    <tr>\n",
       "      <th>264</th>\n",
       "      <td>novel_object_11_1_11</td>\n",
       "      <td>[{'x': 160.0, 'y': 0.38983049988746604}, {'x':...</td>\n",
       "    </tr>\n",
       "    <tr>\n",
       "      <th>265</th>\n",
       "      <td>novel_object_7_1_11</td>\n",
       "      <td>[{'x': 160.0, 'y': 0.39711192250251703}, {'x':...</td>\n",
       "    </tr>\n",
       "    <tr>\n",
       "      <th>266</th>\n",
       "      <td>novel_object_0_1_12</td>\n",
       "      <td>[{'x': 0.0, 'y': 0.109271526336669}, {'x': 223...</td>\n",
       "    </tr>\n",
       "    <tr>\n",
       "      <th>267</th>\n",
       "      <td>novel_object_0_1_13</td>\n",
       "      <td>[{'x': 20.0, 'y': 0.6288343667984001}, {'x': 2...</td>\n",
       "    </tr>\n",
       "  </tbody>\n",
       "</table>\n",
       "<p>268 rows × 2 columns</p>\n",
       "</div>"
      ],
      "text/plain": [
       "                     type                                           colormap\n",
       "0            bird_black_1  [{'x': 0.0, 'y': 0.108359135687351}, {'x': 36....\n",
       "1            bird_black_2  [{'x': 0.0, 'y': 0.122055672109127}, {'x': 36....\n",
       "2            bird_black_3  [{'x': 0.0, 'y': 0.13507853448390902}, {'x': 3...\n",
       "3            bird_black_4  [{'x': 0.0, 'y': 0.108540922403335}, {'x': 36....\n",
       "4            bird_black_5  [{'x': 0.0, 'y': 0.085764810442924}, {'x': 36....\n",
       "..                    ...                                                ...\n",
       "263  novel_object_10_1_11  [{'x': 224.0, 'y': 0.061946902424097006}, {'x'...\n",
       "264  novel_object_11_1_11  [{'x': 160.0, 'y': 0.38983049988746604}, {'x':...\n",
       "265   novel_object_7_1_11  [{'x': 160.0, 'y': 0.39711192250251703}, {'x':...\n",
       "266   novel_object_0_1_12  [{'x': 0.0, 'y': 0.109271526336669}, {'x': 223...\n",
       "267   novel_object_0_1_13  [{'x': 20.0, 'y': 0.6288343667984001}, {'x': 2...\n",
       "\n",
       "[268 rows x 2 columns]"
      ]
     },
     "execution_count": 303,
     "metadata": {},
     "output_type": "execute_result"
    }
   ],
   "source": [
    "data = pd.read_json(\"BaseMap.json\")\n",
    "data = data[2:].copy().reset_index(drop=True)\n",
    "data"
   ]
  },
  {
   "cell_type": "code",
   "execution_count": 304,
   "metadata": {},
   "outputs": [],
   "source": [
    "split_type = data['type'].str.split('_')"
   ]
  },
  {
   "cell_type": "code",
   "execution_count": 305,
   "metadata": {},
   "outputs": [],
   "source": [
    "object_name = []\n",
    "for item in split_type:\n",
    "    #print(item[0])\n",
    "    if item[0]=='bird':\n",
    "        object_name.append(item[0]+\"_\"+item[1])\n",
    "    elif item[0]=='novel':\n",
    "        object_name.append(item[0]+\"_\"+item[1]+\"_\"+item[3]+\"_\"+item[4])\n",
    "    else:\n",
    "        object_name.append(item[0])"
   ]
  },
  {
   "cell_type": "code",
   "execution_count": 306,
   "metadata": {},
   "outputs": [],
   "source": [
    "data['name'] = object_name"
   ]
  },
  {
   "cell_type": "code",
   "execution_count": 307,
   "metadata": {},
   "outputs": [],
   "source": [
    "def colormapfunction(row):\n",
    "    per = list(np.zeros(256))\n",
    "\n",
    "    for item in row:\n",
    "        per[int(item['x'])] = item['y']\n",
    "    return per"
   ]
  },
  {
   "cell_type": "code",
   "execution_count": 308,
   "metadata": {},
   "outputs": [
    {
     "data": {
      "text/plain": [
       "(268, 256)"
      ]
     },
     "execution_count": 308,
     "metadata": {},
     "output_type": "execute_result"
    }
   ],
   "source": [
    "colarray = []\n",
    "for item in data['colormap']:\n",
    "    row = item\n",
    "    colarray.append(colormapfunction(item))\n",
    "    \n",
    "X = np.array(colarray).reshape(-1,256)\n",
    "X.shape"
   ]
  },
  {
   "cell_type": "code",
   "execution_count": 309,
   "metadata": {},
   "outputs": [
    {
     "name": "stdout",
     "output_type": "stream",
     "text": [
      "Size of the dataframe: (268, 257)\n"
     ]
    }
   ],
   "source": [
    "#creating the inputs for model\n",
    "feat_cols = [ 'color '+str(i) for i in range(X.shape[1]) ]\n",
    "DF = pd.DataFrame(X,columns=feat_cols)\n",
    "\n",
    "DF['name'] = object_name\n",
    "\n",
    "# pd.set_option('display.max_columns', None) # Show All Columns in Preview\n",
    "# DF\n",
    "print('Size of the dataframe: {}'.format(DF.shape))"
   ]
  },
  {
   "cell_type": "code",
   "execution_count": 310,
   "metadata": {},
   "outputs": [
    {
     "data": {
      "text/plain": [
       "268"
      ]
     },
     "execution_count": 310,
     "metadata": {},
     "output_type": "execute_result"
    }
   ],
   "source": [
    "# For reproducability of the results\n",
    "np.random.seed(42)\n",
    "rndperm = np.random.permutation(data.shape[0])\n",
    "rndperm\n",
    "len(rndperm)"
   ]
  },
  {
   "cell_type": "code",
   "execution_count": 311,
   "metadata": {},
   "outputs": [],
   "source": [
    "# #check pca\n",
    "# pca = PCA(n_components=3)\n",
    "# pca_result = pca.fit_transform(DF[feat_cols].values)\n",
    "# DF['pca-one'] = pca_result[:,0]\n",
    "# DF['pca-two'] = pca_result[:,1] \n",
    "# DF['pca-three'] = pca_result[:,2]\n",
    "# print('Explained variation per principal component: {}'.format(pca.explained_variance_ratio_))\n"
   ]
  },
  {
   "cell_type": "code",
   "execution_count": 312,
   "metadata": {},
   "outputs": [
    {
     "data": {
      "text/plain": [
       "18"
      ]
     },
     "execution_count": 312,
     "metadata": {},
     "output_type": "execute_result"
    }
   ],
   "source": [
    "len(set(object_name))"
   ]
  },
  {
   "cell_type": "code",
   "execution_count": 313,
   "metadata": {},
   "outputs": [],
   "source": [
    "# plt.figure(figsize=(10,10))\n",
    "# sns.scatterplot(\n",
    "#     x=\"pca-one\", y=\"pca-two\",\n",
    "#     hue=\"name\",\n",
    "#     palette=sns.color_palette(\"hls\", 18),\n",
    "#     data=DF.loc[rndperm,:],\n",
    "#     legend=\"full\",\n",
    "#     alpha=0.3\n",
    "# )"
   ]
  },
  {
   "cell_type": "code",
   "execution_count": 314,
   "metadata": {},
   "outputs": [],
   "source": [
    "#Check T-SNE\n",
    "N = 10000\n",
    "df_subset = DF.loc[rndperm[:N],:].copy()\n",
    "data_subset = df_subset[feat_cols].values"
   ]
  },
  {
   "cell_type": "code",
   "execution_count": 315,
   "metadata": {},
   "outputs": [
    {
     "name": "stdout",
     "output_type": "stream",
     "text": [
      "[t-SNE] Computing 151 nearest neighbors...\n",
      "[t-SNE] Indexed 268 samples in 0.000s...\n",
      "[t-SNE] Computed neighbors for 268 samples in 0.004s...\n",
      "[t-SNE] Computed conditional probabilities for sample 268 / 268\n",
      "[t-SNE] Mean sigma: 0.306953\n",
      "[t-SNE] KL divergence after 250 iterations with early exaggeration: 56.274452\n",
      "[t-SNE] KL divergence after 500 iterations: 0.118304\n",
      "t-SNE done! Time elapsed: 0.30170321464538574 seconds\n"
     ]
    }
   ],
   "source": [
    "time_start = time.time()\n",
    "tsne = TSNE(n_components=2, verbose=1, perplexity=50, n_iter=500)\n",
    "tsne_results = tsne.fit_transform(data_subset)\n",
    "print('t-SNE done! Time elapsed: {} seconds'.format(time.time()-time_start))"
   ]
  },
  {
   "cell_type": "code",
   "execution_count": 316,
   "metadata": {},
   "outputs": [
    {
     "data": {
      "text/plain": [
       "<matplotlib.axes._subplots.AxesSubplot at 0x297dadd1288>"
      ]
     },
     "execution_count": 316,
     "metadata": {},
     "output_type": "execute_result"
    },
    {
     "data": {
      "image/png": "[encoded data removed]",
      "text/plain": [
       "<Figure size 720x720 with 1 Axes>"
      ]
     },
     "metadata": {
      "needs_background": "light"
     },
     "output_type": "display_data"
    }
   ],
   "source": [
    "df_subset['tsne-2d-one'] = tsne_results[:,0]\n",
    "df_subset['tsne-2d-two'] = tsne_results[:,1]\n",
    "plt.figure(figsize=(10,10))\n",
    "sns.scatterplot(\n",
    "    x=\"tsne-2d-one\", y=\"tsne-2d-two\",\n",
    "    hue=\"name\",\n",
    "    palette=sns.color_palette(\"hls\", 18),\n",
    "    data=df_subset,\n",
    "    legend=\"full\",\n",
    "    alpha=0.6\n",
    ")"
   ]
  },
  {
   "cell_type": "code",
   "execution_count": 317,
   "metadata": {},
   "outputs": [
    {
     "data": {
      "text/plain": [
       "['bird_black',\n",
       " 'bird_blue',\n",
       " 'bird_red',\n",
       " 'bird_white',\n",
       " 'bird_yellow',\n",
       " 'effects',\n",
       " 'ice',\n",
       " 'pig',\n",
       " 'stone',\n",
       " 'wood',\n",
       " 'novel_object_1_6',\n",
       " 'novel_object_1_7',\n",
       " 'novel_object_1_8',\n",
       " 'novel_object_1_9',\n",
       " 'novel_object_1_10',\n",
       " 'novel_object_1_11',\n",
       " 'novel_object_1_12',\n",
       " 'novel_object_1_13']"
      ]
     },
     "execution_count": 317,
     "metadata": {},
     "output_type": "execute_result"
    }
   ],
   "source": [
    "## Calculating Mahalanobis Distances using DF\n",
    "list(DF['name'].unique())"
   ]
  },
  {
   "cell_type": "code",
   "execution_count": 318,
   "metadata": {},
   "outputs": [],
   "source": [
    "object_to_check = DF[DF['name']=='novel_object_1_9'].copy()\n",
    "object_to_check.drop(['name'],axis=1,inplace=True)"
   ]
  },
  {
   "cell_type": "code",
   "execution_count": 319,
   "metadata": {},
   "outputs": [],
   "source": [
    "woodobjects = DF[DF['name']=='wood'].reset_index()\n",
    "woodobjects.drop(['name','index'],axis=1,inplace=True)"
   ]
  },
  {
   "cell_type": "code",
   "execution_count": 320,
   "metadata": {},
   "outputs": [
    {
     "data": {
      "text/plain": [
       "20"
      ]
     },
     "execution_count": 320,
     "metadata": {},
     "output_type": "execute_result"
    }
   ],
   "source": [
    "data_to_generate = int(1000/len(woodobjects))\n",
    "data_to_generate"
   ]
  },
  {
   "cell_type": "code",
   "execution_count": 321,
   "metadata": {},
   "outputs": [],
   "source": [
    "noise_degree = 2\n",
    "\n",
    "noisy_data = []\n",
    "for i in range(len(woodobjects)):\n",
    "    #print(woodobjects.iloc[0,j])\n",
    "    for j in range(data_to_generate):\n",
    "        random_data = woodobjects.iloc[i]+np.random.uniform(-1,1,256)*noise_degree/100\n",
    "        random_data = [ x if x>0 else 0 for x in random_data ]\n",
    "        random_data = random_data/(np.ones(256)*sum(random_data))\n",
    "        noisy_data.append(random_data)\n",
    "   "
   ]
  },
  {
   "cell_type": "code",
   "execution_count": 322,
   "metadata": {},
   "outputs": [
    {
     "data": {
      "text/plain": [
       "960"
      ]
     },
     "execution_count": 322,
     "metadata": {},
     "output_type": "execute_result"
    }
   ],
   "source": [
    "len(noisy_data)"
   ]
  },
  {
   "cell_type": "code",
   "execution_count": 323,
   "metadata": {},
   "outputs": [
    {
     "data": {
      "text/html": [
       "<div>\n",
       "<style scoped>\n",
       "    .dataframe tbody tr th:only-of-type {\n",
       "        vertical-align: middle;\n",
       "    }\n",
       "\n",
       "    .dataframe tbody tr th {\n",
       "        vertical-align: top;\n",
       "    }\n",
       "\n",
       "    .dataframe thead th {\n",
       "        text-align: right;\n",
       "    }\n",
       "</style>\n",
       "<table border=\"1\" class=\"dataframe\">\n",
       "  <thead>\n",
       "    <tr style=\"text-align: right;\">\n",
       "      <th></th>\n",
       "      <th>color 0</th>\n",
       "      <th>color 1</th>\n",
       "      <th>color 2</th>\n",
       "      <th>color 3</th>\n",
       "      <th>color 4</th>\n",
       "      <th>color 5</th>\n",
       "      <th>color 6</th>\n",
       "      <th>color 7</th>\n",
       "      <th>color 8</th>\n",
       "      <th>color 9</th>\n",
       "      <th>...</th>\n",
       "      <th>color 246</th>\n",
       "      <th>color 247</th>\n",
       "      <th>color 248</th>\n",
       "      <th>color 249</th>\n",
       "      <th>color 250</th>\n",
       "      <th>color 251</th>\n",
       "      <th>color 252</th>\n",
       "      <th>color 253</th>\n",
       "      <th>color 254</th>\n",
       "      <th>color 255</th>\n",
       "    </tr>\n",
       "  </thead>\n",
       "  <tbody>\n",
       "    <tr>\n",
       "      <th>0</th>\n",
       "      <td>0.000093</td>\n",
       "      <td>0.001613</td>\n",
       "      <td>0.000000</td>\n",
       "      <td>0.001178</td>\n",
       "      <td>0.006575</td>\n",
       "      <td>0.000962</td>\n",
       "      <td>0.003747</td>\n",
       "      <td>0.005181</td>\n",
       "      <td>0.008293</td>\n",
       "      <td>0.001751</td>\n",
       "      <td>...</td>\n",
       "      <td>0.000000</td>\n",
       "      <td>0.000000</td>\n",
       "      <td>0.003321</td>\n",
       "      <td>0.000000</td>\n",
       "      <td>0.000553</td>\n",
       "      <td>0.007842</td>\n",
       "      <td>0.000000</td>\n",
       "      <td>0.006694</td>\n",
       "      <td>0.008340</td>\n",
       "      <td>0.000000</td>\n",
       "    </tr>\n",
       "    <tr>\n",
       "      <th>1</th>\n",
       "      <td>0.006895</td>\n",
       "      <td>0.000290</td>\n",
       "      <td>0.007320</td>\n",
       "      <td>0.001284</td>\n",
       "      <td>0.002919</td>\n",
       "      <td>0.000788</td>\n",
       "      <td>0.006563</td>\n",
       "      <td>0.004212</td>\n",
       "      <td>0.000383</td>\n",
       "      <td>0.006629</td>\n",
       "      <td>...</td>\n",
       "      <td>0.006446</td>\n",
       "      <td>0.000000</td>\n",
       "      <td>0.001592</td>\n",
       "      <td>0.001777</td>\n",
       "      <td>0.000000</td>\n",
       "      <td>0.000000</td>\n",
       "      <td>0.000000</td>\n",
       "      <td>0.006909</td>\n",
       "      <td>0.000000</td>\n",
       "      <td>0.000000</td>\n",
       "    </tr>\n",
       "    <tr>\n",
       "      <th>2</th>\n",
       "      <td>0.000000</td>\n",
       "      <td>0.003157</td>\n",
       "      <td>0.000000</td>\n",
       "      <td>0.000000</td>\n",
       "      <td>0.001638</td>\n",
       "      <td>0.008359</td>\n",
       "      <td>0.000000</td>\n",
       "      <td>0.000000</td>\n",
       "      <td>0.000000</td>\n",
       "      <td>0.001967</td>\n",
       "      <td>...</td>\n",
       "      <td>0.005005</td>\n",
       "      <td>0.000000</td>\n",
       "      <td>0.003197</td>\n",
       "      <td>0.000000</td>\n",
       "      <td>0.000000</td>\n",
       "      <td>0.005365</td>\n",
       "      <td>0.006796</td>\n",
       "      <td>0.002022</td>\n",
       "      <td>0.000127</td>\n",
       "      <td>0.000000</td>\n",
       "    </tr>\n",
       "    <tr>\n",
       "      <th>3</th>\n",
       "      <td>0.000000</td>\n",
       "      <td>0.000000</td>\n",
       "      <td>0.000000</td>\n",
       "      <td>0.000000</td>\n",
       "      <td>0.000000</td>\n",
       "      <td>0.000000</td>\n",
       "      <td>0.000000</td>\n",
       "      <td>0.000183</td>\n",
       "      <td>0.006126</td>\n",
       "      <td>0.000000</td>\n",
       "      <td>...</td>\n",
       "      <td>0.005935</td>\n",
       "      <td>0.002165</td>\n",
       "      <td>0.003538</td>\n",
       "      <td>0.000000</td>\n",
       "      <td>0.000729</td>\n",
       "      <td>0.000455</td>\n",
       "      <td>0.006555</td>\n",
       "      <td>0.006403</td>\n",
       "      <td>0.006265</td>\n",
       "      <td>0.000000</td>\n",
       "    </tr>\n",
       "    <tr>\n",
       "      <th>4</th>\n",
       "      <td>0.004432</td>\n",
       "      <td>0.004594</td>\n",
       "      <td>0.003168</td>\n",
       "      <td>0.004551</td>\n",
       "      <td>0.006073</td>\n",
       "      <td>0.000000</td>\n",
       "      <td>0.000036</td>\n",
       "      <td>0.000000</td>\n",
       "      <td>0.000000</td>\n",
       "      <td>0.002546</td>\n",
       "      <td>...</td>\n",
       "      <td>0.000000</td>\n",
       "      <td>0.000000</td>\n",
       "      <td>0.000000</td>\n",
       "      <td>0.003891</td>\n",
       "      <td>0.000000</td>\n",
       "      <td>0.007199</td>\n",
       "      <td>0.004256</td>\n",
       "      <td>0.000000</td>\n",
       "      <td>0.002021</td>\n",
       "      <td>0.000000</td>\n",
       "    </tr>\n",
       "    <tr>\n",
       "      <th>...</th>\n",
       "      <td>...</td>\n",
       "      <td>...</td>\n",
       "      <td>...</td>\n",
       "      <td>...</td>\n",
       "      <td>...</td>\n",
       "      <td>...</td>\n",
       "      <td>...</td>\n",
       "      <td>...</td>\n",
       "      <td>...</td>\n",
       "      <td>...</td>\n",
       "      <td>...</td>\n",
       "      <td>...</td>\n",
       "      <td>...</td>\n",
       "      <td>...</td>\n",
       "      <td>...</td>\n",
       "      <td>...</td>\n",
       "      <td>...</td>\n",
       "      <td>...</td>\n",
       "      <td>...</td>\n",
       "      <td>...</td>\n",
       "      <td>...</td>\n",
       "    </tr>\n",
       "    <tr>\n",
       "      <th>955</th>\n",
       "      <td>0.006651</td>\n",
       "      <td>0.003935</td>\n",
       "      <td>0.000000</td>\n",
       "      <td>0.000000</td>\n",
       "      <td>0.000000</td>\n",
       "      <td>0.000000</td>\n",
       "      <td>0.000000</td>\n",
       "      <td>0.004654</td>\n",
       "      <td>0.000000</td>\n",
       "      <td>0.005336</td>\n",
       "      <td>...</td>\n",
       "      <td>0.000000</td>\n",
       "      <td>0.000000</td>\n",
       "      <td>0.000000</td>\n",
       "      <td>0.000000</td>\n",
       "      <td>0.003223</td>\n",
       "      <td>0.007814</td>\n",
       "      <td>0.000000</td>\n",
       "      <td>0.000000</td>\n",
       "      <td>0.000000</td>\n",
       "      <td>0.001963</td>\n",
       "    </tr>\n",
       "    <tr>\n",
       "      <th>956</th>\n",
       "      <td>0.001213</td>\n",
       "      <td>0.004745</td>\n",
       "      <td>0.006369</td>\n",
       "      <td>0.004500</td>\n",
       "      <td>0.000706</td>\n",
       "      <td>0.000000</td>\n",
       "      <td>0.007737</td>\n",
       "      <td>0.007098</td>\n",
       "      <td>0.002343</td>\n",
       "      <td>0.000000</td>\n",
       "      <td>...</td>\n",
       "      <td>0.000000</td>\n",
       "      <td>0.006290</td>\n",
       "      <td>0.000000</td>\n",
       "      <td>0.000000</td>\n",
       "      <td>0.003559</td>\n",
       "      <td>0.000000</td>\n",
       "      <td>0.008606</td>\n",
       "      <td>0.003769</td>\n",
       "      <td>0.000000</td>\n",
       "      <td>0.005761</td>\n",
       "    </tr>\n",
       "    <tr>\n",
       "      <th>957</th>\n",
       "      <td>0.000000</td>\n",
       "      <td>0.000000</td>\n",
       "      <td>0.000000</td>\n",
       "      <td>0.000000</td>\n",
       "      <td>0.002466</td>\n",
       "      <td>0.000000</td>\n",
       "      <td>0.004911</td>\n",
       "      <td>0.001355</td>\n",
       "      <td>0.003748</td>\n",
       "      <td>0.002440</td>\n",
       "      <td>...</td>\n",
       "      <td>0.002433</td>\n",
       "      <td>0.000000</td>\n",
       "      <td>0.006441</td>\n",
       "      <td>0.000000</td>\n",
       "      <td>0.000669</td>\n",
       "      <td>0.000000</td>\n",
       "      <td>0.006022</td>\n",
       "      <td>0.000000</td>\n",
       "      <td>0.000000</td>\n",
       "      <td>0.007249</td>\n",
       "    </tr>\n",
       "    <tr>\n",
       "      <th>958</th>\n",
       "      <td>0.000000</td>\n",
       "      <td>0.000000</td>\n",
       "      <td>0.006921</td>\n",
       "      <td>0.000000</td>\n",
       "      <td>0.000000</td>\n",
       "      <td>0.000000</td>\n",
       "      <td>0.000000</td>\n",
       "      <td>0.000000</td>\n",
       "      <td>0.000000</td>\n",
       "      <td>0.004814</td>\n",
       "      <td>...</td>\n",
       "      <td>0.000000</td>\n",
       "      <td>0.004746</td>\n",
       "      <td>0.006169</td>\n",
       "      <td>0.005765</td>\n",
       "      <td>0.000000</td>\n",
       "      <td>0.006596</td>\n",
       "      <td>0.000000</td>\n",
       "      <td>0.003577</td>\n",
       "      <td>0.000000</td>\n",
       "      <td>0.008402</td>\n",
       "    </tr>\n",
       "    <tr>\n",
       "      <th>959</th>\n",
       "      <td>0.000128</td>\n",
       "      <td>0.005354</td>\n",
       "      <td>0.005852</td>\n",
       "      <td>0.000000</td>\n",
       "      <td>0.003357</td>\n",
       "      <td>0.000000</td>\n",
       "      <td>0.006115</td>\n",
       "      <td>0.002621</td>\n",
       "      <td>0.001725</td>\n",
       "      <td>0.006171</td>\n",
       "      <td>...</td>\n",
       "      <td>0.005760</td>\n",
       "      <td>0.000000</td>\n",
       "      <td>0.006042</td>\n",
       "      <td>0.000000</td>\n",
       "      <td>0.000000</td>\n",
       "      <td>0.003250</td>\n",
       "      <td>0.003484</td>\n",
       "      <td>0.000000</td>\n",
       "      <td>0.000000</td>\n",
       "      <td>0.000000</td>\n",
       "    </tr>\n",
       "  </tbody>\n",
       "</table>\n",
       "<p>960 rows × 256 columns</p>\n",
       "</div>"
      ],
      "text/plain": [
       "      color 0   color 1   color 2   color 3   color 4   color 5   color 6  \\\n",
       "0    0.000093  0.001613  0.000000  0.001178  0.006575  0.000962  0.003747   \n",
       "1    0.006895  0.000290  0.007320  0.001284  0.002919  0.000788  0.006563   \n",
       "2    0.000000  0.003157  0.000000  0.000000  0.001638  0.008359  0.000000   \n",
       "3    0.000000  0.000000  0.000000  0.000000  0.000000  0.000000  0.000000   \n",
       "4    0.004432  0.004594  0.003168  0.004551  0.006073  0.000000  0.000036   \n",
       "..        ...       ...       ...       ...       ...       ...       ...   \n",
       "955  0.006651  0.003935  0.000000  0.000000  0.000000  0.000000  0.000000   \n",
       "956  0.001213  0.004745  0.006369  0.004500  0.000706  0.000000  0.007737   \n",
       "957  0.000000  0.000000  0.000000  0.000000  0.002466  0.000000  0.004911   \n",
       "958  0.000000  0.000000  0.006921  0.000000  0.000000  0.000000  0.000000   \n",
       "959  0.000128  0.005354  0.005852  0.000000  0.003357  0.000000  0.006115   \n",
       "\n",
       "      color 7   color 8   color 9  ...  color 246  color 247  color 248  \\\n",
       "0    0.005181  0.008293  0.001751  ...   0.000000   0.000000   0.003321   \n",
       "1    0.004212  0.000383  0.006629  ...   0.006446   0.000000   0.001592   \n",
       "2    0.000000  0.000000  0.001967  ...   0.005005   0.000000   0.003197   \n",
       "3    0.000183  0.006126  0.000000  ...   0.005935   0.002165   0.003538   \n",
       "4    0.000000  0.000000  0.002546  ...   0.000000   0.000000   0.000000   \n",
       "..        ...       ...       ...  ...        ...        ...        ...   \n",
       "955  0.004654  0.000000  0.005336  ...   0.000000   0.000000   0.000000   \n",
       "956  0.007098  0.002343  0.000000  ...   0.000000   0.006290   0.000000   \n",
       "957  0.001355  0.003748  0.002440  ...   0.002433   0.000000   0.006441   \n",
       "958  0.000000  0.000000  0.004814  ...   0.000000   0.004746   0.006169   \n",
       "959  0.002621  0.001725  0.006171  ...   0.005760   0.000000   0.006042   \n",
       "\n",
       "     color 249  color 250  color 251  color 252  color 253  color 254  \\\n",
       "0     0.000000   0.000553   0.007842   0.000000   0.006694   0.008340   \n",
       "1     0.001777   0.000000   0.000000   0.000000   0.006909   0.000000   \n",
       "2     0.000000   0.000000   0.005365   0.006796   0.002022   0.000127   \n",
       "3     0.000000   0.000729   0.000455   0.006555   0.006403   0.006265   \n",
       "4     0.003891   0.000000   0.007199   0.004256   0.000000   0.002021   \n",
       "..         ...        ...        ...        ...        ...        ...   \n",
       "955   0.000000   0.003223   0.007814   0.000000   0.000000   0.000000   \n",
       "956   0.000000   0.003559   0.000000   0.008606   0.003769   0.000000   \n",
       "957   0.000000   0.000669   0.000000   0.006022   0.000000   0.000000   \n",
       "958   0.005765   0.000000   0.006596   0.000000   0.003577   0.000000   \n",
       "959   0.000000   0.000000   0.003250   0.003484   0.000000   0.000000   \n",
       "\n",
       "     color 255  \n",
       "0     0.000000  \n",
       "1     0.000000  \n",
       "2     0.000000  \n",
       "3     0.000000  \n",
       "4     0.000000  \n",
       "..         ...  \n",
       "955   0.001963  \n",
       "956   0.005761  \n",
       "957   0.007249  \n",
       "958   0.008402  \n",
       "959   0.000000  \n",
       "\n",
       "[960 rows x 256 columns]"
      ]
     },
     "execution_count": 323,
     "metadata": {},
     "output_type": "execute_result"
    }
   ],
   "source": [
    "noisy_data = pd.DataFrame(noisy_data)\n",
    "noisy_data.columns = woodobjects.columns\n",
    "noisy_data"
   ]
  },
  {
   "cell_type": "code",
   "execution_count": 324,
   "metadata": {},
   "outputs": [],
   "source": [
    " #pd.concat([woodobjects,noisy_data])"
   ]
  },
  {
   "cell_type": "code",
   "execution_count": 325,
   "metadata": {},
   "outputs": [],
   "source": [
    "woodobjects = pd.concat([object_to_check,woodobjects,noisy_data])\n",
    "woodobjects.reset_index(drop=True,inplace=True)"
   ]
  },
  {
   "cell_type": "code",
   "execution_count": null,
   "metadata": {},
   "outputs": [],
   "source": []
  },
  {
   "cell_type": "code",
   "execution_count": 327,
   "metadata": {},
   "outputs": [
    {
     "data": {
      "text/plain": [
       "(1009, 256)"
      ]
     },
     "execution_count": 327,
     "metadata": {},
     "output_type": "execute_result"
    }
   ],
   "source": [
    "woodobjects = woodobjects.loc[:,(woodobjects!=0).any(axis=0)]\n",
    "woodobjects.shape"
   ]
  },
  {
   "cell_type": "code",
   "execution_count": 328,
   "metadata": {},
   "outputs": [],
   "source": [
    "#Function to calculate mahalanobis distance\n",
    "\n",
    "def mahalanobis(x=None, data=None, cov=None):\n",
    "    \"\"\"Compute the Mahalanobis Distance between each row of x and the data  \n",
    "    x    : vector or matrix of data with, say, p columns.\n",
    "    data : ndarray of the distribution from which Mahalanobis distance of each observation of x is to be computed.\n",
    "    cov  : covariance matrix (p x p) of the distribution. If None, will be computed from data.\n",
    "    \"\"\"\n",
    "    x_minus_mu = x - np.mean(data)\n",
    "    if not cov:\n",
    "        cov = np.cov(data.values.T)\n",
    "    inv_covmat = sp.linalg.inv(cov)\n",
    "    left_term = np.dot(x_minus_mu, inv_covmat)\n",
    "    mahal = np.dot(left_term, x_minus_mu.T)\n",
    "    return mahal.diagonal()"
   ]
  },
  {
   "cell_type": "code",
   "execution_count": 329,
   "metadata": {},
   "outputs": [],
   "source": [
    "names = woodobjects.columns\n",
    "names = list(names)\n",
    "dof = len(woodobjects.columns)"
   ]
  },
  {
   "cell_type": "code",
   "execution_count": 330,
   "metadata": {},
   "outputs": [
    {
     "data": {
      "text/html": [
       "<div>\n",
       "<style scoped>\n",
       "    .dataframe tbody tr th:only-of-type {\n",
       "        vertical-align: middle;\n",
       "    }\n",
       "\n",
       "    .dataframe tbody tr th {\n",
       "        vertical-align: top;\n",
       "    }\n",
       "\n",
       "    .dataframe thead th {\n",
       "        text-align: right;\n",
       "    }\n",
       "</style>\n",
       "<table border=\"1\" class=\"dataframe\">\n",
       "  <thead>\n",
       "    <tr style=\"text-align: right;\">\n",
       "      <th></th>\n",
       "      <th>color 0</th>\n",
       "      <th>color 1</th>\n",
       "      <th>color 2</th>\n",
       "      <th>color 3</th>\n",
       "      <th>color 4</th>\n",
       "      <th>color 5</th>\n",
       "      <th>color 6</th>\n",
       "      <th>color 7</th>\n",
       "      <th>color 8</th>\n",
       "      <th>color 9</th>\n",
       "      <th>...</th>\n",
       "      <th>color 247</th>\n",
       "      <th>color 248</th>\n",
       "      <th>color 249</th>\n",
       "      <th>color 250</th>\n",
       "      <th>color 251</th>\n",
       "      <th>color 252</th>\n",
       "      <th>color 253</th>\n",
       "      <th>color 254</th>\n",
       "      <th>color 255</th>\n",
       "      <th>mahalanobis</th>\n",
       "    </tr>\n",
       "  </thead>\n",
       "  <tbody>\n",
       "    <tr>\n",
       "      <th>0</th>\n",
       "      <td>0.048259</td>\n",
       "      <td>0.0</td>\n",
       "      <td>0.0</td>\n",
       "      <td>0.0</td>\n",
       "      <td>0.038766</td>\n",
       "      <td>0.0</td>\n",
       "      <td>0.0</td>\n",
       "      <td>0.0</td>\n",
       "      <td>0.003165</td>\n",
       "      <td>0.0</td>\n",
       "      <td>...</td>\n",
       "      <td>0.0</td>\n",
       "      <td>0.0</td>\n",
       "      <td>0.0</td>\n",
       "      <td>0.0</td>\n",
       "      <td>0.0</td>\n",
       "      <td>0.0</td>\n",
       "      <td>0.0</td>\n",
       "      <td>0.0</td>\n",
       "      <td>0.0</td>\n",
       "      <td>969.331927</td>\n",
       "    </tr>\n",
       "    <tr>\n",
       "      <th>1</th>\n",
       "      <td>0.000000</td>\n",
       "      <td>0.0</td>\n",
       "      <td>0.0</td>\n",
       "      <td>0.0</td>\n",
       "      <td>0.000000</td>\n",
       "      <td>0.0</td>\n",
       "      <td>0.0</td>\n",
       "      <td>0.0</td>\n",
       "      <td>0.000000</td>\n",
       "      <td>0.0</td>\n",
       "      <td>...</td>\n",
       "      <td>0.0</td>\n",
       "      <td>0.0</td>\n",
       "      <td>0.0</td>\n",
       "      <td>0.0</td>\n",
       "      <td>0.0</td>\n",
       "      <td>0.0</td>\n",
       "      <td>0.0</td>\n",
       "      <td>0.0</td>\n",
       "      <td>0.0</td>\n",
       "      <td>107.648948</td>\n",
       "    </tr>\n",
       "    <tr>\n",
       "      <th>2</th>\n",
       "      <td>0.000000</td>\n",
       "      <td>0.0</td>\n",
       "      <td>0.0</td>\n",
       "      <td>0.0</td>\n",
       "      <td>0.000000</td>\n",
       "      <td>0.0</td>\n",
       "      <td>0.0</td>\n",
       "      <td>0.0</td>\n",
       "      <td>0.000000</td>\n",
       "      <td>0.0</td>\n",
       "      <td>...</td>\n",
       "      <td>0.0</td>\n",
       "      <td>0.0</td>\n",
       "      <td>0.0</td>\n",
       "      <td>0.0</td>\n",
       "      <td>0.0</td>\n",
       "      <td>0.0</td>\n",
       "      <td>0.0</td>\n",
       "      <td>0.0</td>\n",
       "      <td>0.0</td>\n",
       "      <td>106.547819</td>\n",
       "    </tr>\n",
       "    <tr>\n",
       "      <th>3</th>\n",
       "      <td>0.000000</td>\n",
       "      <td>0.0</td>\n",
       "      <td>0.0</td>\n",
       "      <td>0.0</td>\n",
       "      <td>0.000000</td>\n",
       "      <td>0.0</td>\n",
       "      <td>0.0</td>\n",
       "      <td>0.0</td>\n",
       "      <td>0.000000</td>\n",
       "      <td>0.0</td>\n",
       "      <td>...</td>\n",
       "      <td>0.0</td>\n",
       "      <td>0.0</td>\n",
       "      <td>0.0</td>\n",
       "      <td>0.0</td>\n",
       "      <td>0.0</td>\n",
       "      <td>0.0</td>\n",
       "      <td>0.0</td>\n",
       "      <td>0.0</td>\n",
       "      <td>0.0</td>\n",
       "      <td>101.533625</td>\n",
       "    </tr>\n",
       "    <tr>\n",
       "      <th>4</th>\n",
       "      <td>0.000000</td>\n",
       "      <td>0.0</td>\n",
       "      <td>0.0</td>\n",
       "      <td>0.0</td>\n",
       "      <td>0.000000</td>\n",
       "      <td>0.0</td>\n",
       "      <td>0.0</td>\n",
       "      <td>0.0</td>\n",
       "      <td>0.000000</td>\n",
       "      <td>0.0</td>\n",
       "      <td>...</td>\n",
       "      <td>0.0</td>\n",
       "      <td>0.0</td>\n",
       "      <td>0.0</td>\n",
       "      <td>0.0</td>\n",
       "      <td>0.0</td>\n",
       "      <td>0.0</td>\n",
       "      <td>0.0</td>\n",
       "      <td>0.0</td>\n",
       "      <td>0.0</td>\n",
       "      <td>73.898569</td>\n",
       "    </tr>\n",
       "  </tbody>\n",
       "</table>\n",
       "<p>5 rows × 257 columns</p>\n",
       "</div>"
      ],
      "text/plain": [
       "    color 0  color 1  color 2  color 3   color 4  color 5  color 6  color 7  \\\n",
       "0  0.048259      0.0      0.0      0.0  0.038766      0.0      0.0      0.0   \n",
       "1  0.000000      0.0      0.0      0.0  0.000000      0.0      0.0      0.0   \n",
       "2  0.000000      0.0      0.0      0.0  0.000000      0.0      0.0      0.0   \n",
       "3  0.000000      0.0      0.0      0.0  0.000000      0.0      0.0      0.0   \n",
       "4  0.000000      0.0      0.0      0.0  0.000000      0.0      0.0      0.0   \n",
       "\n",
       "    color 8  color 9  ...  color 247  color 248  color 249  color 250  \\\n",
       "0  0.003165      0.0  ...        0.0        0.0        0.0        0.0   \n",
       "1  0.000000      0.0  ...        0.0        0.0        0.0        0.0   \n",
       "2  0.000000      0.0  ...        0.0        0.0        0.0        0.0   \n",
       "3  0.000000      0.0  ...        0.0        0.0        0.0        0.0   \n",
       "4  0.000000      0.0  ...        0.0        0.0        0.0        0.0   \n",
       "\n",
       "   color 251  color 252  color 253  color 254  color 255  mahalanobis  \n",
       "0        0.0        0.0        0.0        0.0        0.0   969.331927  \n",
       "1        0.0        0.0        0.0        0.0        0.0   107.648948  \n",
       "2        0.0        0.0        0.0        0.0        0.0   106.547819  \n",
       "3        0.0        0.0        0.0        0.0        0.0   101.533625  \n",
       "4        0.0        0.0        0.0        0.0        0.0    73.898569  \n",
       "\n",
       "[5 rows x 257 columns]"
      ]
     },
     "execution_count": 330,
     "metadata": {},
     "output_type": "execute_result"
    }
   ],
   "source": [
    "woodobjects['mahalanobis'] = mahalanobis(x=woodobjects, data=woodobjects[names])\n",
    "woodobjects.head()"
   ]
  },
  {
   "cell_type": "code",
   "execution_count": 331,
   "metadata": {},
   "outputs": [
    {
     "data": {
      "text/plain": [
       "256"
      ]
     },
     "execution_count": 331,
     "metadata": {},
     "output_type": "execute_result"
    }
   ],
   "source": [
    "dof"
   ]
  },
  {
   "cell_type": "code",
   "execution_count": 332,
   "metadata": {},
   "outputs": [
    {
     "data": {
      "text/plain": [
       "331.65639454546084"
      ]
     },
     "execution_count": 332,
     "metadata": {},
     "output_type": "execute_result"
    }
   ],
   "source": [
    "# Critical values for n degrees of freedom\n",
    "#df = total number of variables\n",
    "#p value = 0.001 or something really small to make sure it's an actual outlier\n",
    "\n",
    "chi2.ppf((1-0.001), df=dof)"
   ]
  },
  {
   "cell_type": "code",
   "execution_count": 335,
   "metadata": {},
   "outputs": [],
   "source": [
    "# Compute the P-Values\n",
    "woodobjects['p_value'] = 1 - chi2.cdf(woodobjects['mahalanobis'], dof)\n",
    "\n",
    "# Extreme values with a significance level of 0.01\n",
    "different_objects = woodobjects.loc[woodobjects.p_value < 0.001] "
   ]
  },
  {
   "cell_type": "code",
   "execution_count": 356,
   "metadata": {},
   "outputs": [],
   "source": [
    "diff = 'yes' if 0 in list(different_objects.index) else 'no'\n",
    "    \n",
    "distance = woodobjects['mahalanobis'][0]\n",
    "pvalue = woodobjects['p_value'][0]"
   ]
  },
  {
   "cell_type": "code",
   "execution_count": 357,
   "metadata": {},
   "outputs": [
    {
     "data": {
      "text/plain": [
       "'yes'"
      ]
     },
     "execution_count": 357,
     "metadata": {},
     "output_type": "execute_result"
    }
   ],
   "source": [
    "diff"
   ]
  },
  {
   "cell_type": "code",
   "execution_count": 354,
   "metadata": {},
   "outputs": [
    {
     "data": {
      "text/plain": [
       "0.0"
      ]
     },
     "execution_count": 354,
     "metadata": {},
     "output_type": "execute_result"
    }
   ],
   "source": []
  },
  {
   "cell_type": "code",
   "execution_count": null,
   "metadata": {},
   "outputs": [],
   "source": []
  },
  {
   "cell_type": "code",
   "execution_count": null,
   "metadata": {},
   "outputs": [],
   "source": []
  },
  {
   "cell_type": "code",
   "execution_count": null,
   "metadata": {},
   "outputs": [],
   "source": []
  }
 ],
 "metadata": {
  "kernelspec": {
   "display_name": "Python 3",
   "language": "python",
   "name": "python3"
  },
  "language_info": {
   "codemirror_mode": {
    "name": "ipython",
    "version": 3
   },
   "file_extension": ".py",
   "mimetype": "text/x-python",
   "name": "python",
   "nbconvert_exporter": "python",
   "pygments_lexer": "ipython3",
   "version": "3.7.6"
  }
 },
 "nbformat": 4,
 "nbformat_minor": 4
}
