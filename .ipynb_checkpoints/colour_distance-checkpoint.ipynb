{
 "cells": [
  {
   "cell_type": "code",
   "execution_count": 223,
   "metadata": {},
   "outputs": [
    {
     "data": {
      "text/plain": [
       "<module 'calculate_distance' from 'D:\\\\07_Colour_Distance\\\\calculate_distance.py'>"
      ]
     },
     "execution_count": 223,
     "metadata": {},
     "output_type": "execute_result"
    }
   ],
   "source": [
    "import pandas as pd\n",
    "import numpy as np\n",
    "import scipy as sp\n",
    "import random\n",
    "from scipy.stats import chi2\n",
    "import plotly.express as px\n",
    "\n",
    "import calculate_distance as cd\n",
    "\n",
    "#from __future__ import print_function\n",
    "import time\n",
    "from sklearn.datasets import fetch_openml\n",
    "from sklearn.decomposition import PCA\n",
    "from sklearn.manifold import TSNE\n",
    "%matplotlib inline\n",
    "import matplotlib.pyplot as plt\n",
    "from mpl_toolkits.mplot3d import Axes3D\n",
    "import seaborn as sns\n",
    "\n",
    "import importlib\n",
    "importlib.reload(cd)"
   ]
  },
  {
   "cell_type": "code",
   "execution_count": 178,
   "metadata": {},
   "outputs": [
    {
     "data": {
      "text/html": [
       "<div>\n",
       "<style scoped>\n",
       "    .dataframe tbody tr th:only-of-type {\n",
       "        vertical-align: middle;\n",
       "    }\n",
       "\n",
       "    .dataframe tbody tr th {\n",
       "        vertical-align: top;\n",
       "    }\n",
       "\n",
       "    .dataframe thead th {\n",
       "        text-align: right;\n",
       "    }\n",
       "</style>\n",
       "<table border=\"1\" class=\"dataframe\">\n",
       "  <thead>\n",
       "    <tr style=\"text-align: right;\">\n",
       "      <th></th>\n",
       "      <th>type</th>\n",
       "      <th>colormap</th>\n",
       "    </tr>\n",
       "  </thead>\n",
       "  <tbody>\n",
       "    <tr>\n",
       "      <th>0</th>\n",
       "      <td>bird_black_1</td>\n",
       "      <td>[{'x': 0.0, 'y': 0.108359135687351}, {'x': 36....</td>\n",
       "    </tr>\n",
       "    <tr>\n",
       "      <th>1</th>\n",
       "      <td>bird_black_2</td>\n",
       "      <td>[{'x': 0.0, 'y': 0.122055672109127}, {'x': 36....</td>\n",
       "    </tr>\n",
       "    <tr>\n",
       "      <th>2</th>\n",
       "      <td>bird_black_3</td>\n",
       "      <td>[{'x': 0.0, 'y': 0.13507853448390902}, {'x': 3...</td>\n",
       "    </tr>\n",
       "    <tr>\n",
       "      <th>3</th>\n",
       "      <td>bird_black_4</td>\n",
       "      <td>[{'x': 0.0, 'y': 0.108540922403335}, {'x': 36....</td>\n",
       "    </tr>\n",
       "    <tr>\n",
       "      <th>4</th>\n",
       "      <td>bird_black_5</td>\n",
       "      <td>[{'x': 0.0, 'y': 0.085764810442924}, {'x': 36....</td>\n",
       "    </tr>\n",
       "    <tr>\n",
       "      <th>...</th>\n",
       "      <td>...</td>\n",
       "      <td>...</td>\n",
       "    </tr>\n",
       "    <tr>\n",
       "      <th>257</th>\n",
       "      <td>novel_object_10_1_11</td>\n",
       "      <td>[{'x': 224.0, 'y': 0.061946902424097006}, {'x'...</td>\n",
       "    </tr>\n",
       "    <tr>\n",
       "      <th>258</th>\n",
       "      <td>novel_object_11_1_11</td>\n",
       "      <td>[{'x': 160.0, 'y': 0.38983049988746604}, {'x':...</td>\n",
       "    </tr>\n",
       "    <tr>\n",
       "      <th>259</th>\n",
       "      <td>novel_object_7_1_11</td>\n",
       "      <td>[{'x': 160.0, 'y': 0.39711192250251703}, {'x':...</td>\n",
       "    </tr>\n",
       "    <tr>\n",
       "      <th>260</th>\n",
       "      <td>novel_object_0_1_12</td>\n",
       "      <td>[{'x': 0.0, 'y': 0.109271526336669}, {'x': 223...</td>\n",
       "    </tr>\n",
       "    <tr>\n",
       "      <th>261</th>\n",
       "      <td>novel_object_0_1_13</td>\n",
       "      <td>[{'x': 20.0, 'y': 0.6288343667984001}, {'x': 2...</td>\n",
       "    </tr>\n",
       "  </tbody>\n",
       "</table>\n",
       "<p>262 rows × 2 columns</p>\n",
       "</div>"
      ],
      "text/plain": [
       "                     type                                           colormap\n",
       "0            bird_black_1  [{'x': 0.0, 'y': 0.108359135687351}, {'x': 36....\n",
       "1            bird_black_2  [{'x': 0.0, 'y': 0.122055672109127}, {'x': 36....\n",
       "2            bird_black_3  [{'x': 0.0, 'y': 0.13507853448390902}, {'x': 3...\n",
       "3            bird_black_4  [{'x': 0.0, 'y': 0.108540922403335}, {'x': 36....\n",
       "4            bird_black_5  [{'x': 0.0, 'y': 0.085764810442924}, {'x': 36....\n",
       "..                    ...                                                ...\n",
       "257  novel_object_10_1_11  [{'x': 224.0, 'y': 0.061946902424097006}, {'x'...\n",
       "258  novel_object_11_1_11  [{'x': 160.0, 'y': 0.38983049988746604}, {'x':...\n",
       "259   novel_object_7_1_11  [{'x': 160.0, 'y': 0.39711192250251703}, {'x':...\n",
       "260   novel_object_0_1_12  [{'x': 0.0, 'y': 0.109271526336669}, {'x': 223...\n",
       "261   novel_object_0_1_13  [{'x': 20.0, 'y': 0.6288343667984001}, {'x': 2...\n",
       "\n",
       "[262 rows x 2 columns]"
      ]
     },
     "execution_count": 178,
     "metadata": {},
     "output_type": "execute_result"
    }
   ],
   "source": [
    "data = pd.read_json(\"BaseMap.json\")\n",
    "data = data[2:].copy().reset_index(drop=True)\n",
    "data"
   ]
  },
  {
   "cell_type": "code",
   "execution_count": 179,
   "metadata": {},
   "outputs": [],
   "source": [
    "split_type = data['type'].str.split('_')"
   ]
  },
  {
   "cell_type": "code",
   "execution_count": 180,
   "metadata": {},
   "outputs": [],
   "source": [
    "object_name = []\n",
    "for item in split_type:\n",
    "    #print(item[0])\n",
    "    if item[0]=='bird':\n",
    "        object_name.append(item[0]+\"_\"+item[1])\n",
    "    elif item[0]=='novel':\n",
    "        object_name.append(item[0]+\"_\"+item[1]+\"_\"+item[3]+\"_\"+item[4])\n",
    "    else:\n",
    "        object_name.append(item[0])"
   ]
  },
  {
   "cell_type": "code",
   "execution_count": 181,
   "metadata": {},
   "outputs": [],
   "source": [
    "data['name'] = object_name"
   ]
  },
  {
   "cell_type": "code",
   "execution_count": 182,
   "metadata": {},
   "outputs": [
    {
     "data": {
      "text/plain": [
       "(262, 256)"
      ]
     },
     "execution_count": 182,
     "metadata": {},
     "output_type": "execute_result"
    }
   ],
   "source": [
    "colarray = []\n",
    "for item in data['colormap']:\n",
    "    row = item\n",
    "    colarray.append(cd.colormapfunction(item))\n",
    "    \n",
    "X = np.array(colarray).reshape(-1,256)\n",
    "X.shape"
   ]
  },
  {
   "cell_type": "code",
   "execution_count": 183,
   "metadata": {},
   "outputs": [
    {
     "name": "stdout",
     "output_type": "stream",
     "text": [
      "Size of the dataframe: (262, 257)\n"
     ]
    }
   ],
   "source": [
    "#creating the inputs for model\n",
    "feat_cols = [ 'color '+str(i) for i in range(X.shape[1]) ]\n",
    "DF = pd.DataFrame(X,columns=feat_cols)\n",
    "\n",
    "DF['name'] = object_name\n",
    "\n",
    "# pd.set_option('display.max_columns', None) # Show All Columns in Preview\n",
    "print('Size of the dataframe: {}'.format(DF.shape))"
   ]
  },
  {
   "cell_type": "code",
   "execution_count": 184,
   "metadata": {},
   "outputs": [
    {
     "data": {
      "text/plain": [
       "262"
      ]
     },
     "execution_count": 184,
     "metadata": {},
     "output_type": "execute_result"
    }
   ],
   "source": [
    "# For reproducability of the results\n",
    "np.random.seed(42)\n",
    "rndperm = np.random.permutation(data.shape[0])\n",
    "rndperm\n",
    "len(rndperm)"
   ]
  },
  {
   "cell_type": "code",
   "execution_count": 185,
   "metadata": {},
   "outputs": [
    {
     "data": {
      "text/plain": [
       "19"
      ]
     },
     "execution_count": 185,
     "metadata": {},
     "output_type": "execute_result"
    }
   ],
   "source": [
    "len(set(object_name))"
   ]
  },
  {
   "cell_type": "code",
   "execution_count": 186,
   "metadata": {},
   "outputs": [],
   "source": [
    "#Check T-SNE\n",
    "N = 10000\n",
    "df_subset = DF.loc[rndperm[:N],:].copy()\n",
    "data_subset = df_subset[feat_cols].values"
   ]
  },
  {
   "cell_type": "code",
   "execution_count": 187,
   "metadata": {},
   "outputs": [
    {
     "name": "stdout",
     "output_type": "stream",
     "text": [
      "[t-SNE] Computing 151 nearest neighbors...\n",
      "[t-SNE] Indexed 262 samples in 0.001s...\n",
      "[t-SNE] Computed neighbors for 262 samples in 0.005s...\n",
      "[t-SNE] Computed conditional probabilities for sample 262 / 262\n",
      "[t-SNE] Mean sigma: 0.310121\n",
      "[t-SNE] KL divergence after 250 iterations with early exaggeration: 55.530926\n",
      "[t-SNE] KL divergence after 500 iterations: 0.106417\n",
      "t-SNE done! Time elapsed: 0.2672581672668457 seconds\n"
     ]
    }
   ],
   "source": [
    "time_start = time.time()\n",
    "tsne = TSNE(n_components=2, verbose=1, perplexity=50, n_iter=500)\n",
    "tsne_results = tsne.fit_transform(data_subset)\n",
    "print('t-SNE done! Time elapsed: {} seconds'.format(time.time()-time_start))"
   ]
  },
  {
   "cell_type": "code",
   "execution_count": null,
   "metadata": {},
   "outputs": [],
   "source": []
  },
  {
   "cell_type": "code",
   "execution_count": 188,
   "metadata": {},
   "outputs": [
    {
     "data": {
      "text/plain": [
       "<matplotlib.axes._subplots.AxesSubplot at 0x1ec7ea59f08>"
      ]
     },
     "execution_count": 188,
     "metadata": {},
     "output_type": "execute_result"
    },
    {
     "data": {
      "image/png": "[encoded data removed]",
      "text/plain": [
       "<Figure size 720x720 with 1 Axes>"
      ]
     },
     "metadata": {
      "needs_background": "light"
     },
     "output_type": "display_data"
    }
   ],
   "source": [
    "df_subset['tsne-2d-one'] = tsne_results[:,0]\n",
    "df_subset['tsne-2d-two'] = tsne_results[:,1]\n",
    "plt.figure(figsize=(10,10))\n",
    "sns.scatterplot(\n",
    "    x=\"tsne-2d-one\", y=\"tsne-2d-two\",\n",
    "    hue=\"name\",\n",
    "    palette=sns.color_palette(\"hls\", 19),\n",
    "    data=df_subset,\n",
    "    legend=\"full\",\n",
    "    alpha=0.6\n",
    ")"
   ]
  },
  {
   "cell_type": "code",
   "execution_count": 189,
   "metadata": {},
   "outputs": [
    {
     "data": {
      "text/plain": [
       "['bird_black',\n",
       " 'bird_blue',\n",
       " 'bird_red',\n",
       " 'bird_white',\n",
       " 'bird_yellow',\n",
       " 'tnt',\n",
       " 'platform',\n",
       " 'ice',\n",
       " 'pig',\n",
       " 'stone',\n",
       " 'wood',\n",
       " 'novel_object_1_6',\n",
       " 'novel_object_1_7',\n",
       " 'novel_object_1_8',\n",
       " 'novel_object_1_9',\n",
       " 'novel_object_1_10',\n",
       " 'novel_object_1_11',\n",
       " 'novel_object_1_12',\n",
       " 'novel_object_1_13']"
      ]
     },
     "execution_count": 189,
     "metadata": {},
     "output_type": "execute_result"
    }
   ],
   "source": [
    "## Calculating Mahalanobis Distances using DF\n",
    "list(DF['name'].unique())"
   ]
  },
  {
   "cell_type": "code",
   "execution_count": 190,
   "metadata": {},
   "outputs": [
    {
     "data": {
      "text/plain": [
       "262"
      ]
     },
     "execution_count": 190,
     "metadata": {},
     "output_type": "execute_result"
    }
   ],
   "source": [
    "len(DF)"
   ]
  },
  {
   "cell_type": "code",
   "execution_count": 191,
   "metadata": {},
   "outputs": [
    {
     "data": {
      "text/html": [
       "<div>\n",
       "<style scoped>\n",
       "    .dataframe tbody tr th:only-of-type {\n",
       "        vertical-align: middle;\n",
       "    }\n",
       "\n",
       "    .dataframe tbody tr th {\n",
       "        vertical-align: top;\n",
       "    }\n",
       "\n",
       "    .dataframe thead th {\n",
       "        text-align: right;\n",
       "    }\n",
       "</style>\n",
       "<table border=\"1\" class=\"dataframe\">\n",
       "  <thead>\n",
       "    <tr style=\"text-align: right;\">\n",
       "      <th></th>\n",
       "      <th>type</th>\n",
       "      <th>colormap</th>\n",
       "      <th>name</th>\n",
       "    </tr>\n",
       "  </thead>\n",
       "  <tbody>\n",
       "    <tr>\n",
       "      <th>0</th>\n",
       "      <td>bird_black_1</td>\n",
       "      <td>[{'x': 0.0, 'y': 0.108359135687351}, {'x': 36....</td>\n",
       "      <td>bird_black</td>\n",
       "    </tr>\n",
       "    <tr>\n",
       "      <th>1</th>\n",
       "      <td>bird_black_2</td>\n",
       "      <td>[{'x': 0.0, 'y': 0.122055672109127}, {'x': 36....</td>\n",
       "      <td>bird_black</td>\n",
       "    </tr>\n",
       "    <tr>\n",
       "      <th>2</th>\n",
       "      <td>bird_black_3</td>\n",
       "      <td>[{'x': 0.0, 'y': 0.13507853448390902}, {'x': 3...</td>\n",
       "      <td>bird_black</td>\n",
       "    </tr>\n",
       "    <tr>\n",
       "      <th>3</th>\n",
       "      <td>bird_black_4</td>\n",
       "      <td>[{'x': 0.0, 'y': 0.108540922403335}, {'x': 36....</td>\n",
       "      <td>bird_black</td>\n",
       "    </tr>\n",
       "    <tr>\n",
       "      <th>4</th>\n",
       "      <td>bird_black_5</td>\n",
       "      <td>[{'x': 0.0, 'y': 0.085764810442924}, {'x': 36....</td>\n",
       "      <td>bird_black</td>\n",
       "    </tr>\n",
       "    <tr>\n",
       "      <th>...</th>\n",
       "      <td>...</td>\n",
       "      <td>...</td>\n",
       "      <td>...</td>\n",
       "    </tr>\n",
       "    <tr>\n",
       "      <th>257</th>\n",
       "      <td>novel_object_10_1_11</td>\n",
       "      <td>[{'x': 224.0, 'y': 0.061946902424097006}, {'x'...</td>\n",
       "      <td>novel_object_1_11</td>\n",
       "    </tr>\n",
       "    <tr>\n",
       "      <th>258</th>\n",
       "      <td>novel_object_11_1_11</td>\n",
       "      <td>[{'x': 160.0, 'y': 0.38983049988746604}, {'x':...</td>\n",
       "      <td>novel_object_1_11</td>\n",
       "    </tr>\n",
       "    <tr>\n",
       "      <th>259</th>\n",
       "      <td>novel_object_7_1_11</td>\n",
       "      <td>[{'x': 160.0, 'y': 0.39711192250251703}, {'x':...</td>\n",
       "      <td>novel_object_1_11</td>\n",
       "    </tr>\n",
       "    <tr>\n",
       "      <th>260</th>\n",
       "      <td>novel_object_0_1_12</td>\n",
       "      <td>[{'x': 0.0, 'y': 0.109271526336669}, {'x': 223...</td>\n",
       "      <td>novel_object_1_12</td>\n",
       "    </tr>\n",
       "    <tr>\n",
       "      <th>261</th>\n",
       "      <td>novel_object_0_1_13</td>\n",
       "      <td>[{'x': 20.0, 'y': 0.6288343667984001}, {'x': 2...</td>\n",
       "      <td>novel_object_1_13</td>\n",
       "    </tr>\n",
       "  </tbody>\n",
       "</table>\n",
       "<p>262 rows × 3 columns</p>\n",
       "</div>"
      ],
      "text/plain": [
       "                     type                                           colormap  \\\n",
       "0            bird_black_1  [{'x': 0.0, 'y': 0.108359135687351}, {'x': 36....   \n",
       "1            bird_black_2  [{'x': 0.0, 'y': 0.122055672109127}, {'x': 36....   \n",
       "2            bird_black_3  [{'x': 0.0, 'y': 0.13507853448390902}, {'x': 3...   \n",
       "3            bird_black_4  [{'x': 0.0, 'y': 0.108540922403335}, {'x': 36....   \n",
       "4            bird_black_5  [{'x': 0.0, 'y': 0.085764810442924}, {'x': 36....   \n",
       "..                    ...                                                ...   \n",
       "257  novel_object_10_1_11  [{'x': 224.0, 'y': 0.061946902424097006}, {'x'...   \n",
       "258  novel_object_11_1_11  [{'x': 160.0, 'y': 0.38983049988746604}, {'x':...   \n",
       "259   novel_object_7_1_11  [{'x': 160.0, 'y': 0.39711192250251703}, {'x':...   \n",
       "260   novel_object_0_1_12  [{'x': 0.0, 'y': 0.109271526336669}, {'x': 223...   \n",
       "261   novel_object_0_1_13  [{'x': 20.0, 'y': 0.6288343667984001}, {'x': 2...   \n",
       "\n",
       "                  name  \n",
       "0           bird_black  \n",
       "1           bird_black  \n",
       "2           bird_black  \n",
       "3           bird_black  \n",
       "4           bird_black  \n",
       "..                 ...  \n",
       "257  novel_object_1_11  \n",
       "258  novel_object_1_11  \n",
       "259  novel_object_1_11  \n",
       "260  novel_object_1_12  \n",
       "261  novel_object_1_13  \n",
       "\n",
       "[262 rows x 3 columns]"
      ]
     },
     "execution_count": 191,
     "metadata": {},
     "output_type": "execute_result"
    }
   ],
   "source": [
    "data"
   ]
  },
  {
   "cell_type": "code",
   "execution_count": 192,
   "metadata": {},
   "outputs": [],
   "source": [
    "DF['type']=data['type']"
   ]
  },
  {
   "cell_type": "code",
   "execution_count": 193,
   "metadata": {},
   "outputs": [],
   "source": [
    "novel_checklist = list(DF[DF['type'].str.contains('novel')]['type'])\n",
    "\n",
    "std_checkllist = ['bird_black','bird_blue','bird_red','bird_white','bird_yellow','tnt',\n",
    " 'platform','ice','pig','stone','wood']\n",
    "\n",
    "# novel_checklist = [\"novel_object_0_1_6\"]\n",
    "# std_checkllist = ['bird_blue']"
   ]
  },
  {
   "cell_type": "code",
   "execution_count": 194,
   "metadata": {},
   "outputs": [],
   "source": [
    "novel_obj_list = []\n",
    "check_obj_list = []\n",
    "mahanalobis_distance = []\n",
    "p_value = []\n",
    "significance = []\n",
    "\n",
    "for novel_obj in novel_checklist:\n",
    "    object_to_check = DF[DF['type']==novel_obj].copy()\n",
    "    object_to_check.drop(['name','type'],axis=1,inplace=True)\n",
    "    \n",
    "    for obj_category in std_checkllist:\n",
    "        objects = DF[DF['name']==obj_category].copy()\n",
    "        objects.reset_index(inplace=True)\n",
    "        objects.drop(['name','index','type'],axis=1,inplace=True)\n",
    "        \n",
    "        data_to_generate = int(1000/len(objects))\n",
    "        \n",
    "        noisy_data = cd.generate_noisy_data(2,data_to_generate,objects)\n",
    "        \n",
    "        objects = pd.concat([object_to_check,objects,noisy_data])\n",
    "        objects.reset_index(drop=True,inplace=True)\n",
    "        objects = objects.loc[:,(objects!=0).any(axis=0)]\n",
    "        \n",
    "        dof = len(objects.columns)\n",
    "        \n",
    "        m_dist = cd.mahalanobis(objects[0:1],objects)[0]\n",
    "        p_val = 1 - chi2.cdf(np.abs(m_dist), dof)\n",
    "        \n",
    "        novel_obj_list.append(novel_obj)\n",
    "        check_obj_list.append(obj_category)\n",
    "        mahanalobis_distance.append(np.abs(m_dist))\n",
    "        p_value.append(p_val)\n",
    "        significance.append(p_val<0.001)"
   ]
  },
  {
   "cell_type": "code",
   "execution_count": 195,
   "metadata": {},
   "outputs": [
    {
     "data": {
      "text/html": [
       "<div>\n",
       "<style scoped>\n",
       "    .dataframe tbody tr th:only-of-type {\n",
       "        vertical-align: middle;\n",
       "    }\n",
       "\n",
       "    .dataframe tbody tr th {\n",
       "        vertical-align: top;\n",
       "    }\n",
       "\n",
       "    .dataframe thead th {\n",
       "        text-align: right;\n",
       "    }\n",
       "</style>\n",
       "<table border=\"1\" class=\"dataframe\">\n",
       "  <thead>\n",
       "    <tr style=\"text-align: right;\">\n",
       "      <th></th>\n",
       "      <th>novel_obj_list</th>\n",
       "      <th>check_obj_list</th>\n",
       "      <th>mahanalobis_distance</th>\n",
       "      <th>p_value</th>\n",
       "      <th>significance</th>\n",
       "    </tr>\n",
       "  </thead>\n",
       "  <tbody>\n",
       "    <tr>\n",
       "      <th>0</th>\n",
       "      <td>novel_object_0_1_6</td>\n",
       "      <td>bird_black</td>\n",
       "      <td>992.401200</td>\n",
       "      <td>0.000000</td>\n",
       "      <td>True</td>\n",
       "    </tr>\n",
       "    <tr>\n",
       "      <th>1</th>\n",
       "      <td>novel_object_0_1_6</td>\n",
       "      <td>bird_blue</td>\n",
       "      <td>264.126223</td>\n",
       "      <td>0.350196</td>\n",
       "      <td>False</td>\n",
       "    </tr>\n",
       "    <tr>\n",
       "      <th>2</th>\n",
       "      <td>novel_object_0_1_6</td>\n",
       "      <td>bird_red</td>\n",
       "      <td>970.105050</td>\n",
       "      <td>0.000000</td>\n",
       "      <td>True</td>\n",
       "    </tr>\n",
       "    <tr>\n",
       "      <th>3</th>\n",
       "      <td>novel_object_0_1_6</td>\n",
       "      <td>bird_white</td>\n",
       "      <td>1010.990229</td>\n",
       "      <td>0.000000</td>\n",
       "      <td>True</td>\n",
       "    </tr>\n",
       "    <tr>\n",
       "      <th>4</th>\n",
       "      <td>novel_object_0_1_6</td>\n",
       "      <td>bird_yellow</td>\n",
       "      <td>1036.150462</td>\n",
       "      <td>0.000000</td>\n",
       "      <td>True</td>\n",
       "    </tr>\n",
       "    <tr>\n",
       "      <th>...</th>\n",
       "      <td>...</td>\n",
       "      <td>...</td>\n",
       "      <td>...</td>\n",
       "      <td>...</td>\n",
       "      <td>...</td>\n",
       "    </tr>\n",
       "    <tr>\n",
       "      <th>567</th>\n",
       "      <td>novel_object_0_1_13</td>\n",
       "      <td>platform</td>\n",
       "      <td>825.896703</td>\n",
       "      <td>0.000000</td>\n",
       "      <td>True</td>\n",
       "    </tr>\n",
       "    <tr>\n",
       "      <th>568</th>\n",
       "      <td>novel_object_0_1_13</td>\n",
       "      <td>ice</td>\n",
       "      <td>1039.819634</td>\n",
       "      <td>0.000000</td>\n",
       "      <td>True</td>\n",
       "    </tr>\n",
       "    <tr>\n",
       "      <th>569</th>\n",
       "      <td>novel_object_0_1_13</td>\n",
       "      <td>pig</td>\n",
       "      <td>1020.988167</td>\n",
       "      <td>0.000000</td>\n",
       "      <td>True</td>\n",
       "    </tr>\n",
       "    <tr>\n",
       "      <th>570</th>\n",
       "      <td>novel_object_0_1_13</td>\n",
       "      <td>stone</td>\n",
       "      <td>956.445600</td>\n",
       "      <td>0.000000</td>\n",
       "      <td>True</td>\n",
       "    </tr>\n",
       "    <tr>\n",
       "      <th>571</th>\n",
       "      <td>novel_object_0_1_13</td>\n",
       "      <td>wood</td>\n",
       "      <td>952.856820</td>\n",
       "      <td>0.000000</td>\n",
       "      <td>True</td>\n",
       "    </tr>\n",
       "  </tbody>\n",
       "</table>\n",
       "<p>572 rows × 5 columns</p>\n",
       "</div>"
      ],
      "text/plain": [
       "          novel_obj_list check_obj_list  mahanalobis_distance   p_value  \\\n",
       "0     novel_object_0_1_6     bird_black            992.401200  0.000000   \n",
       "1     novel_object_0_1_6      bird_blue            264.126223  0.350196   \n",
       "2     novel_object_0_1_6       bird_red            970.105050  0.000000   \n",
       "3     novel_object_0_1_6     bird_white           1010.990229  0.000000   \n",
       "4     novel_object_0_1_6    bird_yellow           1036.150462  0.000000   \n",
       "..                   ...            ...                   ...       ...   \n",
       "567  novel_object_0_1_13       platform            825.896703  0.000000   \n",
       "568  novel_object_0_1_13            ice           1039.819634  0.000000   \n",
       "569  novel_object_0_1_13            pig           1020.988167  0.000000   \n",
       "570  novel_object_0_1_13          stone            956.445600  0.000000   \n",
       "571  novel_object_0_1_13           wood            952.856820  0.000000   \n",
       "\n",
       "     significance  \n",
       "0            True  \n",
       "1           False  \n",
       "2            True  \n",
       "3            True  \n",
       "4            True  \n",
       "..            ...  \n",
       "567          True  \n",
       "568          True  \n",
       "569          True  \n",
       "570          True  \n",
       "571          True  \n",
       "\n",
       "[572 rows x 5 columns]"
      ]
     },
     "execution_count": 195,
     "metadata": {},
     "output_type": "execute_result"
    }
   ],
   "source": [
    "df = {\"novel_obj_list\":novel_obj_list,\"check_obj_list\":check_obj_list,\"mahanalobis_distance\":\n",
    "      mahanalobis_distance,\"p_value\":p_value,\"significance\":significance}\n",
    "df = pd.DataFrame(df)\n",
    "df"
   ]
  },
  {
   "cell_type": "code",
   "execution_count": 217,
   "metadata": {},
   "outputs": [],
   "source": [
    "#novel_checklist\n",
    "\n",
    "object_name = []\n",
    "difficulty = []\n",
    "for novel_obj in novel_checklist:\n",
    "    DM = 1/min(df[df['novel_obj_list']==novel_obj]['mahanalobis_distance'])\n",
    "    object_name.append(novel_obj)\n",
    "    difficulty.append(DM)\n",
    "    \n",
    "dm_df = {\"object_name\":object_name,\"difficulty\":difficulty}\n",
    "dm_df = pd.DataFrame(dm_df)"
   ]
  },
  {
   "cell_type": "code",
   "execution_count": 221,
   "metadata": {},
   "outputs": [],
   "source": [
    "split_type = dm_df['object_name'].str.split('_')\n",
    "\n",
    "novel_name = []\n",
    "for item in split_type:\n",
    "    novel_name.append(item[0]+\"_\"+item[1]+\"_\"+item[3]+\"_\"+item[4])\n",
    "\n",
    "dm_df['novel_name'] = novel_name"
   ]
  },
  {
   "cell_type": "code",
   "execution_count": 222,
   "metadata": {},
   "outputs": [
    {
     "data": {
      "text/html": [
       "<div>\n",
       "<style scoped>\n",
       "    .dataframe tbody tr th:only-of-type {\n",
       "        vertical-align: middle;\n",
       "    }\n",
       "\n",
       "    .dataframe tbody tr th {\n",
       "        vertical-align: top;\n",
       "    }\n",
       "\n",
       "    .dataframe thead th {\n",
       "        text-align: right;\n",
       "    }\n",
       "</style>\n",
       "<table border=\"1\" class=\"dataframe\">\n",
       "  <thead>\n",
       "    <tr style=\"text-align: right;\">\n",
       "      <th></th>\n",
       "      <th>object_name</th>\n",
       "      <th>difficulty</th>\n",
       "      <th>novel_name</th>\n",
       "    </tr>\n",
       "  </thead>\n",
       "  <tbody>\n",
       "    <tr>\n",
       "      <th>0</th>\n",
       "      <td>novel_object_0_1_6</td>\n",
       "      <td>0.003786</td>\n",
       "      <td>novel_object_1_6</td>\n",
       "    </tr>\n",
       "    <tr>\n",
       "      <th>1</th>\n",
       "      <td>novel_object_1_1_6</td>\n",
       "      <td>0.001760</td>\n",
       "      <td>novel_object_1_6</td>\n",
       "    </tr>\n",
       "    <tr>\n",
       "      <th>2</th>\n",
       "      <td>novel_object_2_1_6</td>\n",
       "      <td>0.001079</td>\n",
       "      <td>novel_object_1_6</td>\n",
       "    </tr>\n",
       "    <tr>\n",
       "      <th>3</th>\n",
       "      <td>novel_object_3_1_6</td>\n",
       "      <td>0.001065</td>\n",
       "      <td>novel_object_1_6</td>\n",
       "    </tr>\n",
       "    <tr>\n",
       "      <th>4</th>\n",
       "      <td>novel_object_4_1_6</td>\n",
       "      <td>0.001659</td>\n",
       "      <td>novel_object_1_6</td>\n",
       "    </tr>\n",
       "    <tr>\n",
       "      <th>5</th>\n",
       "      <td>novel_object_5_1_6</td>\n",
       "      <td>0.001152</td>\n",
       "      <td>novel_object_1_6</td>\n",
       "    </tr>\n",
       "    <tr>\n",
       "      <th>6</th>\n",
       "      <td>novel_object_6_1_6</td>\n",
       "      <td>0.001066</td>\n",
       "      <td>novel_object_1_6</td>\n",
       "    </tr>\n",
       "    <tr>\n",
       "      <th>7</th>\n",
       "      <td>novel_object_7_1_6</td>\n",
       "      <td>0.001183</td>\n",
       "      <td>novel_object_1_6</td>\n",
       "    </tr>\n",
       "    <tr>\n",
       "      <th>8</th>\n",
       "      <td>novel_object_8_1_6</td>\n",
       "      <td>0.001202</td>\n",
       "      <td>novel_object_1_6</td>\n",
       "    </tr>\n",
       "    <tr>\n",
       "      <th>9</th>\n",
       "      <td>novel_object_9_1_6</td>\n",
       "      <td>0.001040</td>\n",
       "      <td>novel_object_1_6</td>\n",
       "    </tr>\n",
       "    <tr>\n",
       "      <th>10</th>\n",
       "      <td>novel_object_10_1_6</td>\n",
       "      <td>0.001134</td>\n",
       "      <td>novel_object_1_6</td>\n",
       "    </tr>\n",
       "    <tr>\n",
       "      <th>11</th>\n",
       "      <td>novel_object_11_1_6</td>\n",
       "      <td>0.001400</td>\n",
       "      <td>novel_object_1_6</td>\n",
       "    </tr>\n",
       "    <tr>\n",
       "      <th>12</th>\n",
       "      <td>novel_object_0_1_7</td>\n",
       "      <td>0.012690</td>\n",
       "      <td>novel_object_1_7</td>\n",
       "    </tr>\n",
       "    <tr>\n",
       "      <th>13</th>\n",
       "      <td>novel_object_1_1_7</td>\n",
       "      <td>0.002529</td>\n",
       "      <td>novel_object_1_7</td>\n",
       "    </tr>\n",
       "    <tr>\n",
       "      <th>14</th>\n",
       "      <td>novel_object_2_1_7</td>\n",
       "      <td>0.001064</td>\n",
       "      <td>novel_object_1_7</td>\n",
       "    </tr>\n",
       "    <tr>\n",
       "      <th>15</th>\n",
       "      <td>novel_object_3_1_7</td>\n",
       "      <td>0.001176</td>\n",
       "      <td>novel_object_1_7</td>\n",
       "    </tr>\n",
       "    <tr>\n",
       "      <th>16</th>\n",
       "      <td>novel_object_4_1_7</td>\n",
       "      <td>0.001178</td>\n",
       "      <td>novel_object_1_7</td>\n",
       "    </tr>\n",
       "    <tr>\n",
       "      <th>17</th>\n",
       "      <td>novel_object_5_1_7</td>\n",
       "      <td>0.001106</td>\n",
       "      <td>novel_object_1_7</td>\n",
       "    </tr>\n",
       "    <tr>\n",
       "      <th>18</th>\n",
       "      <td>novel_object_6_1_7</td>\n",
       "      <td>0.002800</td>\n",
       "      <td>novel_object_1_7</td>\n",
       "    </tr>\n",
       "    <tr>\n",
       "      <th>19</th>\n",
       "      <td>novel_object_7_1_7</td>\n",
       "      <td>0.001304</td>\n",
       "      <td>novel_object_1_7</td>\n",
       "    </tr>\n",
       "    <tr>\n",
       "      <th>20</th>\n",
       "      <td>novel_object_8_1_7</td>\n",
       "      <td>0.001443</td>\n",
       "      <td>novel_object_1_7</td>\n",
       "    </tr>\n",
       "    <tr>\n",
       "      <th>21</th>\n",
       "      <td>novel_object_9_1_7</td>\n",
       "      <td>0.005591</td>\n",
       "      <td>novel_object_1_7</td>\n",
       "    </tr>\n",
       "    <tr>\n",
       "      <th>22</th>\n",
       "      <td>novel_object_10_1_7</td>\n",
       "      <td>0.004100</td>\n",
       "      <td>novel_object_1_7</td>\n",
       "    </tr>\n",
       "    <tr>\n",
       "      <th>23</th>\n",
       "      <td>novel_object_11_1_7</td>\n",
       "      <td>0.002274</td>\n",
       "      <td>novel_object_1_7</td>\n",
       "    </tr>\n",
       "    <tr>\n",
       "      <th>24</th>\n",
       "      <td>novel_object_0_1_8</td>\n",
       "      <td>0.001075</td>\n",
       "      <td>novel_object_1_8</td>\n",
       "    </tr>\n",
       "    <tr>\n",
       "      <th>25</th>\n",
       "      <td>novel_object_1_1_8</td>\n",
       "      <td>0.001179</td>\n",
       "      <td>novel_object_1_8</td>\n",
       "    </tr>\n",
       "    <tr>\n",
       "      <th>26</th>\n",
       "      <td>novel_object_2_1_8</td>\n",
       "      <td>0.001291</td>\n",
       "      <td>novel_object_1_8</td>\n",
       "    </tr>\n",
       "    <tr>\n",
       "      <th>27</th>\n",
       "      <td>novel_object_3_1_8</td>\n",
       "      <td>0.004821</td>\n",
       "      <td>novel_object_1_8</td>\n",
       "    </tr>\n",
       "    <tr>\n",
       "      <th>28</th>\n",
       "      <td>novel_object_4_1_8</td>\n",
       "      <td>0.093866</td>\n",
       "      <td>novel_object_1_8</td>\n",
       "    </tr>\n",
       "    <tr>\n",
       "      <th>29</th>\n",
       "      <td>novel_object_5_1_8</td>\n",
       "      <td>0.001159</td>\n",
       "      <td>novel_object_1_8</td>\n",
       "    </tr>\n",
       "    <tr>\n",
       "      <th>30</th>\n",
       "      <td>novel_object_6_1_8</td>\n",
       "      <td>0.001151</td>\n",
       "      <td>novel_object_1_8</td>\n",
       "    </tr>\n",
       "    <tr>\n",
       "      <th>31</th>\n",
       "      <td>novel_object_7_1_8</td>\n",
       "      <td>0.002124</td>\n",
       "      <td>novel_object_1_8</td>\n",
       "    </tr>\n",
       "    <tr>\n",
       "      <th>32</th>\n",
       "      <td>novel_object_8_1_8</td>\n",
       "      <td>0.001905</td>\n",
       "      <td>novel_object_1_8</td>\n",
       "    </tr>\n",
       "    <tr>\n",
       "      <th>33</th>\n",
       "      <td>novel_object_9_1_8</td>\n",
       "      <td>0.001068</td>\n",
       "      <td>novel_object_1_8</td>\n",
       "    </tr>\n",
       "    <tr>\n",
       "      <th>34</th>\n",
       "      <td>novel_object_10_1_8</td>\n",
       "      <td>0.001168</td>\n",
       "      <td>novel_object_1_8</td>\n",
       "    </tr>\n",
       "    <tr>\n",
       "      <th>35</th>\n",
       "      <td>novel_object_11_1_8</td>\n",
       "      <td>0.001916</td>\n",
       "      <td>novel_object_1_8</td>\n",
       "    </tr>\n",
       "    <tr>\n",
       "      <th>36</th>\n",
       "      <td>novel_object_0_1_9</td>\n",
       "      <td>0.025082</td>\n",
       "      <td>novel_object_1_9</td>\n",
       "    </tr>\n",
       "    <tr>\n",
       "      <th>37</th>\n",
       "      <td>novel_object_0_1_10</td>\n",
       "      <td>0.001421</td>\n",
       "      <td>novel_object_1_10</td>\n",
       "    </tr>\n",
       "    <tr>\n",
       "      <th>38</th>\n",
       "      <td>novel_object_0_1_11</td>\n",
       "      <td>0.002117</td>\n",
       "      <td>novel_object_1_11</td>\n",
       "    </tr>\n",
       "    <tr>\n",
       "      <th>39</th>\n",
       "      <td>novel_object_1_1_11</td>\n",
       "      <td>0.002841</td>\n",
       "      <td>novel_object_1_11</td>\n",
       "    </tr>\n",
       "    <tr>\n",
       "      <th>40</th>\n",
       "      <td>novel_object_2_1_11</td>\n",
       "      <td>0.001113</td>\n",
       "      <td>novel_object_1_11</td>\n",
       "    </tr>\n",
       "    <tr>\n",
       "      <th>41</th>\n",
       "      <td>novel_object_3_1_11</td>\n",
       "      <td>0.007939</td>\n",
       "      <td>novel_object_1_11</td>\n",
       "    </tr>\n",
       "    <tr>\n",
       "      <th>42</th>\n",
       "      <td>novel_object_4_1_11</td>\n",
       "      <td>0.001082</td>\n",
       "      <td>novel_object_1_11</td>\n",
       "    </tr>\n",
       "    <tr>\n",
       "      <th>43</th>\n",
       "      <td>novel_object_5_1_11</td>\n",
       "      <td>0.001339</td>\n",
       "      <td>novel_object_1_11</td>\n",
       "    </tr>\n",
       "    <tr>\n",
       "      <th>44</th>\n",
       "      <td>novel_object_6_1_11</td>\n",
       "      <td>0.001457</td>\n",
       "      <td>novel_object_1_11</td>\n",
       "    </tr>\n",
       "    <tr>\n",
       "      <th>45</th>\n",
       "      <td>novel_object_8_1_11</td>\n",
       "      <td>0.001152</td>\n",
       "      <td>novel_object_1_11</td>\n",
       "    </tr>\n",
       "    <tr>\n",
       "      <th>46</th>\n",
       "      <td>novel_object_9_1_11</td>\n",
       "      <td>0.001094</td>\n",
       "      <td>novel_object_1_11</td>\n",
       "    </tr>\n",
       "    <tr>\n",
       "      <th>47</th>\n",
       "      <td>novel_object_10_1_11</td>\n",
       "      <td>0.001336</td>\n",
       "      <td>novel_object_1_11</td>\n",
       "    </tr>\n",
       "    <tr>\n",
       "      <th>48</th>\n",
       "      <td>novel_object_11_1_11</td>\n",
       "      <td>0.001600</td>\n",
       "      <td>novel_object_1_11</td>\n",
       "    </tr>\n",
       "    <tr>\n",
       "      <th>49</th>\n",
       "      <td>novel_object_7_1_11</td>\n",
       "      <td>0.001285</td>\n",
       "      <td>novel_object_1_11</td>\n",
       "    </tr>\n",
       "    <tr>\n",
       "      <th>50</th>\n",
       "      <td>novel_object_0_1_12</td>\n",
       "      <td>0.001792</td>\n",
       "      <td>novel_object_1_12</td>\n",
       "    </tr>\n",
       "    <tr>\n",
       "      <th>51</th>\n",
       "      <td>novel_object_0_1_13</td>\n",
       "      <td>0.001211</td>\n",
       "      <td>novel_object_1_13</td>\n",
       "    </tr>\n",
       "  </tbody>\n",
       "</table>\n",
       "</div>"
      ],
      "text/plain": [
       "             object_name  difficulty         novel_name\n",
       "0     novel_object_0_1_6    0.003786   novel_object_1_6\n",
       "1     novel_object_1_1_6    0.001760   novel_object_1_6\n",
       "2     novel_object_2_1_6    0.001079   novel_object_1_6\n",
       "3     novel_object_3_1_6    0.001065   novel_object_1_6\n",
       "4     novel_object_4_1_6    0.001659   novel_object_1_6\n",
       "5     novel_object_5_1_6    0.001152   novel_object_1_6\n",
       "6     novel_object_6_1_6    0.001066   novel_object_1_6\n",
       "7     novel_object_7_1_6    0.001183   novel_object_1_6\n",
       "8     novel_object_8_1_6    0.001202   novel_object_1_6\n",
       "9     novel_object_9_1_6    0.001040   novel_object_1_6\n",
       "10   novel_object_10_1_6    0.001134   novel_object_1_6\n",
       "11   novel_object_11_1_6    0.001400   novel_object_1_6\n",
       "12    novel_object_0_1_7    0.012690   novel_object_1_7\n",
       "13    novel_object_1_1_7    0.002529   novel_object_1_7\n",
       "14    novel_object_2_1_7    0.001064   novel_object_1_7\n",
       "15    novel_object_3_1_7    0.001176   novel_object_1_7\n",
       "16    novel_object_4_1_7    0.001178   novel_object_1_7\n",
       "17    novel_object_5_1_7    0.001106   novel_object_1_7\n",
       "18    novel_object_6_1_7    0.002800   novel_object_1_7\n",
       "19    novel_object_7_1_7    0.001304   novel_object_1_7\n",
       "20    novel_object_8_1_7    0.001443   novel_object_1_7\n",
       "21    novel_object_9_1_7    0.005591   novel_object_1_7\n",
       "22   novel_object_10_1_7    0.004100   novel_object_1_7\n",
       "23   novel_object_11_1_7    0.002274   novel_object_1_7\n",
       "24    novel_object_0_1_8    0.001075   novel_object_1_8\n",
       "25    novel_object_1_1_8    0.001179   novel_object_1_8\n",
       "26    novel_object_2_1_8    0.001291   novel_object_1_8\n",
       "27    novel_object_3_1_8    0.004821   novel_object_1_8\n",
       "28    novel_object_4_1_8    0.093866   novel_object_1_8\n",
       "29    novel_object_5_1_8    0.001159   novel_object_1_8\n",
       "30    novel_object_6_1_8    0.001151   novel_object_1_8\n",
       "31    novel_object_7_1_8    0.002124   novel_object_1_8\n",
       "32    novel_object_8_1_8    0.001905   novel_object_1_8\n",
       "33    novel_object_9_1_8    0.001068   novel_object_1_8\n",
       "34   novel_object_10_1_8    0.001168   novel_object_1_8\n",
       "35   novel_object_11_1_8    0.001916   novel_object_1_8\n",
       "36    novel_object_0_1_9    0.025082   novel_object_1_9\n",
       "37   novel_object_0_1_10    0.001421  novel_object_1_10\n",
       "38   novel_object_0_1_11    0.002117  novel_object_1_11\n",
       "39   novel_object_1_1_11    0.002841  novel_object_1_11\n",
       "40   novel_object_2_1_11    0.001113  novel_object_1_11\n",
       "41   novel_object_3_1_11    0.007939  novel_object_1_11\n",
       "42   novel_object_4_1_11    0.001082  novel_object_1_11\n",
       "43   novel_object_5_1_11    0.001339  novel_object_1_11\n",
       "44   novel_object_6_1_11    0.001457  novel_object_1_11\n",
       "45   novel_object_8_1_11    0.001152  novel_object_1_11\n",
       "46   novel_object_9_1_11    0.001094  novel_object_1_11\n",
       "47  novel_object_10_1_11    0.001336  novel_object_1_11\n",
       "48  novel_object_11_1_11    0.001600  novel_object_1_11\n",
       "49   novel_object_7_1_11    0.001285  novel_object_1_11\n",
       "50   novel_object_0_1_12    0.001792  novel_object_1_12\n",
       "51   novel_object_0_1_13    0.001211  novel_object_1_13"
      ]
     },
     "execution_count": 222,
     "metadata": {},
     "output_type": "execute_result"
    }
   ],
   "source": [
    "dm_df"
   ]
  },
  {
   "cell_type": "code",
   "execution_count": 229,
   "metadata": {},
   "outputs": [
    {
     "data": {
      "application/vnd.plotly.v1+json": {
       "config": {
        "plotlyServerURL": "https://plot.ly"
       },
       "data": [
        {
         "hovertemplate": "object_name=novel_object_0_1_6<br>difficulty=%{x}<br>novel_name=%{y}<extra></extra>",
         "legendgroup": "novel_object_0_1_6",
         "marker": {
          "color": "#636efa",
          "symbol": "circle"
         },
         "mode": "markers",
         "name": "novel_object_0_1_6",
         "orientation": "h",
         "showlegend": true,
         "type": "scatter",
         "x": [
          0.003786068602540598
         ],
         "xaxis": "x",
         "y": [
          "novel_object_1_6"
         ],
         "yaxis": "y"
        },
        {
         "hovertemplate": "object_name=novel_object_1_1_6<br>difficulty=%{x}<br>novel_name=%{y}<extra></extra>",
         "legendgroup": "novel_object_1_1_6",
         "marker": {
          "color": "#EF553B",
          "symbol": "circle"
         },
         "mode": "markers",
         "name": "novel_object_1_1_6",
         "orientation": "h",
         "showlegend": true,
         "type": "scatter",
         "x": [
          0.0017602287508625013
         ],
         "xaxis": "x",
         "y": [
          "novel_object_1_6"
         ],
         "yaxis": "y"
        },
        {
         "hovertemplate": "object_name=novel_object_2_1_6<br>difficulty=%{x}<br>novel_name=%{y}<extra></extra>",
         "legendgroup": "novel_object_2_1_6",
         "marker": {
          "color": "#00cc96",
          "symbol": "circle"
         },
         "mode": "markers",
         "name": "novel_object_2_1_6",
         "orientation": "h",
         "showlegend": true,
         "type": "scatter",
         "x": [
          0.0010785656210657744
         ],
         "xaxis": "x",
         "y": [
          "novel_object_1_6"
         ],
         "yaxis": "y"
        },
        {
         "hovertemplate": "object_name=novel_object_3_1_6<br>difficulty=%{x}<br>novel_name=%{y}<extra></extra>",
         "legendgroup": "novel_object_3_1_6",
         "marker": {
          "color": "#ab63fa",
          "symbol": "circle"
         },
         "mode": "markers",
         "name": "novel_object_3_1_6",
         "orientation": "h",
         "showlegend": true,
         "type": "scatter",
         "x": [
          0.0010646308079168517
         ],
         "xaxis": "x",
         "y": [
          "novel_object_1_6"
         ],
         "yaxis": "y"
        },
        {
         "hovertemplate": "object_name=novel_object_4_1_6<br>difficulty=%{x}<br>novel_name=%{y}<extra></extra>",
         "legendgroup": "novel_object_4_1_6",
         "marker": {
          "color": "#FFA15A",
          "symbol": "circle"
         },
         "mode": "markers",
         "name": "novel_object_4_1_6",
         "orientation": "h",
         "showlegend": true,
         "type": "scatter",
         "x": [
          0.0016593850030641646
         ],
         "xaxis": "x",
         "y": [
          "novel_object_1_6"
         ],
         "yaxis": "y"
        },
        {
         "hovertemplate": "object_name=novel_object_5_1_6<br>difficulty=%{x}<br>novel_name=%{y}<extra></extra>",
         "legendgroup": "novel_object_5_1_6",
         "marker": {
          "color": "#19d3f3",
          "symbol": "circle"
         },
         "mode": "markers",
         "name": "novel_object_5_1_6",
         "orientation": "h",
         "showlegend": true,
         "type": "scatter",
         "x": [
          0.0011523088283431477
         ],
         "xaxis": "x",
         "y": [
          "novel_object_1_6"
         ],
         "yaxis": "y"
        },
        {
         "hovertemplate": "object_name=novel_object_6_1_6<br>difficulty=%{x}<br>novel_name=%{y}<extra></extra>",
         "legendgroup": "novel_object_6_1_6",
         "marker": {
          "color": "#FF6692",
          "symbol": "circle"
         },
         "mode": "markers",
         "name": "novel_object_6_1_6",
         "orientation": "h",
         "showlegend": true,
         "type": "scatter",
         "x": [
          0.0010660490525897794
         ],
         "xaxis": "x",
         "y": [
          "novel_object_1_6"
         ],
         "yaxis": "y"
        },
        {
         "hovertemplate": "object_name=novel_object_7_1_6<br>difficulty=%{x}<br>novel_name=%{y}<extra></extra>",
         "legendgroup": "novel_object_7_1_6",
         "marker": {
          "color": "#B6E880",
          "symbol": "circle"
         },
         "mode": "markers",
         "name": "novel_object_7_1_6",
         "orientation": "h",
         "showlegend": true,
         "type": "scatter",
         "x": [
          0.0011831608584502882
         ],
         "xaxis": "x",
         "y": [
          "novel_object_1_6"
         ],
         "yaxis": "y"
        },
        {
         "hovertemplate": "object_name=novel_object_8_1_6<br>difficulty=%{x}<br>novel_name=%{y}<extra></extra>",
         "legendgroup": "novel_object_8_1_6",
         "marker": {
          "color": "#FF97FF",
          "symbol": "circle"
         },
         "mode": "markers",
         "name": "novel_object_8_1_6",
         "orientation": "h",
         "showlegend": true,
         "type": "scatter",
         "x": [
          0.0012024219325409004
         ],
         "xaxis": "x",
         "y": [
          "novel_object_1_6"
         ],
         "yaxis": "y"
        },
        {
         "hovertemplate": "object_name=novel_object_9_1_6<br>difficulty=%{x}<br>novel_name=%{y}<extra></extra>",
         "legendgroup": "novel_object_9_1_6",
         "marker": {
          "color": "#FECB52",
          "symbol": "circle"
         },
         "mode": "markers",
         "name": "novel_object_9_1_6",
         "orientation": "h",
         "showlegend": true,
         "type": "scatter",
         "x": [
          0.0010404429771253346
         ],
         "xaxis": "x",
         "y": [
          "novel_object_1_6"
         ],
         "yaxis": "y"
        },
        {
         "hovertemplate": "object_name=novel_object_10_1_6<br>difficulty=%{x}<br>novel_name=%{y}<extra></extra>",
         "legendgroup": "novel_object_10_1_6",
         "marker": {
          "color": "#636efa",
          "symbol": "circle"
         },
         "mode": "markers",
         "name": "novel_object_10_1_6",
         "orientation": "h",
         "showlegend": true,
         "type": "scatter",
         "x": [
          0.0011344715908427447
         ],
         "xaxis": "x",
         "y": [
          "novel_object_1_6"
         ],
         "yaxis": "y"
        },
        {
         "hovertemplate": "object_name=novel_object_11_1_6<br>difficulty=%{x}<br>novel_name=%{y}<extra></extra>",
         "legendgroup": "novel_object_11_1_6",
         "marker": {
          "color": "#EF553B",
          "symbol": "circle"
         },
         "mode": "markers",
         "name": "novel_object_11_1_6",
         "orientation": "h",
         "showlegend": true,
         "type": "scatter",
         "x": [
          0.0013999947988822567
         ],
         "xaxis": "x",
         "y": [
          "novel_object_1_6"
         ],
         "yaxis": "y"
        },
        {
         "hovertemplate": "object_name=novel_object_0_1_7<br>difficulty=%{x}<br>novel_name=%{y}<extra></extra>",
         "legendgroup": "novel_object_0_1_7",
         "marker": {
          "color": "#00cc96",
          "symbol": "circle"
         },
         "mode": "markers",
         "name": "novel_object_0_1_7",
         "orientation": "h",
         "showlegend": true,
         "type": "scatter",
         "x": [
          0.012689529869337142
         ],
         "xaxis": "x",
         "y": [
          "novel_object_1_7"
         ],
         "yaxis": "y"
        },
        {
         "hovertemplate": "object_name=novel_object_1_1_7<br>difficulty=%{x}<br>novel_name=%{y}<extra></extra>",
         "legendgroup": "novel_object_1_1_7",
         "marker": {
          "color": "#ab63fa",
          "symbol": "circle"
         },
         "mode": "markers",
         "name": "novel_object_1_1_7",
         "orientation": "h",
         "showlegend": true,
         "type": "scatter",
         "x": [
          0.0025289585587228392
         ],
         "xaxis": "x",
         "y": [
          "novel_object_1_7"
         ],
         "yaxis": "y"
        },
        {
         "hovertemplate": "object_name=novel_object_2_1_7<br>difficulty=%{x}<br>novel_name=%{y}<extra></extra>",
         "legendgroup": "novel_object_2_1_7",
         "marker": {
          "color": "#FFA15A",
          "symbol": "circle"
         },
         "mode": "markers",
         "name": "novel_object_2_1_7",
         "orientation": "h",
         "showlegend": true,
         "type": "scatter",
         "x": [
          0.0010640353719800274
         ],
         "xaxis": "x",
         "y": [
          "novel_object_1_7"
         ],
         "yaxis": "y"
        },
        {
         "hovertemplate": "object_name=novel_object_3_1_7<br>difficulty=%{x}<br>novel_name=%{y}<extra></extra>",
         "legendgroup": "novel_object_3_1_7",
         "marker": {
          "color": "#19d3f3",
          "symbol": "circle"
         },
         "mode": "markers",
         "name": "novel_object_3_1_7",
         "orientation": "h",
         "showlegend": true,
         "type": "scatter",
         "x": [
          0.0011758171092528433
         ],
         "xaxis": "x",
         "y": [
          "novel_object_1_7"
         ],
         "yaxis": "y"
        },
        {
         "hovertemplate": "object_name=novel_object_4_1_7<br>difficulty=%{x}<br>novel_name=%{y}<extra></extra>",
         "legendgroup": "novel_object_4_1_7",
         "marker": {
          "color": "#FF6692",
          "symbol": "circle"
         },
         "mode": "markers",
         "name": "novel_object_4_1_7",
         "orientation": "h",
         "showlegend": true,
         "type": "scatter",
         "x": [
          0.0011776863171597198
         ],
         "xaxis": "x",
         "y": [
          "novel_object_1_7"
         ],
         "yaxis": "y"
        },
        {
         "hovertemplate": "object_name=novel_object_5_1_7<br>difficulty=%{x}<br>novel_name=%{y}<extra></extra>",
         "legendgroup": "novel_object_5_1_7",
         "marker": {
          "color": "#B6E880",
          "symbol": "circle"
         },
         "mode": "markers",
         "name": "novel_object_5_1_7",
         "orientation": "h",
         "showlegend": true,
         "type": "scatter",
         "x": [
          0.0011059905902125935
         ],
         "xaxis": "x",
         "y": [
          "novel_object_1_7"
         ],
         "yaxis": "y"
        },
        {
         "hovertemplate": "object_name=novel_object_6_1_7<br>difficulty=%{x}<br>novel_name=%{y}<extra></extra>",
         "legendgroup": "novel_object_6_1_7",
         "marker": {
          "color": "#FF97FF",
          "symbol": "circle"
         },
         "mode": "markers",
         "name": "novel_object_6_1_7",
         "orientation": "h",
         "showlegend": true,
         "type": "scatter",
         "x": [
          0.0027996198134370084
         ],
         "xaxis": "x",
         "y": [
          "novel_object_1_7"
         ],
         "yaxis": "y"
        },
        {
         "hovertemplate": "object_name=novel_object_7_1_7<br>difficulty=%{x}<br>novel_name=%{y}<extra></extra>",
         "legendgroup": "novel_object_7_1_7",
         "marker": {
          "color": "#FECB52",
          "symbol": "circle"
         },
         "mode": "markers",
         "name": "novel_object_7_1_7",
         "orientation": "h",
         "showlegend": true,
         "type": "scatter",
         "x": [
          0.0013038860391052284
         ],
         "xaxis": "x",
         "y": [
          "novel_object_1_7"
         ],
         "yaxis": "y"
        },
        {
         "hovertemplate": "object_name=novel_object_8_1_7<br>difficulty=%{x}<br>novel_name=%{y}<extra></extra>",
         "legendgroup": "novel_object_8_1_7",
         "marker": {
          "color": "#636efa",
          "symbol": "circle"
         },
         "mode": "markers",
         "name": "novel_object_8_1_7",
         "orientation": "h",
         "showlegend": true,
         "type": "scatter",
         "x": [
          0.0014432663097333866
         ],
         "xaxis": "x",
         "y": [
          "novel_object_1_7"
         ],
         "yaxis": "y"
        },
        {
         "hovertemplate": "object_name=novel_object_9_1_7<br>difficulty=%{x}<br>novel_name=%{y}<extra></extra>",
         "legendgroup": "novel_object_9_1_7",
         "marker": {
          "color": "#EF553B",
          "symbol": "circle"
         },
         "mode": "markers",
         "name": "novel_object_9_1_7",
         "orientation": "h",
         "showlegend": true,
         "type": "scatter",
         "x": [
          0.005591246383510457
         ],
         "xaxis": "x",
         "y": [
          "novel_object_1_7"
         ],
         "yaxis": "y"
        },
        {
         "hovertemplate": "object_name=novel_object_10_1_7<br>difficulty=%{x}<br>novel_name=%{y}<extra></extra>",
         "legendgroup": "novel_object_10_1_7",
         "marker": {
          "color": "#00cc96",
          "symbol": "circle"
         },
         "mode": "markers",
         "name": "novel_object_10_1_7",
         "orientation": "h",
         "showlegend": true,
         "type": "scatter",
         "x": [
          0.004099688948860045
         ],
         "xaxis": "x",
         "y": [
          "novel_object_1_7"
         ],
         "yaxis": "y"
        },
        {
         "hovertemplate": "object_name=novel_object_11_1_7<br>difficulty=%{x}<br>novel_name=%{y}<extra></extra>",
         "legendgroup": "novel_object_11_1_7",
         "marker": {
          "color": "#ab63fa",
          "symbol": "circle"
         },
         "mode": "markers",
         "name": "novel_object_11_1_7",
         "orientation": "h",
         "showlegend": true,
         "type": "scatter",
         "x": [
          0.002273909698062973
         ],
         "xaxis": "x",
         "y": [
          "novel_object_1_7"
         ],
         "yaxis": "y"
        },
        {
         "hovertemplate": "object_name=novel_object_0_1_8<br>difficulty=%{x}<br>novel_name=%{y}<extra></extra>",
         "legendgroup": "novel_object_0_1_8",
         "marker": {
          "color": "#FFA15A",
          "symbol": "circle"
         },
         "mode": "markers",
         "name": "novel_object_0_1_8",
         "orientation": "h",
         "showlegend": true,
         "type": "scatter",
         "x": [
          0.0010749597719496256
         ],
         "xaxis": "x",
         "y": [
          "novel_object_1_8"
         ],
         "yaxis": "y"
        },
        {
         "hovertemplate": "object_name=novel_object_1_1_8<br>difficulty=%{x}<br>novel_name=%{y}<extra></extra>",
         "legendgroup": "novel_object_1_1_8",
         "marker": {
          "color": "#19d3f3",
          "symbol": "circle"
         },
         "mode": "markers",
         "name": "novel_object_1_1_8",
         "orientation": "h",
         "showlegend": true,
         "type": "scatter",
         "x": [
          0.0011785330616574446
         ],
         "xaxis": "x",
         "y": [
          "novel_object_1_8"
         ],
         "yaxis": "y"
        },
        {
         "hovertemplate": "object_name=novel_object_2_1_8<br>difficulty=%{x}<br>novel_name=%{y}<extra></extra>",
         "legendgroup": "novel_object_2_1_8",
         "marker": {
          "color": "#FF6692",
          "symbol": "circle"
         },
         "mode": "markers",
         "name": "novel_object_2_1_8",
         "orientation": "h",
         "showlegend": true,
         "type": "scatter",
         "x": [
          0.001291227345625467
         ],
         "xaxis": "x",
         "y": [
          "novel_object_1_8"
         ],
         "yaxis": "y"
        },
        {
         "hovertemplate": "object_name=novel_object_3_1_8<br>difficulty=%{x}<br>novel_name=%{y}<extra></extra>",
         "legendgroup": "novel_object_3_1_8",
         "marker": {
          "color": "#B6E880",
          "symbol": "circle"
         },
         "mode": "markers",
         "name": "novel_object_3_1_8",
         "orientation": "h",
         "showlegend": true,
         "type": "scatter",
         "x": [
          0.004820962241525377
         ],
         "xaxis": "x",
         "y": [
          "novel_object_1_8"
         ],
         "yaxis": "y"
        },
        {
         "hovertemplate": "object_name=novel_object_4_1_8<br>difficulty=%{x}<br>novel_name=%{y}<extra></extra>",
         "legendgroup": "novel_object_4_1_8",
         "marker": {
          "color": "#FF97FF",
          "symbol": "circle"
         },
         "mode": "markers",
         "name": "novel_object_4_1_8",
         "orientation": "h",
         "showlegend": true,
         "type": "scatter",
         "x": [
          0.09386616064074878
         ],
         "xaxis": "x",
         "y": [
          "novel_object_1_8"
         ],
         "yaxis": "y"
        },
        {
         "hovertemplate": "object_name=novel_object_5_1_8<br>difficulty=%{x}<br>novel_name=%{y}<extra></extra>",
         "legendgroup": "novel_object_5_1_8",
         "marker": {
          "color": "#FECB52",
          "symbol": "circle"
         },
         "mode": "markers",
         "name": "novel_object_5_1_8",
         "orientation": "h",
         "showlegend": true,
         "type": "scatter",
         "x": [
          0.0011585592014368602
         ],
         "xaxis": "x",
         "y": [
          "novel_object_1_8"
         ],
         "yaxis": "y"
        },
        {
         "hovertemplate": "object_name=novel_object_6_1_8<br>difficulty=%{x}<br>novel_name=%{y}<extra></extra>",
         "legendgroup": "novel_object_6_1_8",
         "marker": {
          "color": "#636efa",
          "symbol": "circle"
         },
         "mode": "markers",
         "name": "novel_object_6_1_8",
         "orientation": "h",
         "showlegend": true,
         "type": "scatter",
         "x": [
          0.0011512866497641605
         ],
         "xaxis": "x",
         "y": [
          "novel_object_1_8"
         ],
         "yaxis": "y"
        },
        {
         "hovertemplate": "object_name=novel_object_7_1_8<br>difficulty=%{x}<br>novel_name=%{y}<extra></extra>",
         "legendgroup": "novel_object_7_1_8",
         "marker": {
          "color": "#EF553B",
          "symbol": "circle"
         },
         "mode": "markers",
         "name": "novel_object_7_1_8",
         "orientation": "h",
         "showlegend": true,
         "type": "scatter",
         "x": [
          0.0021239022332280254
         ],
         "xaxis": "x",
         "y": [
          "novel_object_1_8"
         ],
         "yaxis": "y"
        },
        {
         "hovertemplate": "object_name=novel_object_8_1_8<br>difficulty=%{x}<br>novel_name=%{y}<extra></extra>",
         "legendgroup": "novel_object_8_1_8",
         "marker": {
          "color": "#00cc96",
          "symbol": "circle"
         },
         "mode": "markers",
         "name": "novel_object_8_1_8",
         "orientation": "h",
         "showlegend": true,
         "type": "scatter",
         "x": [
          0.0019051045095372864
         ],
         "xaxis": "x",
         "y": [
          "novel_object_1_8"
         ],
         "yaxis": "y"
        },
        {
         "hovertemplate": "object_name=novel_object_9_1_8<br>difficulty=%{x}<br>novel_name=%{y}<extra></extra>",
         "legendgroup": "novel_object_9_1_8",
         "marker": {
          "color": "#ab63fa",
          "symbol": "circle"
         },
         "mode": "markers",
         "name": "novel_object_9_1_8",
         "orientation": "h",
         "showlegend": true,
         "type": "scatter",
         "x": [
          0.0010681404839542196
         ],
         "xaxis": "x",
         "y": [
          "novel_object_1_8"
         ],
         "yaxis": "y"
        },
        {
         "hovertemplate": "object_name=novel_object_10_1_8<br>difficulty=%{x}<br>novel_name=%{y}<extra></extra>",
         "legendgroup": "novel_object_10_1_8",
         "marker": {
          "color": "#FFA15A",
          "symbol": "circle"
         },
         "mode": "markers",
         "name": "novel_object_10_1_8",
         "orientation": "h",
         "showlegend": true,
         "type": "scatter",
         "x": [
          0.0011684814855721756
         ],
         "xaxis": "x",
         "y": [
          "novel_object_1_8"
         ],
         "yaxis": "y"
        },
        {
         "hovertemplate": "object_name=novel_object_11_1_8<br>difficulty=%{x}<br>novel_name=%{y}<extra></extra>",
         "legendgroup": "novel_object_11_1_8",
         "marker": {
          "color": "#19d3f3",
          "symbol": "circle"
         },
         "mode": "markers",
         "name": "novel_object_11_1_8",
         "orientation": "h",
         "showlegend": true,
         "type": "scatter",
         "x": [
          0.0019159036693930415
         ],
         "xaxis": "x",
         "y": [
          "novel_object_1_8"
         ],
         "yaxis": "y"
        },
        {
         "hovertemplate": "object_name=novel_object_0_1_9<br>difficulty=%{x}<br>novel_name=%{y}<extra></extra>",
         "legendgroup": "novel_object_0_1_9",
         "marker": {
          "color": "#FF6692",
          "symbol": "circle"
         },
         "mode": "markers",
         "name": "novel_object_0_1_9",
         "orientation": "h",
         "showlegend": true,
         "type": "scatter",
         "x": [
          0.025082335664893568
         ],
         "xaxis": "x",
         "y": [
          "novel_object_1_9"
         ],
         "yaxis": "y"
        },
        {
         "hovertemplate": "object_name=novel_object_0_1_10<br>difficulty=%{x}<br>novel_name=%{y}<extra></extra>",
         "legendgroup": "novel_object_0_1_10",
         "marker": {
          "color": "#B6E880",
          "symbol": "circle"
         },
         "mode": "markers",
         "name": "novel_object_0_1_10",
         "orientation": "h",
         "showlegend": true,
         "type": "scatter",
         "x": [
          0.0014211912969938297
         ],
         "xaxis": "x",
         "y": [
          "novel_object_1_10"
         ],
         "yaxis": "y"
        },
        {
         "hovertemplate": "object_name=novel_object_0_1_11<br>difficulty=%{x}<br>novel_name=%{y}<extra></extra>",
         "legendgroup": "novel_object_0_1_11",
         "marker": {
          "color": "#FF97FF",
          "symbol": "circle"
         },
         "mode": "markers",
         "name": "novel_object_0_1_11",
         "orientation": "h",
         "showlegend": true,
         "type": "scatter",
         "x": [
          0.002116761479102229
         ],
         "xaxis": "x",
         "y": [
          "novel_object_1_11"
         ],
         "yaxis": "y"
        },
        {
         "hovertemplate": "object_name=novel_object_1_1_11<br>difficulty=%{x}<br>novel_name=%{y}<extra></extra>",
         "legendgroup": "novel_object_1_1_11",
         "marker": {
          "color": "#FECB52",
          "symbol": "circle"
         },
         "mode": "markers",
         "name": "novel_object_1_1_11",
         "orientation": "h",
         "showlegend": true,
         "type": "scatter",
         "x": [
          0.002840892464781795
         ],
         "xaxis": "x",
         "y": [
          "novel_object_1_11"
         ],
         "yaxis": "y"
        },
        {
         "hovertemplate": "object_name=novel_object_2_1_11<br>difficulty=%{x}<br>novel_name=%{y}<extra></extra>",
         "legendgroup": "novel_object_2_1_11",
         "marker": {
          "color": "#636efa",
          "symbol": "circle"
         },
         "mode": "markers",
         "name": "novel_object_2_1_11",
         "orientation": "h",
         "showlegend": true,
         "type": "scatter",
         "x": [
          0.0011133179907655915
         ],
         "xaxis": "x",
         "y": [
          "novel_object_1_11"
         ],
         "yaxis": "y"
        },
        {
         "hovertemplate": "object_name=novel_object_3_1_11<br>difficulty=%{x}<br>novel_name=%{y}<extra></extra>",
         "legendgroup": "novel_object_3_1_11",
         "marker": {
          "color": "#EF553B",
          "symbol": "circle"
         },
         "mode": "markers",
         "name": "novel_object_3_1_11",
         "orientation": "h",
         "showlegend": true,
         "type": "scatter",
         "x": [
          0.007938849442232714
         ],
         "xaxis": "x",
         "y": [
          "novel_object_1_11"
         ],
         "yaxis": "y"
        },
        {
         "hovertemplate": "object_name=novel_object_4_1_11<br>difficulty=%{x}<br>novel_name=%{y}<extra></extra>",
         "legendgroup": "novel_object_4_1_11",
         "marker": {
          "color": "#00cc96",
          "symbol": "circle"
         },
         "mode": "markers",
         "name": "novel_object_4_1_11",
         "orientation": "h",
         "showlegend": true,
         "type": "scatter",
         "x": [
          0.0010816201811446166
         ],
         "xaxis": "x",
         "y": [
          "novel_object_1_11"
         ],
         "yaxis": "y"
        },
        {
         "hovertemplate": "object_name=novel_object_5_1_11<br>difficulty=%{x}<br>novel_name=%{y}<extra></extra>",
         "legendgroup": "novel_object_5_1_11",
         "marker": {
          "color": "#ab63fa",
          "symbol": "circle"
         },
         "mode": "markers",
         "name": "novel_object_5_1_11",
         "orientation": "h",
         "showlegend": true,
         "type": "scatter",
         "x": [
          0.001338519154213867
         ],
         "xaxis": "x",
         "y": [
          "novel_object_1_11"
         ],
         "yaxis": "y"
        },
        {
         "hovertemplate": "object_name=novel_object_6_1_11<br>difficulty=%{x}<br>novel_name=%{y}<extra></extra>",
         "legendgroup": "novel_object_6_1_11",
         "marker": {
          "color": "#FFA15A",
          "symbol": "circle"
         },
         "mode": "markers",
         "name": "novel_object_6_1_11",
         "orientation": "h",
         "showlegend": true,
         "type": "scatter",
         "x": [
          0.0014565353294716873
         ],
         "xaxis": "x",
         "y": [
          "novel_object_1_11"
         ],
         "yaxis": "y"
        },
        {
         "hovertemplate": "object_name=novel_object_8_1_11<br>difficulty=%{x}<br>novel_name=%{y}<extra></extra>",
         "legendgroup": "novel_object_8_1_11",
         "marker": {
          "color": "#19d3f3",
          "symbol": "circle"
         },
         "mode": "markers",
         "name": "novel_object_8_1_11",
         "orientation": "h",
         "showlegend": true,
         "type": "scatter",
         "x": [
          0.001151666100904507
         ],
         "xaxis": "x",
         "y": [
          "novel_object_1_11"
         ],
         "yaxis": "y"
        },
        {
         "hovertemplate": "object_name=novel_object_9_1_11<br>difficulty=%{x}<br>novel_name=%{y}<extra></extra>",
         "legendgroup": "novel_object_9_1_11",
         "marker": {
          "color": "#FF6692",
          "symbol": "circle"
         },
         "mode": "markers",
         "name": "novel_object_9_1_11",
         "orientation": "h",
         "showlegend": true,
         "type": "scatter",
         "x": [
          0.0010942906568607949
         ],
         "xaxis": "x",
         "y": [
          "novel_object_1_11"
         ],
         "yaxis": "y"
        },
        {
         "hovertemplate": "object_name=novel_object_10_1_11<br>difficulty=%{x}<br>novel_name=%{y}<extra></extra>",
         "legendgroup": "novel_object_10_1_11",
         "marker": {
          "color": "#B6E880",
          "symbol": "circle"
         },
         "mode": "markers",
         "name": "novel_object_10_1_11",
         "orientation": "h",
         "showlegend": true,
         "type": "scatter",
         "x": [
          0.0013363134325325046
         ],
         "xaxis": "x",
         "y": [
          "novel_object_1_11"
         ],
         "yaxis": "y"
        },
        {
         "hovertemplate": "object_name=novel_object_11_1_11<br>difficulty=%{x}<br>novel_name=%{y}<extra></extra>",
         "legendgroup": "novel_object_11_1_11",
         "marker": {
          "color": "#FF97FF",
          "symbol": "circle"
         },
         "mode": "markers",
         "name": "novel_object_11_1_11",
         "orientation": "h",
         "showlegend": true,
         "type": "scatter",
         "x": [
          0.0016002328414967337
         ],
         "xaxis": "x",
         "y": [
          "novel_object_1_11"
         ],
         "yaxis": "y"
        },
        {
         "hovertemplate": "object_name=novel_object_7_1_11<br>difficulty=%{x}<br>novel_name=%{y}<extra></extra>",
         "legendgroup": "novel_object_7_1_11",
         "marker": {
          "color": "#FECB52",
          "symbol": "circle"
         },
         "mode": "markers",
         "name": "novel_object_7_1_11",
         "orientation": "h",
         "showlegend": true,
         "type": "scatter",
         "x": [
          0.00128459648929928
         ],
         "xaxis": "x",
         "y": [
          "novel_object_1_11"
         ],
         "yaxis": "y"
        },
        {
         "hovertemplate": "object_name=novel_object_0_1_12<br>difficulty=%{x}<br>novel_name=%{y}<extra></extra>",
         "legendgroup": "novel_object_0_1_12",
         "marker": {
          "color": "#636efa",
          "symbol": "circle"
         },
         "mode": "markers",
         "name": "novel_object_0_1_12",
         "orientation": "h",
         "showlegend": true,
         "type": "scatter",
         "x": [
          0.0017915055026022164
         ],
         "xaxis": "x",
         "y": [
          "novel_object_1_12"
         ],
         "yaxis": "y"
        },
        {
         "hovertemplate": "object_name=novel_object_0_1_13<br>difficulty=%{x}<br>novel_name=%{y}<extra></extra>",
         "legendgroup": "novel_object_0_1_13",
         "marker": {
          "color": "#EF553B",
          "symbol": "circle"
         },
         "mode": "markers",
         "name": "novel_object_0_1_13",
         "orientation": "h",
         "showlegend": true,
         "type": "scatter",
         "x": [
          0.0012108051729946285
         ],
         "xaxis": "x",
         "y": [
          "novel_object_1_13"
         ],
         "yaxis": "y"
        }
       ],
       "layout": {
        "legend": {
         "title": {
          "text": "object_name"
         },
         "tracegroupgap": 0
        },
        "template": {
         "data": {
          "bar": [
           {
            "error_x": {
             "color": "#2a3f5f"
            },
            "error_y": {
             "color": "#2a3f5f"
            },
            "marker": {
             "line": {
              "color": "#E5ECF6",
              "width": 0.5
             }
            },
            "type": "bar"
           }
          ],
          "barpolar": [
           {
            "marker": {
             "line": {
              "color": "#E5ECF6",
              "width": 0.5
             }
            },
            "type": "barpolar"
           }
          ],
          "carpet": [
           {
            "aaxis": {
             "endlinecolor": "#2a3f5f",
             "gridcolor": "white",
             "linecolor": "white",
             "minorgridcolor": "white",
             "startlinecolor": "#2a3f5f"
            },
            "baxis": {
             "endlinecolor": "#2a3f5f",
             "gridcolor": "white",
             "linecolor": "white",
             "minorgridcolor": "white",
             "startlinecolor": "#2a3f5f"
            },
            "type": "carpet"
           }
          ],
          "choropleth": [
           {
            "colorbar": {
             "outlinewidth": 0,
             "ticks": ""
            },
            "type": "choropleth"
           }
          ],
          "contour": [
           {
            "colorbar": {
             "outlinewidth": 0,
             "ticks": ""
            },
            "colorscale": [
             [
              0,
              "#0d0887"
             ],
             [
              0.1111111111111111,
              "#46039f"
             ],
             [
              0.2222222222222222,
              "#7201a8"
             ],
             [
              0.3333333333333333,
              "#9c179e"
             ],
             [
              0.4444444444444444,
              "#bd3786"
             ],
             [
              0.5555555555555556,
              "#d8576b"
             ],
             [
              0.6666666666666666,
              "#ed7953"
             ],
             [
              0.7777777777777778,
              "#fb9f3a"
             ],
             [
              0.8888888888888888,
              "#fdca26"
             ],
             [
              1,
              "#f0f921"
             ]
            ],
            "type": "contour"
           }
          ],
          "contourcarpet": [
           {
            "colorbar": {
             "outlinewidth": 0,
             "ticks": ""
            },
            "type": "contourcarpet"
           }
          ],
          "heatmap": [
           {
            "colorbar": {
             "outlinewidth": 0,
             "ticks": ""
            },
            "colorscale": [
             [
              0,
              "#0d0887"
             ],
             [
              0.1111111111111111,
              "#46039f"
             ],
             [
              0.2222222222222222,
              "#7201a8"
             ],
             [
              0.3333333333333333,
              "#9c179e"
             ],
             [
              0.4444444444444444,
              "#bd3786"
             ],
             [
              0.5555555555555556,
              "#d8576b"
             ],
             [
              0.6666666666666666,
              "#ed7953"
             ],
             [
              0.7777777777777778,
              "#fb9f3a"
             ],
             [
              0.8888888888888888,
              "#fdca26"
             ],
             [
              1,
              "#f0f921"
             ]
            ],
            "type": "heatmap"
           }
          ],
          "heatmapgl": [
           {
            "colorbar": {
             "outlinewidth": 0,
             "ticks": ""
            },
            "colorscale": [
             [
              0,
              "#0d0887"
             ],
             [
              0.1111111111111111,
              "#46039f"
             ],
             [
              0.2222222222222222,
              "#7201a8"
             ],
             [
              0.3333333333333333,
              "#9c179e"
             ],
             [
              0.4444444444444444,
              "#bd3786"
             ],
             [
              0.5555555555555556,
              "#d8576b"
             ],
             [
              0.6666666666666666,
              "#ed7953"
             ],
             [
              0.7777777777777778,
              "#fb9f3a"
             ],
             [
              0.8888888888888888,
              "#fdca26"
             ],
             [
              1,
              "#f0f921"
             ]
            ],
            "type": "heatmapgl"
           }
          ],
          "histogram": [
           {
            "marker": {
             "colorbar": {
              "outlinewidth": 0,
              "ticks": ""
             }
            },
            "type": "histogram"
           }
          ],
          "histogram2d": [
           {
            "colorbar": {
             "outlinewidth": 0,
             "ticks": ""
            },
            "colorscale": [
             [
              0,
              "#0d0887"
             ],
             [
              0.1111111111111111,
              "#46039f"
             ],
             [
              0.2222222222222222,
              "#7201a8"
             ],
             [
              0.3333333333333333,
              "#9c179e"
             ],
             [
              0.4444444444444444,
              "#bd3786"
             ],
             [
              0.5555555555555556,
              "#d8576b"
             ],
             [
              0.6666666666666666,
              "#ed7953"
             ],
             [
              0.7777777777777778,
              "#fb9f3a"
             ],
             [
              0.8888888888888888,
              "#fdca26"
             ],
             [
              1,
              "#f0f921"
             ]
            ],
            "type": "histogram2d"
           }
          ],
          "histogram2dcontour": [
           {
            "colorbar": {
             "outlinewidth": 0,
             "ticks": ""
            },
            "colorscale": [
             [
              0,
              "#0d0887"
             ],
             [
              0.1111111111111111,
              "#46039f"
             ],
             [
              0.2222222222222222,
              "#7201a8"
             ],
             [
              0.3333333333333333,
              "#9c179e"
             ],
             [
              0.4444444444444444,
              "#bd3786"
             ],
             [
              0.5555555555555556,
              "#d8576b"
             ],
             [
              0.6666666666666666,
              "#ed7953"
             ],
             [
              0.7777777777777778,
              "#fb9f3a"
             ],
             [
              0.8888888888888888,
              "#fdca26"
             ],
             [
              1,
              "#f0f921"
             ]
            ],
            "type": "histogram2dcontour"
           }
          ],
          "mesh3d": [
           {
            "colorbar": {
             "outlinewidth": 0,
             "ticks": ""
            },
            "type": "mesh3d"
           }
          ],
          "parcoords": [
           {
            "line": {
             "colorbar": {
              "outlinewidth": 0,
              "ticks": ""
             }
            },
            "type": "parcoords"
           }
          ],
          "pie": [
           {
            "automargin": true,
            "type": "pie"
           }
          ],
          "scatter": [
           {
            "marker": {
             "colorbar": {
              "outlinewidth": 0,
              "ticks": ""
             }
            },
            "type": "scatter"
           }
          ],
          "scatter3d": [
           {
            "line": {
             "colorbar": {
              "outlinewidth": 0,
              "ticks": ""
             }
            },
            "marker": {
             "colorbar": {
              "outlinewidth": 0,
              "ticks": ""
             }
            },
            "type": "scatter3d"
           }
          ],
          "scattercarpet": [
           {
            "marker": {
             "colorbar": {
              "outlinewidth": 0,
              "ticks": ""
             }
            },
            "type": "scattercarpet"
           }
          ],
          "scattergeo": [
           {
            "marker": {
             "colorbar": {
              "outlinewidth": 0,
              "ticks": ""
             }
            },
            "type": "scattergeo"
           }
          ],
          "scattergl": [
           {
            "marker": {
             "colorbar": {
              "outlinewidth": 0,
              "ticks": ""
             }
            },
            "type": "scattergl"
           }
          ],
          "scattermapbox": [
           {
            "marker": {
             "colorbar": {
              "outlinewidth": 0,
              "ticks": ""
             }
            },
            "type": "scattermapbox"
           }
          ],
          "scatterpolar": [
           {
            "marker": {
             "colorbar": {
              "outlinewidth": 0,
              "ticks": ""
             }
            },
            "type": "scatterpolar"
           }
          ],
          "scatterpolargl": [
           {
            "marker": {
             "colorbar": {
              "outlinewidth": 0,
              "ticks": ""
             }
            },
            "type": "scatterpolargl"
           }
          ],
          "scatterternary": [
           {
            "marker": {
             "colorbar": {
              "outlinewidth": 0,
              "ticks": ""
             }
            },
            "type": "scatterternary"
           }
          ],
          "surface": [
           {
            "colorbar": {
             "outlinewidth": 0,
             "ticks": ""
            },
            "colorscale": [
             [
              0,
              "#0d0887"
             ],
             [
              0.1111111111111111,
              "#46039f"
             ],
             [
              0.2222222222222222,
              "#7201a8"
             ],
             [
              0.3333333333333333,
              "#9c179e"
             ],
             [
              0.4444444444444444,
              "#bd3786"
             ],
             [
              0.5555555555555556,
              "#d8576b"
             ],
             [
              0.6666666666666666,
              "#ed7953"
             ],
             [
              0.7777777777777778,
              "#fb9f3a"
             ],
             [
              0.8888888888888888,
              "#fdca26"
             ],
             [
              1,
              "#f0f921"
             ]
            ],
            "type": "surface"
           }
          ],
          "table": [
           {
            "cells": {
             "fill": {
              "color": "#EBF0F8"
             },
             "line": {
              "color": "white"
             }
            },
            "header": {
             "fill": {
              "color": "#C8D4E3"
             },
             "line": {
              "color": "white"
             }
            },
            "type": "table"
           }
          ]
         },
         "layout": {
          "annotationdefaults": {
           "arrowcolor": "#2a3f5f",
           "arrowhead": 0,
           "arrowwidth": 1
          },
          "coloraxis": {
           "colorbar": {
            "outlinewidth": 0,
            "ticks": ""
           }
          },
          "colorscale": {
           "diverging": [
            [
             0,
             "#8e0152"
            ],
            [
             0.1,
             "#c51b7d"
            ],
            [
             0.2,
             "#de77ae"
            ],
            [
             0.3,
             "#f1b6da"
            ],
            [
             0.4,
             "#fde0ef"
            ],
            [
             0.5,
             "#f7f7f7"
            ],
            [
             0.6,
             "#e6f5d0"
            ],
            [
             0.7,
             "#b8e186"
            ],
            [
             0.8,
             "#7fbc41"
            ],
            [
             0.9,
             "#4d9221"
            ],
            [
             1,
             "#276419"
            ]
           ],
           "sequential": [
            [
             0,
             "#0d0887"
            ],
            [
             0.1111111111111111,
             "#46039f"
            ],
            [
             0.2222222222222222,
             "#7201a8"
            ],
            [
             0.3333333333333333,
             "#9c179e"
            ],
            [
             0.4444444444444444,
             "#bd3786"
            ],
            [
             0.5555555555555556,
             "#d8576b"
            ],
            [
             0.6666666666666666,
             "#ed7953"
            ],
            [
             0.7777777777777778,
             "#fb9f3a"
            ],
            [
             0.8888888888888888,
             "#fdca26"
            ],
            [
             1,
             "#f0f921"
            ]
           ],
           "sequentialminus": [
            [
             0,
             "#0d0887"
            ],
            [
             0.1111111111111111,
             "#46039f"
            ],
            [
             0.2222222222222222,
             "#7201a8"
            ],
            [
             0.3333333333333333,
             "#9c179e"
            ],
            [
             0.4444444444444444,
             "#bd3786"
            ],
            [
             0.5555555555555556,
             "#d8576b"
            ],
            [
             0.6666666666666666,
             "#ed7953"
            ],
            [
             0.7777777777777778,
             "#fb9f3a"
            ],
            [
             0.8888888888888888,
             "#fdca26"
            ],
            [
             1,
             "#f0f921"
            ]
           ]
          },
          "colorway": [
           "#636efa",
           "#EF553B",
           "#00cc96",
           "#ab63fa",
           "#FFA15A",
           "#19d3f3",
           "#FF6692",
           "#B6E880",
           "#FF97FF",
           "#FECB52"
          ],
          "font": {
           "color": "#2a3f5f"
          },
          "geo": {
           "bgcolor": "white",
           "lakecolor": "white",
           "landcolor": "#E5ECF6",
           "showlakes": true,
           "showland": true,
           "subunitcolor": "white"
          },
          "hoverlabel": {
           "align": "left"
          },
          "hovermode": "closest",
          "mapbox": {
           "style": "light"
          },
          "paper_bgcolor": "white",
          "plot_bgcolor": "#E5ECF6",
          "polar": {
           "angularaxis": {
            "gridcolor": "white",
            "linecolor": "white",
            "ticks": ""
           },
           "bgcolor": "#E5ECF6",
           "radialaxis": {
            "gridcolor": "white",
            "linecolor": "white",
            "ticks": ""
           }
          },
          "scene": {
           "xaxis": {
            "backgroundcolor": "#E5ECF6",
            "gridcolor": "white",
            "gridwidth": 2,
            "linecolor": "white",
            "showbackground": true,
            "ticks": "",
            "zerolinecolor": "white"
           },
           "yaxis": {
            "backgroundcolor": "#E5ECF6",
            "gridcolor": "white",
            "gridwidth": 2,
            "linecolor": "white",
            "showbackground": true,
            "ticks": "",
            "zerolinecolor": "white"
           },
           "zaxis": {
            "backgroundcolor": "#E5ECF6",
            "gridcolor": "white",
            "gridwidth": 2,
            "linecolor": "white",
            "showbackground": true,
            "ticks": "",
            "zerolinecolor": "white"
           }
          },
          "shapedefaults": {
           "line": {
            "color": "#2a3f5f"
           }
          },
          "ternary": {
           "aaxis": {
            "gridcolor": "white",
            "linecolor": "white",
            "ticks": ""
           },
           "baxis": {
            "gridcolor": "white",
            "linecolor": "white",
            "ticks": ""
           },
           "bgcolor": "#E5ECF6",
           "caxis": {
            "gridcolor": "white",
            "linecolor": "white",
            "ticks": ""
           }
          },
          "title": {
           "x": 0.05
          },
          "xaxis": {
           "automargin": true,
           "gridcolor": "white",
           "linecolor": "white",
           "ticks": "",
           "title": {
            "standoff": 15
           },
           "zerolinecolor": "white",
           "zerolinewidth": 2
          },
          "yaxis": {
           "automargin": true,
           "gridcolor": "white",
           "linecolor": "white",
           "ticks": "",
           "title": {
            "standoff": 15
           },
           "zerolinecolor": "white",
           "zerolinewidth": 2
          }
         }
        },
        "title": {
         "text": "Difficulty Measure for Colour"
        },
        "xaxis": {
         "anchor": "y",
         "domain": [
          0,
          1
         ],
         "title": {
          "text": "difficulty"
         }
        },
        "yaxis": {
         "anchor": "x",
         "domain": [
          0,
          1
         ],
         "title": {
          "text": "novel_name"
         }
        }
       }
      },
      "text/html": [
       "<div>\n",
       "        \n",
       "        \n",
       "            <div id=\"6e28dd9a-ba75-4245-b4dc-3a2b1f191c74\" class=\"plotly-graph-div\" style=\"height:525px; width:100%;\"></div>\n",
       "            <script type=\"text/javascript\">\n",
       "                require([\"plotly\"], function(Plotly) {\n",
       "                    window.PLOTLYENV=window.PLOTLYENV || {};\n",
       "                    \n",
       "                if (document.getElementById(\"6e28dd9a-ba75-4245-b4dc-3a2b1f191c74\")) {\n",
       "                    Plotly.newPlot(\n",
       "                        '6e28dd9a-ba75-4245-b4dc-3a2b1f191c74',\n",
       "                        [{\"hovertemplate\": \"object_name=novel_object_0_1_6<br>difficulty=%{x}<br>novel_name=%{y}<extra></extra>\", \"legendgroup\": \"novel_object_0_1_6\", \"marker\": {\"color\": \"#636efa\", \"symbol\": \"circle\"}, \"mode\": \"markers\", \"name\": \"novel_object_0_1_6\", \"orientation\": \"h\", \"showlegend\": true, \"type\": \"scatter\", \"x\": [0.003786068602540598], \"xaxis\": \"x\", \"y\": [\"novel_object_1_6\"], \"yaxis\": \"y\"}, {\"hovertemplate\": \"object_name=novel_object_1_1_6<br>difficulty=%{x}<br>novel_name=%{y}<extra></extra>\", \"legendgroup\": \"novel_object_1_1_6\", \"marker\": {\"color\": \"#EF553B\", \"symbol\": \"circle\"}, \"mode\": \"markers\", \"name\": \"novel_object_1_1_6\", \"orientation\": \"h\", \"showlegend\": true, \"type\": \"scatter\", \"x\": [0.0017602287508625013], \"xaxis\": \"x\", \"y\": [\"novel_object_1_6\"], \"yaxis\": \"y\"}, {\"hovertemplate\": \"object_name=novel_object_2_1_6<br>difficulty=%{x}<br>novel_name=%{y}<extra></extra>\", \"legendgroup\": \"novel_object_2_1_6\", \"marker\": {\"color\": \"#00cc96\", \"symbol\": \"circle\"}, \"mode\": \"markers\", \"name\": \"novel_object_2_1_6\", \"orientation\": \"h\", \"showlegend\": true, \"type\": \"scatter\", \"x\": [0.0010785656210657744], \"xaxis\": \"x\", \"y\": [\"novel_object_1_6\"], \"yaxis\": \"y\"}, {\"hovertemplate\": \"object_name=novel_object_3_1_6<br>difficulty=%{x}<br>novel_name=%{y}<extra></extra>\", \"legendgroup\": \"novel_object_3_1_6\", \"marker\": {\"color\": \"#ab63fa\", \"symbol\": \"circle\"}, \"mode\": \"markers\", \"name\": \"novel_object_3_1_6\", \"orientation\": \"h\", \"showlegend\": true, \"type\": \"scatter\", \"x\": [0.0010646308079168517], \"xaxis\": \"x\", \"y\": [\"novel_object_1_6\"], \"yaxis\": \"y\"}, {\"hovertemplate\": \"object_name=novel_object_4_1_6<br>difficulty=%{x}<br>novel_name=%{y}<extra></extra>\", \"legendgroup\": \"novel_object_4_1_6\", \"marker\": {\"color\": \"#FFA15A\", \"symbol\": \"circle\"}, \"mode\": \"markers\", \"name\": \"novel_object_4_1_6\", \"orientation\": \"h\", \"showlegend\": true, \"type\": \"scatter\", \"x\": [0.0016593850030641646], \"xaxis\": \"x\", \"y\": [\"novel_object_1_6\"], \"yaxis\": \"y\"}, {\"hovertemplate\": \"object_name=novel_object_5_1_6<br>difficulty=%{x}<br>novel_name=%{y}<extra></extra>\", \"legendgroup\": \"novel_object_5_1_6\", \"marker\": {\"color\": \"#19d3f3\", \"symbol\": \"circle\"}, \"mode\": \"markers\", \"name\": \"novel_object_5_1_6\", \"orientation\": \"h\", \"showlegend\": true, \"type\": \"scatter\", \"x\": [0.0011523088283431477], \"xaxis\": \"x\", \"y\": [\"novel_object_1_6\"], \"yaxis\": \"y\"}, {\"hovertemplate\": \"object_name=novel_object_6_1_6<br>difficulty=%{x}<br>novel_name=%{y}<extra></extra>\", \"legendgroup\": \"novel_object_6_1_6\", \"marker\": {\"color\": \"#FF6692\", \"symbol\": \"circle\"}, \"mode\": \"markers\", \"name\": \"novel_object_6_1_6\", \"orientation\": \"h\", \"showlegend\": true, \"type\": \"scatter\", \"x\": [0.0010660490525897794], \"xaxis\": \"x\", \"y\": [\"novel_object_1_6\"], \"yaxis\": \"y\"}, {\"hovertemplate\": \"object_name=novel_object_7_1_6<br>difficulty=%{x}<br>novel_name=%{y}<extra></extra>\", \"legendgroup\": \"novel_object_7_1_6\", \"marker\": {\"color\": \"#B6E880\", \"symbol\": \"circle\"}, \"mode\": \"markers\", \"name\": \"novel_object_7_1_6\", \"orientation\": \"h\", \"showlegend\": true, \"type\": \"scatter\", \"x\": [0.0011831608584502882], \"xaxis\": \"x\", \"y\": [\"novel_object_1_6\"], \"yaxis\": \"y\"}, {\"hovertemplate\": \"object_name=novel_object_8_1_6<br>difficulty=%{x}<br>novel_name=%{y}<extra></extra>\", \"legendgroup\": \"novel_object_8_1_6\", \"marker\": {\"color\": \"#FF97FF\", \"symbol\": \"circle\"}, \"mode\": \"markers\", \"name\": \"novel_object_8_1_6\", \"orientation\": \"h\", \"showlegend\": true, \"type\": \"scatter\", \"x\": [0.0012024219325409004], \"xaxis\": \"x\", \"y\": [\"novel_object_1_6\"], \"yaxis\": \"y\"}, {\"hovertemplate\": \"object_name=novel_object_9_1_6<br>difficulty=%{x}<br>novel_name=%{y}<extra></extra>\", \"legendgroup\": \"novel_object_9_1_6\", \"marker\": {\"color\": \"#FECB52\", \"symbol\": \"circle\"}, \"mode\": \"markers\", \"name\": \"novel_object_9_1_6\", \"orientation\": \"h\", \"showlegend\": true, \"type\": \"scatter\", \"x\": [0.0010404429771253346], \"xaxis\": \"x\", \"y\": [\"novel_object_1_6\"], \"yaxis\": \"y\"}, {\"hovertemplate\": \"object_name=novel_object_10_1_6<br>difficulty=%{x}<br>novel_name=%{y}<extra></extra>\", \"legendgroup\": \"novel_object_10_1_6\", \"marker\": {\"color\": \"#636efa\", \"symbol\": \"circle\"}, \"mode\": \"markers\", \"name\": \"novel_object_10_1_6\", \"orientation\": \"h\", \"showlegend\": true, \"type\": \"scatter\", \"x\": [0.0011344715908427447], \"xaxis\": \"x\", \"y\": [\"novel_object_1_6\"], \"yaxis\": \"y\"}, {\"hovertemplate\": \"object_name=novel_object_11_1_6<br>difficulty=%{x}<br>novel_name=%{y}<extra></extra>\", \"legendgroup\": \"novel_object_11_1_6\", \"marker\": {\"color\": \"#EF553B\", \"symbol\": \"circle\"}, \"mode\": \"markers\", \"name\": \"novel_object_11_1_6\", \"orientation\": \"h\", \"showlegend\": true, \"type\": \"scatter\", \"x\": [0.0013999947988822567], \"xaxis\": \"x\", \"y\": [\"novel_object_1_6\"], \"yaxis\": \"y\"}, {\"hovertemplate\": \"object_name=novel_object_0_1_7<br>difficulty=%{x}<br>novel_name=%{y}<extra></extra>\", \"legendgroup\": \"novel_object_0_1_7\", \"marker\": {\"color\": \"#00cc96\", \"symbol\": \"circle\"}, \"mode\": \"markers\", \"name\": \"novel_object_0_1_7\", \"orientation\": \"h\", \"showlegend\": true, \"type\": \"scatter\", \"x\": [0.012689529869337142], \"xaxis\": \"x\", \"y\": [\"novel_object_1_7\"], \"yaxis\": \"y\"}, {\"hovertemplate\": \"object_name=novel_object_1_1_7<br>difficulty=%{x}<br>novel_name=%{y}<extra></extra>\", \"legendgroup\": \"novel_object_1_1_7\", \"marker\": {\"color\": \"#ab63fa\", \"symbol\": \"circle\"}, \"mode\": \"markers\", \"name\": \"novel_object_1_1_7\", \"orientation\": \"h\", \"showlegend\": true, \"type\": \"scatter\", \"x\": [0.0025289585587228392], \"xaxis\": \"x\", \"y\": [\"novel_object_1_7\"], \"yaxis\": \"y\"}, {\"hovertemplate\": \"object_name=novel_object_2_1_7<br>difficulty=%{x}<br>novel_name=%{y}<extra></extra>\", \"legendgroup\": \"novel_object_2_1_7\", \"marker\": {\"color\": \"#FFA15A\", \"symbol\": \"circle\"}, \"mode\": \"markers\", \"name\": \"novel_object_2_1_7\", \"orientation\": \"h\", \"showlegend\": true, \"type\": \"scatter\", \"x\": [0.0010640353719800274], \"xaxis\": \"x\", \"y\": [\"novel_object_1_7\"], \"yaxis\": \"y\"}, {\"hovertemplate\": \"object_name=novel_object_3_1_7<br>difficulty=%{x}<br>novel_name=%{y}<extra></extra>\", \"legendgroup\": \"novel_object_3_1_7\", \"marker\": {\"color\": \"#19d3f3\", \"symbol\": \"circle\"}, \"mode\": \"markers\", \"name\": \"novel_object_3_1_7\", \"orientation\": \"h\", \"showlegend\": true, \"type\": \"scatter\", \"x\": [0.0011758171092528433], \"xaxis\": \"x\", \"y\": [\"novel_object_1_7\"], \"yaxis\": \"y\"}, {\"hovertemplate\": \"object_name=novel_object_4_1_7<br>difficulty=%{x}<br>novel_name=%{y}<extra></extra>\", \"legendgroup\": \"novel_object_4_1_7\", \"marker\": {\"color\": \"#FF6692\", \"symbol\": \"circle\"}, \"mode\": \"markers\", \"name\": \"novel_object_4_1_7\", \"orientation\": \"h\", \"showlegend\": true, \"type\": \"scatter\", \"x\": [0.0011776863171597198], \"xaxis\": \"x\", \"y\": [\"novel_object_1_7\"], \"yaxis\": \"y\"}, {\"hovertemplate\": \"object_name=novel_object_5_1_7<br>difficulty=%{x}<br>novel_name=%{y}<extra></extra>\", \"legendgroup\": \"novel_object_5_1_7\", \"marker\": {\"color\": \"#B6E880\", \"symbol\": \"circle\"}, \"mode\": \"markers\", \"name\": \"novel_object_5_1_7\", \"orientation\": \"h\", \"showlegend\": true, \"type\": \"scatter\", \"x\": [0.0011059905902125935], \"xaxis\": \"x\", \"y\": [\"novel_object_1_7\"], \"yaxis\": \"y\"}, {\"hovertemplate\": \"object_name=novel_object_6_1_7<br>difficulty=%{x}<br>novel_name=%{y}<extra></extra>\", \"legendgroup\": \"novel_object_6_1_7\", \"marker\": {\"color\": \"#FF97FF\", \"symbol\": \"circle\"}, \"mode\": \"markers\", \"name\": \"novel_object_6_1_7\", \"orientation\": \"h\", \"showlegend\": true, \"type\": \"scatter\", \"x\": [0.0027996198134370084], \"xaxis\": \"x\", \"y\": [\"novel_object_1_7\"], \"yaxis\": \"y\"}, {\"hovertemplate\": \"object_name=novel_object_7_1_7<br>difficulty=%{x}<br>novel_name=%{y}<extra></extra>\", \"legendgroup\": \"novel_object_7_1_7\", \"marker\": {\"color\": \"#FECB52\", \"symbol\": \"circle\"}, \"mode\": \"markers\", \"name\": \"novel_object_7_1_7\", \"orientation\": \"h\", \"showlegend\": true, \"type\": \"scatter\", \"x\": [0.0013038860391052284], \"xaxis\": \"x\", \"y\": [\"novel_object_1_7\"], \"yaxis\": \"y\"}, {\"hovertemplate\": \"object_name=novel_object_8_1_7<br>difficulty=%{x}<br>novel_name=%{y}<extra></extra>\", \"legendgroup\": \"novel_object_8_1_7\", \"marker\": {\"color\": \"#636efa\", \"symbol\": \"circle\"}, \"mode\": \"markers\", \"name\": \"novel_object_8_1_7\", \"orientation\": \"h\", \"showlegend\": true, \"type\": \"scatter\", \"x\": [0.0014432663097333866], \"xaxis\": \"x\", \"y\": [\"novel_object_1_7\"], \"yaxis\": \"y\"}, {\"hovertemplate\": \"object_name=novel_object_9_1_7<br>difficulty=%{x}<br>novel_name=%{y}<extra></extra>\", \"legendgroup\": \"novel_object_9_1_7\", \"marker\": {\"color\": \"#EF553B\", \"symbol\": \"circle\"}, \"mode\": \"markers\", \"name\": \"novel_object_9_1_7\", \"orientation\": \"h\", \"showlegend\": true, \"type\": \"scatter\", \"x\": [0.005591246383510457], \"xaxis\": \"x\", \"y\": [\"novel_object_1_7\"], \"yaxis\": \"y\"}, {\"hovertemplate\": \"object_name=novel_object_10_1_7<br>difficulty=%{x}<br>novel_name=%{y}<extra></extra>\", \"legendgroup\": \"novel_object_10_1_7\", \"marker\": {\"color\": \"#00cc96\", \"symbol\": \"circle\"}, \"mode\": \"markers\", \"name\": \"novel_object_10_1_7\", \"orientation\": \"h\", \"showlegend\": true, \"type\": \"scatter\", \"x\": [0.004099688948860045], \"xaxis\": \"x\", \"y\": [\"novel_object_1_7\"], \"yaxis\": \"y\"}, {\"hovertemplate\": \"object_name=novel_object_11_1_7<br>difficulty=%{x}<br>novel_name=%{y}<extra></extra>\", \"legendgroup\": \"novel_object_11_1_7\", \"marker\": {\"color\": \"#ab63fa\", \"symbol\": \"circle\"}, \"mode\": \"markers\", \"name\": \"novel_object_11_1_7\", \"orientation\": \"h\", \"showlegend\": true, \"type\": \"scatter\", \"x\": [0.002273909698062973], \"xaxis\": \"x\", \"y\": [\"novel_object_1_7\"], \"yaxis\": \"y\"}, {\"hovertemplate\": \"object_name=novel_object_0_1_8<br>difficulty=%{x}<br>novel_name=%{y}<extra></extra>\", \"legendgroup\": \"novel_object_0_1_8\", \"marker\": {\"color\": \"#FFA15A\", \"symbol\": \"circle\"}, \"mode\": \"markers\", \"name\": \"novel_object_0_1_8\", \"orientation\": \"h\", \"showlegend\": true, \"type\": \"scatter\", \"x\": [0.0010749597719496256], \"xaxis\": \"x\", \"y\": [\"novel_object_1_8\"], \"yaxis\": \"y\"}, {\"hovertemplate\": \"object_name=novel_object_1_1_8<br>difficulty=%{x}<br>novel_name=%{y}<extra></extra>\", \"legendgroup\": \"novel_object_1_1_8\", \"marker\": {\"color\": \"#19d3f3\", \"symbol\": \"circle\"}, \"mode\": \"markers\", \"name\": \"novel_object_1_1_8\", \"orientation\": \"h\", \"showlegend\": true, \"type\": \"scatter\", \"x\": [0.0011785330616574446], \"xaxis\": \"x\", \"y\": [\"novel_object_1_8\"], \"yaxis\": \"y\"}, {\"hovertemplate\": \"object_name=novel_object_2_1_8<br>difficulty=%{x}<br>novel_name=%{y}<extra></extra>\", \"legendgroup\": \"novel_object_2_1_8\", \"marker\": {\"color\": \"#FF6692\", \"symbol\": \"circle\"}, \"mode\": \"markers\", \"name\": \"novel_object_2_1_8\", \"orientation\": \"h\", \"showlegend\": true, \"type\": \"scatter\", \"x\": [0.001291227345625467], \"xaxis\": \"x\", \"y\": [\"novel_object_1_8\"], \"yaxis\": \"y\"}, {\"hovertemplate\": \"object_name=novel_object_3_1_8<br>difficulty=%{x}<br>novel_name=%{y}<extra></extra>\", \"legendgroup\": \"novel_object_3_1_8\", \"marker\": {\"color\": \"#B6E880\", \"symbol\": \"circle\"}, \"mode\": \"markers\", \"name\": \"novel_object_3_1_8\", \"orientation\": \"h\", \"showlegend\": true, \"type\": \"scatter\", \"x\": [0.004820962241525377], \"xaxis\": \"x\", \"y\": [\"novel_object_1_8\"], \"yaxis\": \"y\"}, {\"hovertemplate\": \"object_name=novel_object_4_1_8<br>difficulty=%{x}<br>novel_name=%{y}<extra></extra>\", \"legendgroup\": \"novel_object_4_1_8\", \"marker\": {\"color\": \"#FF97FF\", \"symbol\": \"circle\"}, \"mode\": \"markers\", \"name\": \"novel_object_4_1_8\", \"orientation\": \"h\", \"showlegend\": true, \"type\": \"scatter\", \"x\": [0.09386616064074878], \"xaxis\": \"x\", \"y\": [\"novel_object_1_8\"], \"yaxis\": \"y\"}, {\"hovertemplate\": \"object_name=novel_object_5_1_8<br>difficulty=%{x}<br>novel_name=%{y}<extra></extra>\", \"legendgroup\": \"novel_object_5_1_8\", \"marker\": {\"color\": \"#FECB52\", \"symbol\": \"circle\"}, \"mode\": \"markers\", \"name\": \"novel_object_5_1_8\", \"orientation\": \"h\", \"showlegend\": true, \"type\": \"scatter\", \"x\": [0.0011585592014368602], \"xaxis\": \"x\", \"y\": [\"novel_object_1_8\"], \"yaxis\": \"y\"}, {\"hovertemplate\": \"object_name=novel_object_6_1_8<br>difficulty=%{x}<br>novel_name=%{y}<extra></extra>\", \"legendgroup\": \"novel_object_6_1_8\", \"marker\": {\"color\": \"#636efa\", \"symbol\": \"circle\"}, \"mode\": \"markers\", \"name\": \"novel_object_6_1_8\", \"orientation\": \"h\", \"showlegend\": true, \"type\": \"scatter\", \"x\": [0.0011512866497641605], \"xaxis\": \"x\", \"y\": [\"novel_object_1_8\"], \"yaxis\": \"y\"}, {\"hovertemplate\": \"object_name=novel_object_7_1_8<br>difficulty=%{x}<br>novel_name=%{y}<extra></extra>\", \"legendgroup\": \"novel_object_7_1_8\", \"marker\": {\"color\": \"#EF553B\", \"symbol\": \"circle\"}, \"mode\": \"markers\", \"name\": \"novel_object_7_1_8\", \"orientation\": \"h\", \"showlegend\": true, \"type\": \"scatter\", \"x\": [0.0021239022332280254], \"xaxis\": \"x\", \"y\": [\"novel_object_1_8\"], \"yaxis\": \"y\"}, {\"hovertemplate\": \"object_name=novel_object_8_1_8<br>difficulty=%{x}<br>novel_name=%{y}<extra></extra>\", \"legendgroup\": \"novel_object_8_1_8\", \"marker\": {\"color\": \"#00cc96\", \"symbol\": \"circle\"}, \"mode\": \"markers\", \"name\": \"novel_object_8_1_8\", \"orientation\": \"h\", \"showlegend\": true, \"type\": \"scatter\", \"x\": [0.0019051045095372864], \"xaxis\": \"x\", \"y\": [\"novel_object_1_8\"], \"yaxis\": \"y\"}, {\"hovertemplate\": \"object_name=novel_object_9_1_8<br>difficulty=%{x}<br>novel_name=%{y}<extra></extra>\", \"legendgroup\": \"novel_object_9_1_8\", \"marker\": {\"color\": \"#ab63fa\", \"symbol\": \"circle\"}, \"mode\": \"markers\", \"name\": \"novel_object_9_1_8\", \"orientation\": \"h\", \"showlegend\": true, \"type\": \"scatter\", \"x\": [0.0010681404839542196], \"xaxis\": \"x\", \"y\": [\"novel_object_1_8\"], \"yaxis\": \"y\"}, {\"hovertemplate\": \"object_name=novel_object_10_1_8<br>difficulty=%{x}<br>novel_name=%{y}<extra></extra>\", \"legendgroup\": \"novel_object_10_1_8\", \"marker\": {\"color\": \"#FFA15A\", \"symbol\": \"circle\"}, \"mode\": \"markers\", \"name\": \"novel_object_10_1_8\", \"orientation\": \"h\", \"showlegend\": true, \"type\": \"scatter\", \"x\": [0.0011684814855721756], \"xaxis\": \"x\", \"y\": [\"novel_object_1_8\"], \"yaxis\": \"y\"}, {\"hovertemplate\": \"object_name=novel_object_11_1_8<br>difficulty=%{x}<br>novel_name=%{y}<extra></extra>\", \"legendgroup\": \"novel_object_11_1_8\", \"marker\": {\"color\": \"#19d3f3\", \"symbol\": \"circle\"}, \"mode\": \"markers\", \"name\": \"novel_object_11_1_8\", \"orientation\": \"h\", \"showlegend\": true, \"type\": \"scatter\", \"x\": [0.0019159036693930415], \"xaxis\": \"x\", \"y\": [\"novel_object_1_8\"], \"yaxis\": \"y\"}, {\"hovertemplate\": \"object_name=novel_object_0_1_9<br>difficulty=%{x}<br>novel_name=%{y}<extra></extra>\", \"legendgroup\": \"novel_object_0_1_9\", \"marker\": {\"color\": \"#FF6692\", \"symbol\": \"circle\"}, \"mode\": \"markers\", \"name\": \"novel_object_0_1_9\", \"orientation\": \"h\", \"showlegend\": true, \"type\": \"scatter\", \"x\": [0.025082335664893568], \"xaxis\": \"x\", \"y\": [\"novel_object_1_9\"], \"yaxis\": \"y\"}, {\"hovertemplate\": \"object_name=novel_object_0_1_10<br>difficulty=%{x}<br>novel_name=%{y}<extra></extra>\", \"legendgroup\": \"novel_object_0_1_10\", \"marker\": {\"color\": \"#B6E880\", \"symbol\": \"circle\"}, \"mode\": \"markers\", \"name\": \"novel_object_0_1_10\", \"orientation\": \"h\", \"showlegend\": true, \"type\": \"scatter\", \"x\": [0.0014211912969938297], \"xaxis\": \"x\", \"y\": [\"novel_object_1_10\"], \"yaxis\": \"y\"}, {\"hovertemplate\": \"object_name=novel_object_0_1_11<br>difficulty=%{x}<br>novel_name=%{y}<extra></extra>\", \"legendgroup\": \"novel_object_0_1_11\", \"marker\": {\"color\": \"#FF97FF\", \"symbol\": \"circle\"}, \"mode\": \"markers\", \"name\": \"novel_object_0_1_11\", \"orientation\": \"h\", \"showlegend\": true, \"type\": \"scatter\", \"x\": [0.002116761479102229], \"xaxis\": \"x\", \"y\": [\"novel_object_1_11\"], \"yaxis\": \"y\"}, {\"hovertemplate\": \"object_name=novel_object_1_1_11<br>difficulty=%{x}<br>novel_name=%{y}<extra></extra>\", \"legendgroup\": \"novel_object_1_1_11\", \"marker\": {\"color\": \"#FECB52\", \"symbol\": \"circle\"}, \"mode\": \"markers\", \"name\": \"novel_object_1_1_11\", \"orientation\": \"h\", \"showlegend\": true, \"type\": \"scatter\", \"x\": [0.002840892464781795], \"xaxis\": \"x\", \"y\": [\"novel_object_1_11\"], \"yaxis\": \"y\"}, {\"hovertemplate\": \"object_name=novel_object_2_1_11<br>difficulty=%{x}<br>novel_name=%{y}<extra></extra>\", \"legendgroup\": \"novel_object_2_1_11\", \"marker\": {\"color\": \"#636efa\", \"symbol\": \"circle\"}, \"mode\": \"markers\", \"name\": \"novel_object_2_1_11\", \"orientation\": \"h\", \"showlegend\": true, \"type\": \"scatter\", \"x\": [0.0011133179907655915], \"xaxis\": \"x\", \"y\": [\"novel_object_1_11\"], \"yaxis\": \"y\"}, {\"hovertemplate\": \"object_name=novel_object_3_1_11<br>difficulty=%{x}<br>novel_name=%{y}<extra></extra>\", \"legendgroup\": \"novel_object_3_1_11\", \"marker\": {\"color\": \"#EF553B\", \"symbol\": \"circle\"}, \"mode\": \"markers\", \"name\": \"novel_object_3_1_11\", \"orientation\": \"h\", \"showlegend\": true, \"type\": \"scatter\", \"x\": [0.007938849442232714], \"xaxis\": \"x\", \"y\": [\"novel_object_1_11\"], \"yaxis\": \"y\"}, {\"hovertemplate\": \"object_name=novel_object_4_1_11<br>difficulty=%{x}<br>novel_name=%{y}<extra></extra>\", \"legendgroup\": \"novel_object_4_1_11\", \"marker\": {\"color\": \"#00cc96\", \"symbol\": \"circle\"}, \"mode\": \"markers\", \"name\": \"novel_object_4_1_11\", \"orientation\": \"h\", \"showlegend\": true, \"type\": \"scatter\", \"x\": [0.0010816201811446166], \"xaxis\": \"x\", \"y\": [\"novel_object_1_11\"], \"yaxis\": \"y\"}, {\"hovertemplate\": \"object_name=novel_object_5_1_11<br>difficulty=%{x}<br>novel_name=%{y}<extra></extra>\", \"legendgroup\": \"novel_object_5_1_11\", \"marker\": {\"color\": \"#ab63fa\", \"symbol\": \"circle\"}, \"mode\": \"markers\", \"name\": \"novel_object_5_1_11\", \"orientation\": \"h\", \"showlegend\": true, \"type\": \"scatter\", \"x\": [0.001338519154213867], \"xaxis\": \"x\", \"y\": [\"novel_object_1_11\"], \"yaxis\": \"y\"}, {\"hovertemplate\": \"object_name=novel_object_6_1_11<br>difficulty=%{x}<br>novel_name=%{y}<extra></extra>\", \"legendgroup\": \"novel_object_6_1_11\", \"marker\": {\"color\": \"#FFA15A\", \"symbol\": \"circle\"}, \"mode\": \"markers\", \"name\": \"novel_object_6_1_11\", \"orientation\": \"h\", \"showlegend\": true, \"type\": \"scatter\", \"x\": [0.0014565353294716873], \"xaxis\": \"x\", \"y\": [\"novel_object_1_11\"], \"yaxis\": \"y\"}, {\"hovertemplate\": \"object_name=novel_object_8_1_11<br>difficulty=%{x}<br>novel_name=%{y}<extra></extra>\", \"legendgroup\": \"novel_object_8_1_11\", \"marker\": {\"color\": \"#19d3f3\", \"symbol\": \"circle\"}, \"mode\": \"markers\", \"name\": \"novel_object_8_1_11\", \"orientation\": \"h\", \"showlegend\": true, \"type\": \"scatter\", \"x\": [0.001151666100904507], \"xaxis\": \"x\", \"y\": [\"novel_object_1_11\"], \"yaxis\": \"y\"}, {\"hovertemplate\": \"object_name=novel_object_9_1_11<br>difficulty=%{x}<br>novel_name=%{y}<extra></extra>\", \"legendgroup\": \"novel_object_9_1_11\", \"marker\": {\"color\": \"#FF6692\", \"symbol\": \"circle\"}, \"mode\": \"markers\", \"name\": \"novel_object_9_1_11\", \"orientation\": \"h\", \"showlegend\": true, \"type\": \"scatter\", \"x\": [0.0010942906568607949], \"xaxis\": \"x\", \"y\": [\"novel_object_1_11\"], \"yaxis\": \"y\"}, {\"hovertemplate\": \"object_name=novel_object_10_1_11<br>difficulty=%{x}<br>novel_name=%{y}<extra></extra>\", \"legendgroup\": \"novel_object_10_1_11\", \"marker\": {\"color\": \"#B6E880\", \"symbol\": \"circle\"}, \"mode\": \"markers\", \"name\": \"novel_object_10_1_11\", \"orientation\": \"h\", \"showlegend\": true, \"type\": \"scatter\", \"x\": [0.0013363134325325046], \"xaxis\": \"x\", \"y\": [\"novel_object_1_11\"], \"yaxis\": \"y\"}, {\"hovertemplate\": \"object_name=novel_object_11_1_11<br>difficulty=%{x}<br>novel_name=%{y}<extra></extra>\", \"legendgroup\": \"novel_object_11_1_11\", \"marker\": {\"color\": \"#FF97FF\", \"symbol\": \"circle\"}, \"mode\": \"markers\", \"name\": \"novel_object_11_1_11\", \"orientation\": \"h\", \"showlegend\": true, \"type\": \"scatter\", \"x\": [0.0016002328414967337], \"xaxis\": \"x\", \"y\": [\"novel_object_1_11\"], \"yaxis\": \"y\"}, {\"hovertemplate\": \"object_name=novel_object_7_1_11<br>difficulty=%{x}<br>novel_name=%{y}<extra></extra>\", \"legendgroup\": \"novel_object_7_1_11\", \"marker\": {\"color\": \"#FECB52\", \"symbol\": \"circle\"}, \"mode\": \"markers\", \"name\": \"novel_object_7_1_11\", \"orientation\": \"h\", \"showlegend\": true, \"type\": \"scatter\", \"x\": [0.00128459648929928], \"xaxis\": \"x\", \"y\": [\"novel_object_1_11\"], \"yaxis\": \"y\"}, {\"hovertemplate\": \"object_name=novel_object_0_1_12<br>difficulty=%{x}<br>novel_name=%{y}<extra></extra>\", \"legendgroup\": \"novel_object_0_1_12\", \"marker\": {\"color\": \"#636efa\", \"symbol\": \"circle\"}, \"mode\": \"markers\", \"name\": \"novel_object_0_1_12\", \"orientation\": \"h\", \"showlegend\": true, \"type\": \"scatter\", \"x\": [0.0017915055026022164], \"xaxis\": \"x\", \"y\": [\"novel_object_1_12\"], \"yaxis\": \"y\"}, {\"hovertemplate\": \"object_name=novel_object_0_1_13<br>difficulty=%{x}<br>novel_name=%{y}<extra></extra>\", \"legendgroup\": \"novel_object_0_1_13\", \"marker\": {\"color\": \"#EF553B\", \"symbol\": \"circle\"}, \"mode\": \"markers\", \"name\": \"novel_object_0_1_13\", \"orientation\": \"h\", \"showlegend\": true, \"type\": \"scatter\", \"x\": [0.0012108051729946285], \"xaxis\": \"x\", \"y\": [\"novel_object_1_13\"], \"yaxis\": \"y\"}],\n",
       "                        {\"legend\": {\"title\": {\"text\": \"object_name\"}, \"tracegroupgap\": 0}, \"template\": {\"data\": {\"bar\": [{\"error_x\": {\"color\": \"#2a3f5f\"}, \"error_y\": {\"color\": \"#2a3f5f\"}, \"marker\": {\"line\": {\"color\": \"#E5ECF6\", \"width\": 0.5}}, \"type\": \"bar\"}], \"barpolar\": [{\"marker\": {\"line\": {\"color\": \"#E5ECF6\", \"width\": 0.5}}, \"type\": \"barpolar\"}], \"carpet\": [{\"aaxis\": {\"endlinecolor\": \"#2a3f5f\", \"gridcolor\": \"white\", \"linecolor\": \"white\", \"minorgridcolor\": \"white\", \"startlinecolor\": \"#2a3f5f\"}, \"baxis\": {\"endlinecolor\": \"#2a3f5f\", \"gridcolor\": \"white\", \"linecolor\": \"white\", \"minorgridcolor\": \"white\", \"startlinecolor\": \"#2a3f5f\"}, \"type\": \"carpet\"}], \"choropleth\": [{\"colorbar\": {\"outlinewidth\": 0, \"ticks\": \"\"}, \"type\": \"choropleth\"}], \"contour\": [{\"colorbar\": {\"outlinewidth\": 0, \"ticks\": \"\"}, \"colorscale\": [[0.0, \"#0d0887\"], [0.1111111111111111, \"#46039f\"], [0.2222222222222222, \"#7201a8\"], [0.3333333333333333, \"#9c179e\"], [0.4444444444444444, \"#bd3786\"], [0.5555555555555556, \"#d8576b\"], [0.6666666666666666, \"#ed7953\"], [0.7777777777777778, \"#fb9f3a\"], [0.8888888888888888, \"#fdca26\"], [1.0, \"#f0f921\"]], \"type\": \"contour\"}], \"contourcarpet\": [{\"colorbar\": {\"outlinewidth\": 0, \"ticks\": \"\"}, \"type\": \"contourcarpet\"}], \"heatmap\": [{\"colorbar\": {\"outlinewidth\": 0, \"ticks\": \"\"}, \"colorscale\": [[0.0, \"#0d0887\"], [0.1111111111111111, \"#46039f\"], [0.2222222222222222, \"#7201a8\"], [0.3333333333333333, \"#9c179e\"], [0.4444444444444444, \"#bd3786\"], [0.5555555555555556, \"#d8576b\"], [0.6666666666666666, \"#ed7953\"], [0.7777777777777778, \"#fb9f3a\"], [0.8888888888888888, \"#fdca26\"], [1.0, \"#f0f921\"]], \"type\": \"heatmap\"}], \"heatmapgl\": [{\"colorbar\": {\"outlinewidth\": 0, \"ticks\": \"\"}, \"colorscale\": [[0.0, \"#0d0887\"], [0.1111111111111111, \"#46039f\"], [0.2222222222222222, \"#7201a8\"], [0.3333333333333333, \"#9c179e\"], [0.4444444444444444, \"#bd3786\"], [0.5555555555555556, \"#d8576b\"], [0.6666666666666666, \"#ed7953\"], [0.7777777777777778, \"#fb9f3a\"], [0.8888888888888888, \"#fdca26\"], [1.0, \"#f0f921\"]], \"type\": \"heatmapgl\"}], \"histogram\": [{\"marker\": {\"colorbar\": {\"outlinewidth\": 0, \"ticks\": \"\"}}, \"type\": \"histogram\"}], \"histogram2d\": [{\"colorbar\": {\"outlinewidth\": 0, \"ticks\": \"\"}, \"colorscale\": [[0.0, \"#0d0887\"], [0.1111111111111111, \"#46039f\"], [0.2222222222222222, \"#7201a8\"], [0.3333333333333333, \"#9c179e\"], [0.4444444444444444, \"#bd3786\"], [0.5555555555555556, \"#d8576b\"], [0.6666666666666666, \"#ed7953\"], [0.7777777777777778, \"#fb9f3a\"], [0.8888888888888888, \"#fdca26\"], [1.0, \"#f0f921\"]], \"type\": \"histogram2d\"}], \"histogram2dcontour\": [{\"colorbar\": {\"outlinewidth\": 0, \"ticks\": \"\"}, \"colorscale\": [[0.0, \"#0d0887\"], [0.1111111111111111, \"#46039f\"], [0.2222222222222222, \"#7201a8\"], [0.3333333333333333, \"#9c179e\"], [0.4444444444444444, \"#bd3786\"], [0.5555555555555556, \"#d8576b\"], [0.6666666666666666, \"#ed7953\"], [0.7777777777777778, \"#fb9f3a\"], [0.8888888888888888, \"#fdca26\"], [1.0, \"#f0f921\"]], \"type\": \"histogram2dcontour\"}], \"mesh3d\": [{\"colorbar\": {\"outlinewidth\": 0, \"ticks\": \"\"}, \"type\": \"mesh3d\"}], \"parcoords\": [{\"line\": {\"colorbar\": {\"outlinewidth\": 0, \"ticks\": \"\"}}, \"type\": \"parcoords\"}], \"pie\": [{\"automargin\": true, \"type\": \"pie\"}], \"scatter\": [{\"marker\": {\"colorbar\": {\"outlinewidth\": 0, \"ticks\": \"\"}}, \"type\": \"scatter\"}], \"scatter3d\": [{\"line\": {\"colorbar\": {\"outlinewidth\": 0, \"ticks\": \"\"}}, \"marker\": {\"colorbar\": {\"outlinewidth\": 0, \"ticks\": \"\"}}, \"type\": \"scatter3d\"}], \"scattercarpet\": [{\"marker\": {\"colorbar\": {\"outlinewidth\": 0, \"ticks\": \"\"}}, \"type\": \"scattercarpet\"}], \"scattergeo\": [{\"marker\": {\"colorbar\": {\"outlinewidth\": 0, \"ticks\": \"\"}}, \"type\": \"scattergeo\"}], \"scattergl\": [{\"marker\": {\"colorbar\": {\"outlinewidth\": 0, \"ticks\": \"\"}}, \"type\": \"scattergl\"}], \"scattermapbox\": [{\"marker\": {\"colorbar\": {\"outlinewidth\": 0, \"ticks\": \"\"}}, \"type\": \"scattermapbox\"}], \"scatterpolar\": [{\"marker\": {\"colorbar\": {\"outlinewidth\": 0, \"ticks\": \"\"}}, \"type\": \"scatterpolar\"}], \"scatterpolargl\": [{\"marker\": {\"colorbar\": {\"outlinewidth\": 0, \"ticks\": \"\"}}, \"type\": \"scatterpolargl\"}], \"scatterternary\": [{\"marker\": {\"colorbar\": {\"outlinewidth\": 0, \"ticks\": \"\"}}, \"type\": \"scatterternary\"}], \"surface\": [{\"colorbar\": {\"outlinewidth\": 0, \"ticks\": \"\"}, \"colorscale\": [[0.0, \"#0d0887\"], [0.1111111111111111, \"#46039f\"], [0.2222222222222222, \"#7201a8\"], [0.3333333333333333, \"#9c179e\"], [0.4444444444444444, \"#bd3786\"], [0.5555555555555556, \"#d8576b\"], [0.6666666666666666, \"#ed7953\"], [0.7777777777777778, \"#fb9f3a\"], [0.8888888888888888, \"#fdca26\"], [1.0, \"#f0f921\"]], \"type\": \"surface\"}], \"table\": [{\"cells\": {\"fill\": {\"color\": \"#EBF0F8\"}, \"line\": {\"color\": \"white\"}}, \"header\": {\"fill\": {\"color\": \"#C8D4E3\"}, \"line\": {\"color\": \"white\"}}, \"type\": \"table\"}]}, \"layout\": {\"annotationdefaults\": {\"arrowcolor\": \"#2a3f5f\", \"arrowhead\": 0, \"arrowwidth\": 1}, \"coloraxis\": {\"colorbar\": {\"outlinewidth\": 0, \"ticks\": \"\"}}, \"colorscale\": {\"diverging\": [[0, \"#8e0152\"], [0.1, \"#c51b7d\"], [0.2, \"#de77ae\"], [0.3, \"#f1b6da\"], [0.4, \"#fde0ef\"], [0.5, \"#f7f7f7\"], [0.6, \"#e6f5d0\"], [0.7, \"#b8e186\"], [0.8, \"#7fbc41\"], [0.9, \"#4d9221\"], [1, \"#276419\"]], \"sequential\": [[0.0, \"#0d0887\"], [0.1111111111111111, \"#46039f\"], [0.2222222222222222, \"#7201a8\"], [0.3333333333333333, \"#9c179e\"], [0.4444444444444444, \"#bd3786\"], [0.5555555555555556, \"#d8576b\"], [0.6666666666666666, \"#ed7953\"], [0.7777777777777778, \"#fb9f3a\"], [0.8888888888888888, \"#fdca26\"], [1.0, \"#f0f921\"]], \"sequentialminus\": [[0.0, \"#0d0887\"], [0.1111111111111111, \"#46039f\"], [0.2222222222222222, \"#7201a8\"], [0.3333333333333333, \"#9c179e\"], [0.4444444444444444, \"#bd3786\"], [0.5555555555555556, \"#d8576b\"], [0.6666666666666666, \"#ed7953\"], [0.7777777777777778, \"#fb9f3a\"], [0.8888888888888888, \"#fdca26\"], [1.0, \"#f0f921\"]]}, \"colorway\": [\"#636efa\", \"#EF553B\", \"#00cc96\", \"#ab63fa\", \"#FFA15A\", \"#19d3f3\", \"#FF6692\", \"#B6E880\", \"#FF97FF\", \"#FECB52\"], \"font\": {\"color\": \"#2a3f5f\"}, \"geo\": {\"bgcolor\": \"white\", \"lakecolor\": \"white\", \"landcolor\": \"#E5ECF6\", \"showlakes\": true, \"showland\": true, \"subunitcolor\": \"white\"}, \"hoverlabel\": {\"align\": \"left\"}, \"hovermode\": \"closest\", \"mapbox\": {\"style\": \"light\"}, \"paper_bgcolor\": \"white\", \"plot_bgcolor\": \"#E5ECF6\", \"polar\": {\"angularaxis\": {\"gridcolor\": \"white\", \"linecolor\": \"white\", \"ticks\": \"\"}, \"bgcolor\": \"#E5ECF6\", \"radialaxis\": {\"gridcolor\": \"white\", \"linecolor\": \"white\", \"ticks\": \"\"}}, \"scene\": {\"xaxis\": {\"backgroundcolor\": \"#E5ECF6\", \"gridcolor\": \"white\", \"gridwidth\": 2, \"linecolor\": \"white\", \"showbackground\": true, \"ticks\": \"\", \"zerolinecolor\": \"white\"}, \"yaxis\": {\"backgroundcolor\": \"#E5ECF6\", \"gridcolor\": \"white\", \"gridwidth\": 2, \"linecolor\": \"white\", \"showbackground\": true, \"ticks\": \"\", \"zerolinecolor\": \"white\"}, \"zaxis\": {\"backgroundcolor\": \"#E5ECF6\", \"gridcolor\": \"white\", \"gridwidth\": 2, \"linecolor\": \"white\", \"showbackground\": true, \"ticks\": \"\", \"zerolinecolor\": \"white\"}}, \"shapedefaults\": {\"line\": {\"color\": \"#2a3f5f\"}}, \"ternary\": {\"aaxis\": {\"gridcolor\": \"white\", \"linecolor\": \"white\", \"ticks\": \"\"}, \"baxis\": {\"gridcolor\": \"white\", \"linecolor\": \"white\", \"ticks\": \"\"}, \"bgcolor\": \"#E5ECF6\", \"caxis\": {\"gridcolor\": \"white\", \"linecolor\": \"white\", \"ticks\": \"\"}}, \"title\": {\"x\": 0.05}, \"xaxis\": {\"automargin\": true, \"gridcolor\": \"white\", \"linecolor\": \"white\", \"ticks\": \"\", \"title\": {\"standoff\": 15}, \"zerolinecolor\": \"white\", \"zerolinewidth\": 2}, \"yaxis\": {\"automargin\": true, \"gridcolor\": \"white\", \"linecolor\": \"white\", \"ticks\": \"\", \"title\": {\"standoff\": 15}, \"zerolinecolor\": \"white\", \"zerolinewidth\": 2}}}, \"title\": {\"text\": \"Difficulty Measure for Colour\"}, \"xaxis\": {\"anchor\": \"y\", \"domain\": [0.0, 1.0], \"title\": {\"text\": \"difficulty\"}}, \"yaxis\": {\"anchor\": \"x\", \"domain\": [0.0, 1.0], \"title\": {\"text\": \"novel_name\"}}},\n",
       "                        {\"responsive\": true}\n",
       "                    ).then(function(){\n",
       "                            \n",
       "var gd = document.getElementById('6e28dd9a-ba75-4245-b4dc-3a2b1f191c74');\n",
       "var x = new MutationObserver(function (mutations, observer) {{\n",
       "        var display = window.getComputedStyle(gd).display;\n",
       "        if (!display || display === 'none') {{\n",
       "            console.log([gd, 'removed!']);\n",
       "            Plotly.purge(gd);\n",
       "            observer.disconnect();\n",
       "        }}\n",
       "}});\n",
       "\n",
       "// Listen for the removal of the full notebook cells\n",
       "var notebookContainer = gd.closest('#notebook-container');\n",
       "if (notebookContainer) {{\n",
       "    x.observe(notebookContainer, {childList: true});\n",
       "}}\n",
       "\n",
       "// Listen for the clearing of the current output cell\n",
       "var outputEl = gd.closest('.output');\n",
       "if (outputEl) {{\n",
       "    x.observe(outputEl, {childList: true});\n",
       "}}\n",
       "\n",
       "                        })\n",
       "                };\n",
       "                });\n",
       "            </script>\n",
       "        </div>"
      ]
     },
     "metadata": {},
     "output_type": "display_data"
    }
   ],
   "source": [
    "fig = px.scatter(dm_df, x=\"difficulty\", y=\"novel_name\", color=\"object_name\",\n",
    "                 title=\"Difficulty Measure for Colour\"\n",
    "                )\n",
    "\n",
    "fig.show()"
   ]
  },
  {
   "cell_type": "code",
   "execution_count": null,
   "metadata": {},
   "outputs": [],
   "source": []
  }
 ],
 "metadata": {
  "kernelspec": {
   "display_name": "Python 3",
   "language": "python",
   "name": "python3"
  },
  "language_info": {
   "codemirror_mode": {
    "name": "ipython",
    "version": 3
   },
   "file_extension": ".py",
   "mimetype": "text/x-python",
   "name": "python",
   "nbconvert_exporter": "python",
   "pygments_lexer": "ipython3",
   "version": "3.7.6"
  }
 },
 "nbformat": 4,
 "nbformat_minor": 4
}
